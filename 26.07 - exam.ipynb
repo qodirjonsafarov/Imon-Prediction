{
 "cells": [
  {
   "cell_type": "code",
   "execution_count": 1,
   "id": "aff8f192",
   "metadata": {},
   "outputs": [],
   "source": [
    "# Safarov Qodirjon goroup 3\n",
    "# Импротирование библиотек\n",
    "import pandas as pd\n",
    "import numpy as np\n",
    "import matplotlib.pyplot as plt \n",
    "import seaborn as sns\n"
   ]
  },
  {
   "cell_type": "code",
   "execution_count": null,
   "id": "b97f08cc",
   "metadata": {
    "pycharm": {
     "is_executing": true
    }
   },
   "outputs": [],
   "source": [
    "# Чтение файла и проверка данных\n",
    "data = pd.read_excel(r'ДатаСЕТ выдача.xlsx')\n",
    "data.head()"
   ]
  },
  {
   "cell_type": "code",
   "execution_count": 2,
   "id": "fbe9dc0c",
   "metadata": {},
   "outputs": [
    {
     "ename": "SyntaxError",
     "evalue": "invalid syntax (<ipython-input-2-0b6911f91a33>, line 2)",
     "output_type": "error",
     "traceback": [
      "\u001B[1;36m  File \u001B[1;32m\"<ipython-input-2-0b6911f91a33>\"\u001B[1;36m, line \u001B[1;32m2\u001B[0m\n\u001B[1;33m    data.info()z\u001B[0m\n\u001B[1;37m               ^\u001B[0m\n\u001B[1;31mSyntaxError\u001B[0m\u001B[1;31m:\u001B[0m invalid syntax\n"
     ]
    }
   ],
   "source": [
    "# Информация о данных\n",
    "data.info()z"
   ]
  },
  {
   "cell_type": "code",
   "execution_count": 3,
   "id": "c96e2d3f",
   "metadata": {},
   "outputs": [
    {
     "ename": "NameError",
     "evalue": "name 'data' is not defined",
     "output_type": "error",
     "traceback": [
      "\u001B[1;31m---------------------------------------------------------------------------\u001B[0m",
      "\u001B[1;31mNameError\u001B[0m                                 Traceback (most recent call last)",
      "\u001B[1;32m<ipython-input-3-fcc3f63a698e>\u001B[0m in \u001B[0;36m<module>\u001B[1;34m\u001B[0m\n\u001B[1;32m----> 1\u001B[1;33m \u001B[0mdata\u001B[0m\u001B[1;33m.\u001B[0m\u001B[0mshape\u001B[0m\u001B[1;33m\u001B[0m\u001B[1;33m\u001B[0m\u001B[0m\n\u001B[0m\u001B[0;32m      2\u001B[0m \u001B[1;33m\u001B[0m\u001B[0m\n",
      "\u001B[1;31mNameError\u001B[0m: name 'data' is not defined"
     ]
    }
   ],
   "source": [
    "\n",
    "data.shape"
   ]
  },
  {
   "cell_type": "code",
   "execution_count": null,
   "id": "f0dd42eb",
   "metadata": {},
   "outputs": [],
   "source": [
    "#1. A) Очистка или заполнение пустых ячеек\n",
    "# Проверка пустих занчений\n",
    "data.isnull().sum()"
   ]
  },
  {
   "cell_type": "code",
   "execution_count": null,
   "id": "c9e8c759",
   "metadata": {},
   "outputs": [],
   "source": [
    "# Визуализация сеймейного положене\n",
    "plt.figure(figsize = (10, 5))\n",
    "x = data['Семейное положение'].value_counts()\n",
    "sns.countplot(x= \"Семейное положение\",data= data)"
   ]
  },
  {
   "cell_type": "code",
   "execution_count": null,
   "id": "14f2b3cd",
   "metadata": {},
   "outputs": [],
   "source": [
    "# Заполнение столбца семейное положение наиболее вероятными занчениями\n",
    "data['Семейное положение'].unique()\n",
    "arr = data['Семейное положение'].dropna()\n",
    "mode = arr.mode()\n",
    "data['Семейное положение'].fillna(mode[0], inplace=True)"
   ]
  },
  {
   "cell_type": "code",
   "execution_count": null,
   "id": "d7e2288b",
   "metadata": {},
   "outputs": [],
   "source": [
    "data['Семейное положение'].unique()"
   ]
  },
  {
   "cell_type": "code",
   "execution_count": null,
   "id": "d47b6a75",
   "metadata": {},
   "outputs": [],
   "source": [
    "data.isnull().sum()"
   ]
  },
  {
   "cell_type": "code",
   "execution_count": null,
   "id": "8a0fad35",
   "metadata": {},
   "outputs": [],
   "source": [
    "# Очистка однородних данних в столбце Националность\n",
    "data['Национальность'].unique()"
   ]
  },
  {
   "cell_type": "code",
   "execution_count": null,
   "id": "25e39612",
   "metadata": {},
   "outputs": [],
   "source": [
    "data['Национальность'].replace({'Таджик': 'Точик', 'точик': 'Точик'}, inplace=True)"
   ]
  },
  {
   "cell_type": "code",
   "execution_count": 12,
   "id": "16ba9e41",
   "metadata": {},
   "outputs": [
    {
     "data": {
      "text/plain": "array(['Точик', nan, 'Узбек', 'осатин', 'Другие', 'Русский', 'Уйгур',\n       'Озарбойчон', 'уйгур', 'Татар', 'Гурчи', 'Авгон', 'Немка',\n       'туркман', 'циган'], dtype=object)"
     },
     "execution_count": 12,
     "metadata": {},
     "output_type": "execute_result"
    }
   ],
   "source": [
    "data['Национальность'].unique()"
   ]
  },
  {
   "cell_type": "code",
   "execution_count": 13,
   "id": "ddd1f31c",
   "metadata": {},
   "outputs": [
    {
     "data": {
      "text/plain": "<AxesSubplot:xlabel='Национальность', ylabel='count'>"
     },
     "execution_count": 13,
     "metadata": {},
     "output_type": "execute_result"
    },
    {
     "data": {
      "text/plain": "<Figure size 720x360 with 1 Axes>",
      "image/png": "[encoded data removed]"
     },
     "metadata": {
      "needs_background": "light"
     },
     "output_type": "display_data"
    }
   ],
   "source": [
    "# Визуализация Национальность\n",
    "plt.figure(figsize = (10, 5))\n",
    "x = data['Национальность'].value_counts()\n",
    "sns.countplot(x= \"Национальность\",data= data)"
   ]
  },
  {
   "cell_type": "code",
   "execution_count": 14,
   "id": "0a780d7e",
   "metadata": {},
   "outputs": [],
   "source": [
    "data['Национальность'].unique()\n",
    "arr2 = data['Национальность'].dropna()\n",
    "mode = arr2.mode()\n",
    "data['Национальность'].fillna(mode[0], inplace=True)"
   ]
  },
  {
   "cell_type": "code",
   "execution_count": 14,
   "id": "1641827d",
   "metadata": {},
   "outputs": [],
   "source": []
  },
  {
   "cell_type": "code",
   "execution_count": 15,
   "id": "2e1671e3",
   "metadata": {},
   "outputs": [
    {
     "data": {
      "text/plain": "Пол                                                                       0\nВозраст                                                                   0\nСемейное положение                                                        0\nНациональность                                                            0\nПовторный клиент                                                          0\nСумма выдачи номинал                                                      0\nДата выдачи                                                               0\nДата окончание срока                                                      0\nВалюта                                                                    0\nСрок                                                                      0\nТип залога                                                                0\nОбразование                                                             211\nТип бизнеса                                                               0\nЦель кредита                                                              1\nПросрочки за цикл (кумулятивный)                                          0\nДлительность самой долгой единовременной просрочки в течение цикла        0\nПросрочки на дату 07.06.2021                                              0\nЛьготный период                                                           0\nДата списания                                                             0\nСумма списания                                                        14027\ndtype: int64"
     },
     "execution_count": 15,
     "metadata": {},
     "output_type": "execute_result"
    }
   ],
   "source": [
    "data.isnull().sum()"
   ]
  },
  {
   "cell_type": "code",
   "execution_count": 16,
   "id": "c14bf616",
   "metadata": {},
   "outputs": [
    {
     "data": {
      "text/plain": "<AxesSubplot:xlabel='Образование', ylabel='count'>"
     },
     "execution_count": 16,
     "metadata": {},
     "output_type": "execute_result"
    },
    {
     "data": {
      "text/plain": "<Figure size 1440x720 with 1 Axes>",
      "image/png": "[encoded data removed]"
     },
     "metadata": {
      "needs_background": "light"
     },
     "output_type": "display_data"
    }
   ],
   "source": [
    "# Визуализация Образование\n",
    "plt.figure(figsize = (20, 10))\n",
    "x = data['Образование'].value_counts()\n",
    "sns.countplot(x= \"Образование\",data= data)"
   ]
  },
  {
   "cell_type": "code",
   "execution_count": 17,
   "id": "e76e38b0",
   "metadata": {},
   "outputs": [],
   "source": [
    "\n",
    "data['Образование'].unique()\n",
    "arr3 = data['Образование'].dropna()\n",
    "mode = arr3.mode()\n",
    "data['Образование'].fillna(mode[0], inplace=True)"
   ]
  },
  {
   "cell_type": "code",
   "execution_count": 18,
   "id": "6af520d4",
   "metadata": {},
   "outputs": [
    {
     "data": {
      "text/plain": "Пол                                                                       0\nВозраст                                                                   0\nСемейное положение                                                        0\nНациональность                                                            0\nПовторный клиент                                                          0\nСумма выдачи номинал                                                      0\nДата выдачи                                                               0\nДата окончание срока                                                      0\nВалюта                                                                    0\nСрок                                                                      0\nТип залога                                                                0\nОбразование                                                               0\nТип бизнеса                                                               0\nЦель кредита                                                              1\nПросрочки за цикл (кумулятивный)                                          0\nДлительность самой долгой единовременной просрочки в течение цикла        0\nПросрочки на дату 07.06.2021                                              0\nЛьготный период                                                           0\nДата списания                                                             0\nСумма списания                                                        14027\ndtype: int64"
     },
     "execution_count": 18,
     "metadata": {},
     "output_type": "execute_result"
    }
   ],
   "source": [
    "data.isnull().sum()"
   ]
  },
  {
   "cell_type": "code",
   "execution_count": 19,
   "id": "811233a9",
   "metadata": {},
   "outputs": [
    {
     "data": {
      "text/plain": "<AxesSubplot:xlabel='Цель кредита', ylabel='count'>"
     },
     "execution_count": 19,
     "metadata": {},
     "output_type": "execute_result"
    },
    {
     "data": {
      "text/plain": "<Figure size 1440x720 with 1 Axes>",
      "image/png": "[encoded data removed]"
     },
     "metadata": {
      "needs_background": "light"
     },
     "output_type": "display_data"
    }
   ],
   "source": [
    "# Визуализация Цель кредита\n",
    "plt.figure(figsize = (20, 10))\n",
    "x = data['Цель кредита'].value_counts()\n",
    "sns.countplot(x= \"Цель кредита\",data= data)"
   ]
  },
  {
   "cell_type": "code",
   "execution_count": 20,
   "id": "61ea6e61",
   "metadata": {},
   "outputs": [],
   "source": [
    "data['Цель кредита'].unique()\n",
    "arr4 = data['Цель кредита'].dropna()\n",
    "mode = arr4.mode()\n",
    "data['Цель кредита'].fillna(mode[0], inplace=True)"
   ]
  },
  {
   "cell_type": "code",
   "execution_count": 21,
   "id": "bbc00394",
   "metadata": {},
   "outputs": [
    {
     "data": {
      "text/plain": "Пол                                                                       0\nВозраст                                                                   0\nСемейное положение                                                        0\nНациональность                                                            0\nПовторный клиент                                                          0\nСумма выдачи номинал                                                      0\nДата выдачи                                                               0\nДата окончание срока                                                      0\nВалюта                                                                    0\nСрок                                                                      0\nТип залога                                                                0\nОбразование                                                               0\nТип бизнеса                                                               0\nЦель кредита                                                              0\nПросрочки за цикл (кумулятивный)                                          0\nДлительность самой долгой единовременной просрочки в течение цикла        0\nПросрочки на дату 07.06.2021                                              0\nЛьготный период                                                           0\nДата списания                                                             0\nСумма списания                                                        14027\ndtype: int64"
     },
     "execution_count": 21,
     "metadata": {},
     "output_type": "execute_result"
    }
   ],
   "source": [
    "data.isnull().sum()"
   ]
  },
  {
   "cell_type": "code",
   "execution_count": 22,
   "id": "3fcc6b63",
   "metadata": {},
   "outputs": [
    {
     "data": {
      "text/plain": "       Пол     Возраст Семейное положение Национальность Повторный клиент  \\\n0      Муж  05.07.1985            Married          Точик    Старый клиент   \n1      Муж  05.07.1985            Married          Точик    Старый клиент   \n2      Муж  05.07.1985            Married          Точик    Старый клиент   \n3      Жен  00.00.0000            Married          Точик    Старый клиент   \n4      Жен  00.00.0000            Married          Точик    Старый клиент   \n...    ...         ...                ...            ...              ...   \n14148  Муж  10.06.1997             Single          Точик    Старый клиент   \n14149  Жен  06.10.1993             Single          Точик    Старый клиент   \n14150  Муж  15.06.1994            Married          Точик    Старый клиент   \n14151  Муж  27.10.1971            Married          Точик    Старый клиент   \n14152  Жен  10.01.1979           Divorced          Точик    Старый клиент   \n\n       Сумма выдачи номинал Дата выдачи Дата окончание срока Валюта  Срок  \\\n0                   15000.0  25.12.2019           03.02.2022    USD    24   \n1                   35000.0  04.02.2015           03.02.2022    USD    24   \n2                   31000.0  23.12.2016           03.02.2022    USD    36   \n3                  150000.0  08.05.2015           10.05.2022    TJS    84   \n4                  250000.0  26.05.2016           10.05.2022    TJS    36   \n...                     ...         ...                  ...    ...   ...   \n14148                6000.0  07.06.2021           07.06.2022    TJS    12   \n14149               15000.0  07.06.2021           07.06.2023    TJS    24   \n14150               15000.0  07.06.2021           07.12.2022    TJS    18   \n14151                6000.0  07.06.2021           07.12.2022    TJS    18   \n14152                7000.0  07.06.2021           07.06.2023    TJS    24   \n\n                  Тип залога          Образование  \\\n0      Смешанное обеспечение   Высшее образование   \n1      Смешанное обеспечение   Высшее образование   \n2      Смешанное обеспечение   Высшее образование   \n3      Смешанное обеспечение  Среднее образование   \n4      Смешанное обеспечение  Среднее образование   \n...                      ...                  ...   \n14148         Поручительство  Среднее образование   \n14149         Поручительство  Среднее образование   \n14150         Поручительство  Среднее образование   \n14151        Не обеспеченный  Сред.спец.образ-ние   \n14152        Не обеспеченный   Высшее образование   \n\n                                     Тип бизнеса          Цель кредита  \\\n0                            4. Савдо / Торговля     Оборотный капитал   \n1                            4. Савдо / Торговля     Оборотный капитал   \n2                            4. Савдо / Торговля     Оборотный капитал   \n3                         3. Хизматрасони/Услуги     Оборотный капитал   \n4                         3. Хизматрасони/Услуги     Оборотный капитал   \n...                                          ...                   ...   \n14148  1. Карзи истеъмоли/Потребительский кредит  Потребительские цели   \n14149  1. Карзи истеъмоли/Потребительский кредит  Потребительские цели   \n14150  1. Карзи истеъмоли/Потребительский кредит  Потребительские цели   \n14151  1. Карзи истеъмоли/Потребительский кредит  Потребительские цели   \n14152  1. Карзи истеъмоли/Потребительский кредит  Потребительские цели   \n\n       Просрочки за цикл (кумулятивный)  \\\n0                                     1   \n1                                     5   \n2                                     5   \n3                                    11   \n4                                    10   \n...                                 ...   \n14148                                 0   \n14149                                 0   \n14150                                 0   \n14151                                 0   \n14152                                 0   \n\n       Длительность самой долгой единовременной просрочки в течение цикла  \\\n0                                                      1                    \n1                                                      3                    \n2                                                      4                    \n3                                                      3                    \n4                                                      2                    \n...                                                  ...                    \n14148                                                  0                    \n14149                                                  0                    \n14150                                                  0                    \n14151                                                  0                    \n14152                                                  0                    \n\n       Просрочки на дату 07.06.2021  Льготный период Дата списания  \\\n0                                 0                0    00.00.0000   \n1                                 0                0    00.00.0000   \n2                                 0                0    00.00.0000   \n3                                 0                0    00.00.0000   \n4                                 0                0    00.00.0000   \n...                             ...              ...           ...   \n14148                             0                0    00.00.0000   \n14149                             0                0    00.00.0000   \n14150                             0                0    00.00.0000   \n14151                             0                0    00.00.0000   \n14152                             0                0    00.00.0000   \n\n       Сумма списания  \n0                 NaN  \n1                 NaN  \n2                 NaN  \n3                 NaN  \n4                 NaN  \n...               ...  \n14148             NaN  \n14149             NaN  \n14150             NaN  \n14151             NaN  \n14152             NaN  \n\n[14153 rows x 20 columns]",
      "text/html": "<div>\n<style scoped>\n    .dataframe tbody tr th:only-of-type {\n        vertical-align: middle;\n    }\n\n    .dataframe tbody tr th {\n        vertical-align: top;\n    }\n\n    .dataframe thead th {\n        text-align: right;\n    }\n</style>\n<table border=\"1\" class=\"dataframe\">\n  <thead>\n    <tr style=\"text-align: right;\">\n      <th></th>\n      <th>Пол</th>\n      <th>Возраст</th>\n      <th>Семейное положение</th>\n      <th>Национальность</th>\n      <th>Повторный клиент</th>\n      <th>Сумма выдачи номинал</th>\n      <th>Дата выдачи</th>\n      <th>Дата окончание срока</th>\n      <th>Валюта</th>\n      <th>Срок</th>\n      <th>Тип залога</th>\n      <th>Образование</th>\n      <th>Тип бизнеса</th>\n      <th>Цель кредита</th>\n      <th>Просрочки за цикл (кумулятивный)</th>\n      <th>Длительность самой долгой единовременной просрочки в течение цикла</th>\n      <th>Просрочки на дату 07.06.2021</th>\n      <th>Льготный период</th>\n      <th>Дата списания</th>\n      <th>Сумма списания</th>\n    </tr>\n  </thead>\n  <tbody>\n    <tr>\n      <th>0</th>\n      <td>Муж</td>\n      <td>05.07.1985</td>\n      <td>Married</td>\n      <td>Точик</td>\n      <td>Старый клиент</td>\n      <td>15000.0</td>\n      <td>25.12.2019</td>\n      <td>03.02.2022</td>\n      <td>USD</td>\n      <td>24</td>\n      <td>Смешанное обеспечение</td>\n      <td>Высшее образование</td>\n      <td>4. Савдо / Торговля</td>\n      <td>Оборотный капитал</td>\n      <td>1</td>\n      <td>1</td>\n      <td>0</td>\n      <td>0</td>\n      <td>00.00.0000</td>\n      <td>NaN</td>\n    </tr>\n    <tr>\n      <th>1</th>\n      <td>Муж</td>\n      <td>05.07.1985</td>\n      <td>Married</td>\n      <td>Точик</td>\n      <td>Старый клиент</td>\n      <td>35000.0</td>\n      <td>04.02.2015</td>\n      <td>03.02.2022</td>\n      <td>USD</td>\n      <td>24</td>\n      <td>Смешанное обеспечение</td>\n      <td>Высшее образование</td>\n      <td>4. Савдо / Торговля</td>\n      <td>Оборотный капитал</td>\n      <td>5</td>\n      <td>3</td>\n      <td>0</td>\n      <td>0</td>\n      <td>00.00.0000</td>\n      <td>NaN</td>\n    </tr>\n    <tr>\n      <th>2</th>\n      <td>Муж</td>\n      <td>05.07.1985</td>\n      <td>Married</td>\n      <td>Точик</td>\n      <td>Старый клиент</td>\n      <td>31000.0</td>\n      <td>23.12.2016</td>\n      <td>03.02.2022</td>\n      <td>USD</td>\n      <td>36</td>\n      <td>Смешанное обеспечение</td>\n      <td>Высшее образование</td>\n      <td>4. Савдо / Торговля</td>\n      <td>Оборотный капитал</td>\n      <td>5</td>\n      <td>4</td>\n      <td>0</td>\n      <td>0</td>\n      <td>00.00.0000</td>\n      <td>NaN</td>\n    </tr>\n    <tr>\n      <th>3</th>\n      <td>Жен</td>\n      <td>00.00.0000</td>\n      <td>Married</td>\n      <td>Точик</td>\n      <td>Старый клиент</td>\n      <td>150000.0</td>\n      <td>08.05.2015</td>\n      <td>10.05.2022</td>\n      <td>TJS</td>\n      <td>84</td>\n      <td>Смешанное обеспечение</td>\n      <td>Среднее образование</td>\n      <td>3. Хизматрасони/Услуги</td>\n      <td>Оборотный капитал</td>\n      <td>11</td>\n      <td>3</td>\n      <td>0</td>\n      <td>0</td>\n      <td>00.00.0000</td>\n      <td>NaN</td>\n    </tr>\n    <tr>\n      <th>4</th>\n      <td>Жен</td>\n      <td>00.00.0000</td>\n      <td>Married</td>\n      <td>Точик</td>\n      <td>Старый клиент</td>\n      <td>250000.0</td>\n      <td>26.05.2016</td>\n      <td>10.05.2022</td>\n      <td>TJS</td>\n      <td>36</td>\n      <td>Смешанное обеспечение</td>\n      <td>Среднее образование</td>\n      <td>3. Хизматрасони/Услуги</td>\n      <td>Оборотный капитал</td>\n      <td>10</td>\n      <td>2</td>\n      <td>0</td>\n      <td>0</td>\n      <td>00.00.0000</td>\n      <td>NaN</td>\n    </tr>\n    <tr>\n      <th>...</th>\n      <td>...</td>\n      <td>...</td>\n      <td>...</td>\n      <td>...</td>\n      <td>...</td>\n      <td>...</td>\n      <td>...</td>\n      <td>...</td>\n      <td>...</td>\n      <td>...</td>\n      <td>...</td>\n      <td>...</td>\n      <td>...</td>\n      <td>...</td>\n      <td>...</td>\n      <td>...</td>\n      <td>...</td>\n      <td>...</td>\n      <td>...</td>\n      <td>...</td>\n    </tr>\n    <tr>\n      <th>14148</th>\n      <td>Муж</td>\n      <td>10.06.1997</td>\n      <td>Single</td>\n      <td>Точик</td>\n      <td>Старый клиент</td>\n      <td>6000.0</td>\n      <td>07.06.2021</td>\n      <td>07.06.2022</td>\n      <td>TJS</td>\n      <td>12</td>\n      <td>Поручительство</td>\n      <td>Среднее образование</td>\n      <td>1. Карзи истеъмоли/Потребительский кредит</td>\n      <td>Потребительские цели</td>\n      <td>0</td>\n      <td>0</td>\n      <td>0</td>\n      <td>0</td>\n      <td>00.00.0000</td>\n      <td>NaN</td>\n    </tr>\n    <tr>\n      <th>14149</th>\n      <td>Жен</td>\n      <td>06.10.1993</td>\n      <td>Single</td>\n      <td>Точик</td>\n      <td>Старый клиент</td>\n      <td>15000.0</td>\n      <td>07.06.2021</td>\n      <td>07.06.2023</td>\n      <td>TJS</td>\n      <td>24</td>\n      <td>Поручительство</td>\n      <td>Среднее образование</td>\n      <td>1. Карзи истеъмоли/Потребительский кредит</td>\n      <td>Потребительские цели</td>\n      <td>0</td>\n      <td>0</td>\n      <td>0</td>\n      <td>0</td>\n      <td>00.00.0000</td>\n      <td>NaN</td>\n    </tr>\n    <tr>\n      <th>14150</th>\n      <td>Муж</td>\n      <td>15.06.1994</td>\n      <td>Married</td>\n      <td>Точик</td>\n      <td>Старый клиент</td>\n      <td>15000.0</td>\n      <td>07.06.2021</td>\n      <td>07.12.2022</td>\n      <td>TJS</td>\n      <td>18</td>\n      <td>Поручительство</td>\n      <td>Среднее образование</td>\n      <td>1. Карзи истеъмоли/Потребительский кредит</td>\n      <td>Потребительские цели</td>\n      <td>0</td>\n      <td>0</td>\n      <td>0</td>\n      <td>0</td>\n      <td>00.00.0000</td>\n      <td>NaN</td>\n    </tr>\n    <tr>\n      <th>14151</th>\n      <td>Муж</td>\n      <td>27.10.1971</td>\n      <td>Married</td>\n      <td>Точик</td>\n      <td>Старый клиент</td>\n      <td>6000.0</td>\n      <td>07.06.2021</td>\n      <td>07.12.2022</td>\n      <td>TJS</td>\n      <td>18</td>\n      <td>Не обеспеченный</td>\n      <td>Сред.спец.образ-ние</td>\n      <td>1. Карзи истеъмоли/Потребительский кредит</td>\n      <td>Потребительские цели</td>\n      <td>0</td>\n      <td>0</td>\n      <td>0</td>\n      <td>0</td>\n      <td>00.00.0000</td>\n      <td>NaN</td>\n    </tr>\n    <tr>\n      <th>14152</th>\n      <td>Жен</td>\n      <td>10.01.1979</td>\n      <td>Divorced</td>\n      <td>Точик</td>\n      <td>Старый клиент</td>\n      <td>7000.0</td>\n      <td>07.06.2021</td>\n      <td>07.06.2023</td>\n      <td>TJS</td>\n      <td>24</td>\n      <td>Не обеспеченный</td>\n      <td>Высшее образование</td>\n      <td>1. Карзи истеъмоли/Потребительский кредит</td>\n      <td>Потребительские цели</td>\n      <td>0</td>\n      <td>0</td>\n      <td>0</td>\n      <td>0</td>\n      <td>00.00.0000</td>\n      <td>NaN</td>\n    </tr>\n  </tbody>\n</table>\n<p>14153 rows × 20 columns</p>\n</div>"
     },
     "execution_count": 22,
     "metadata": {},
     "output_type": "execute_result"
    }
   ],
   "source": [
    "data"
   ]
  },
  {
   "cell_type": "code",
   "execution_count": 23,
   "id": "339d0a4f",
   "metadata": {},
   "outputs": [
    {
     "data": {
      "text/plain": "array([         nan, 3.256760e+03, 1.184360e+03, 9.456400e+02,\n       3.958890e+03, 4.196400e+02, 1.833400e+03, 1.022820e+03,\n       3.546210e+03, 3.436970e+03, 1.716800e+02, 1.476580e+03,\n       1.058770e+03, 5.762200e+02, 4.900160e+03, 1.275824e+04,\n       2.432620e+03, 1.387930e+04, 2.000000e+04, 3.534060e+03,\n       1.066690e+03, 8.141000e+02, 1.993200e+02, 1.350430e+03,\n       5.341300e+02, 9.011960e+03, 2.331930e+03, 1.192230e+03,\n       7.679380e+03, 6.849720e+03, 3.348770e+03, 4.954500e+02,\n       7.660230e+03, 2.627500e+03, 2.839480e+03, 6.249420e+03,\n       4.284920e+03, 2.022310e+03, 1.414730e+03, 3.428300e+02,\n       4.577500e+02, 1.632460e+03, 2.770080e+03, 1.723000e+01,\n       5.528020e+03, 4.647240e+03, 1.372120e+03, 9.092900e+02,\n       6.386940e+03, 3.264760e+03, 1.121000e+02, 3.578910e+03,\n       3.863970e+03, 4.515110e+03, 8.114900e+02, 2.586320e+03,\n       2.860360e+03, 2.611200e+03, 8.379950e+03, 4.879600e+03,\n       1.442030e+03, 6.743500e+02, 8.561270e+03, 2.718990e+03,\n       2.232900e+02, 7.148870e+03, 3.348730e+03, 2.148690e+03,\n       8.521000e+02, 9.797700e+02, 3.193460e+03, 3.082920e+03,\n       1.955970e+03, 1.597600e+02, 4.112310e+03, 5.860350e+03,\n       2.461440e+03, 4.641300e+02, 8.660520e+03, 1.140350e+03,\n       7.079330e+03, 5.558700e+02, 1.125670e+03, 3.378770e+03,\n       2.291180e+03, 7.299860e+03, 5.792400e+02, 3.052510e+03,\n       4.206800e+02, 6.195300e+02, 9.826800e+02, 1.412294e+04,\n       5.191950e+03, 2.796982e+04, 4.562800e+02, 3.139240e+03,\n       1.957650e+03, 5.935300e+02, 2.875550e+03, 3.740280e+03,\n       6.155540e+03, 1.863020e+03, 1.048785e+04, 3.603200e+02,\n       5.301400e+02, 3.903530e+03, 1.111891e+04, 4.940630e+03,\n       8.560390e+03, 1.053526e+04, 6.488510e+03, 3.906970e+03,\n       2.323790e+03, 3.239120e+03, 1.840120e+03, 6.243060e+03,\n       3.588670e+03, 4.656410e+03, 8.653560e+03, 3.492100e+03,\n       9.979180e+03, 3.717670e+03, 1.284250e+03, 4.345740e+03,\n       4.274710e+03, 1.936126e+04, 1.363878e+04])"
     },
     "execution_count": 23,
     "metadata": {},
     "output_type": "execute_result"
    }
   ],
   "source": [
    "data['Сумма списания'].unique()"
   ]
  },
  {
   "cell_type": "code",
   "execution_count": 24,
   "id": "b5a28074",
   "metadata": {},
   "outputs": [
    {
     "data": {
      "text/plain": "<AxesSubplot:ylabel='Frequency'>"
     },
     "execution_count": 24,
     "metadata": {},
     "output_type": "execute_result"
    },
    {
     "data": {
      "text/plain": "<Figure size 864x432 with 1 Axes>",
      "image/png": "[encoded data removed]"
     },
     "metadata": {
      "needs_background": "light"
     },
     "output_type": "display_data"
    }
   ],
   "source": [
    "data['Сумма списания'].unique()\n",
    "arr5 = data['Сумма списания'].dropna()\n",
    "# mode = arr4.mode()\n",
    "# data['Цель кредита'].fillna(mode[0], inplace=True)\n",
    "arr5.plot(kind='hist', ec = 'black', bins=50, figsize=(12, 6))"
   ]
  },
  {
   "cell_type": "code",
   "execution_count": 25,
   "id": "1580972a",
   "metadata": {},
   "outputs": [
    {
     "data": {
      "text/plain": "   Пол     Возраст Семейное положение Национальность Повторный клиент  \\\n0  Муж  05.07.1985            Married          Точик    Старый клиент   \n1  Муж  05.07.1985            Married          Точик    Старый клиент   \n2  Муж  05.07.1985            Married          Точик    Старый клиент   \n3  Жен  00.00.0000            Married          Точик    Старый клиент   \n4  Жен  00.00.0000            Married          Точик    Старый клиент   \n\n   Сумма выдачи номинал Дата выдачи Дата окончание срока Валюта  Срок  \\\n0               15000.0  25.12.2019           03.02.2022    USD    24   \n1               35000.0  04.02.2015           03.02.2022    USD    24   \n2               31000.0  23.12.2016           03.02.2022    USD    36   \n3              150000.0  08.05.2015           10.05.2022    TJS    84   \n4              250000.0  26.05.2016           10.05.2022    TJS    36   \n\n              Тип залога          Образование             Тип бизнеса  \\\n0  Смешанное обеспечение   Высшее образование     4. Савдо / Торговля   \n1  Смешанное обеспечение   Высшее образование     4. Савдо / Торговля   \n2  Смешанное обеспечение   Высшее образование     4. Савдо / Торговля   \n3  Смешанное обеспечение  Среднее образование  3. Хизматрасони/Услуги   \n4  Смешанное обеспечение  Среднее образование  3. Хизматрасони/Услуги   \n\n        Цель кредита  Просрочки за цикл (кумулятивный)  \\\n0  Оборотный капитал                                 1   \n1  Оборотный капитал                                 5   \n2  Оборотный капитал                                 5   \n3  Оборотный капитал                                11   \n4  Оборотный капитал                                10   \n\n   Длительность самой долгой единовременной просрочки в течение цикла  \\\n0                                                  1                    \n1                                                  3                    \n2                                                  4                    \n3                                                  3                    \n4                                                  2                    \n\n   Просрочки на дату 07.06.2021  Льготный период Дата списания  Сумма списания  \n0                             0                0    00.00.0000             NaN  \n1                             0                0    00.00.0000             NaN  \n2                             0                0    00.00.0000             NaN  \n3                             0                0    00.00.0000             NaN  \n4                             0                0    00.00.0000             NaN  ",
      "text/html": "<div>\n<style scoped>\n    .dataframe tbody tr th:only-of-type {\n        vertical-align: middle;\n    }\n\n    .dataframe tbody tr th {\n        vertical-align: top;\n    }\n\n    .dataframe thead th {\n        text-align: right;\n    }\n</style>\n<table border=\"1\" class=\"dataframe\">\n  <thead>\n    <tr style=\"text-align: right;\">\n      <th></th>\n      <th>Пол</th>\n      <th>Возраст</th>\n      <th>Семейное положение</th>\n      <th>Национальность</th>\n      <th>Повторный клиент</th>\n      <th>Сумма выдачи номинал</th>\n      <th>Дата выдачи</th>\n      <th>Дата окончание срока</th>\n      <th>Валюта</th>\n      <th>Срок</th>\n      <th>Тип залога</th>\n      <th>Образование</th>\n      <th>Тип бизнеса</th>\n      <th>Цель кредита</th>\n      <th>Просрочки за цикл (кумулятивный)</th>\n      <th>Длительность самой долгой единовременной просрочки в течение цикла</th>\n      <th>Просрочки на дату 07.06.2021</th>\n      <th>Льготный период</th>\n      <th>Дата списания</th>\n      <th>Сумма списания</th>\n    </tr>\n  </thead>\n  <tbody>\n    <tr>\n      <th>0</th>\n      <td>Муж</td>\n      <td>05.07.1985</td>\n      <td>Married</td>\n      <td>Точик</td>\n      <td>Старый клиент</td>\n      <td>15000.0</td>\n      <td>25.12.2019</td>\n      <td>03.02.2022</td>\n      <td>USD</td>\n      <td>24</td>\n      <td>Смешанное обеспечение</td>\n      <td>Высшее образование</td>\n      <td>4. Савдо / Торговля</td>\n      <td>Оборотный капитал</td>\n      <td>1</td>\n      <td>1</td>\n      <td>0</td>\n      <td>0</td>\n      <td>00.00.0000</td>\n      <td>NaN</td>\n    </tr>\n    <tr>\n      <th>1</th>\n      <td>Муж</td>\n      <td>05.07.1985</td>\n      <td>Married</td>\n      <td>Точик</td>\n      <td>Старый клиент</td>\n      <td>35000.0</td>\n      <td>04.02.2015</td>\n      <td>03.02.2022</td>\n      <td>USD</td>\n      <td>24</td>\n      <td>Смешанное обеспечение</td>\n      <td>Высшее образование</td>\n      <td>4. Савдо / Торговля</td>\n      <td>Оборотный капитал</td>\n      <td>5</td>\n      <td>3</td>\n      <td>0</td>\n      <td>0</td>\n      <td>00.00.0000</td>\n      <td>NaN</td>\n    </tr>\n    <tr>\n      <th>2</th>\n      <td>Муж</td>\n      <td>05.07.1985</td>\n      <td>Married</td>\n      <td>Точик</td>\n      <td>Старый клиент</td>\n      <td>31000.0</td>\n      <td>23.12.2016</td>\n      <td>03.02.2022</td>\n      <td>USD</td>\n      <td>36</td>\n      <td>Смешанное обеспечение</td>\n      <td>Высшее образование</td>\n      <td>4. Савдо / Торговля</td>\n      <td>Оборотный капитал</td>\n      <td>5</td>\n      <td>4</td>\n      <td>0</td>\n      <td>0</td>\n      <td>00.00.0000</td>\n      <td>NaN</td>\n    </tr>\n    <tr>\n      <th>3</th>\n      <td>Жен</td>\n      <td>00.00.0000</td>\n      <td>Married</td>\n      <td>Точик</td>\n      <td>Старый клиент</td>\n      <td>150000.0</td>\n      <td>08.05.2015</td>\n      <td>10.05.2022</td>\n      <td>TJS</td>\n      <td>84</td>\n      <td>Смешанное обеспечение</td>\n      <td>Среднее образование</td>\n      <td>3. Хизматрасони/Услуги</td>\n      <td>Оборотный капитал</td>\n      <td>11</td>\n      <td>3</td>\n      <td>0</td>\n      <td>0</td>\n      <td>00.00.0000</td>\n      <td>NaN</td>\n    </tr>\n    <tr>\n      <th>4</th>\n      <td>Жен</td>\n      <td>00.00.0000</td>\n      <td>Married</td>\n      <td>Точик</td>\n      <td>Старый клиент</td>\n      <td>250000.0</td>\n      <td>26.05.2016</td>\n      <td>10.05.2022</td>\n      <td>TJS</td>\n      <td>36</td>\n      <td>Смешанное обеспечение</td>\n      <td>Среднее образование</td>\n      <td>3. Хизматрасони/Услуги</td>\n      <td>Оборотный капитал</td>\n      <td>10</td>\n      <td>2</td>\n      <td>0</td>\n      <td>0</td>\n      <td>00.00.0000</td>\n      <td>NaN</td>\n    </tr>\n  </tbody>\n</table>\n</div>"
     },
     "execution_count": 25,
     "metadata": {},
     "output_type": "execute_result"
    }
   ],
   "source": [
    "data.head()"
   ]
  },
  {
   "cell_type": "code",
   "execution_count": 26,
   "id": "71ddb73b",
   "metadata": {},
   "outputs": [
    {
     "data": {
      "text/plain": "array(['00.00.0000', '29.12.2020', '31.12.2019', '25.10.2018',\n       '11.02.2020', '04.11.2019', '27.11.2019', '06.03.2020',\n       '10.06.2020', '30.09.2020', '30.10.2020'], dtype=object)"
     },
     "execution_count": 26,
     "metadata": {},
     "output_type": "execute_result"
    }
   ],
   "source": [
    "data['Дата списания'].unique()"
   ]
  },
  {
   "cell_type": "code",
   "execution_count": 27,
   "id": "74b2524b",
   "metadata": {},
   "outputs": [],
   "source": [
    "# Поссколку рузултат дату выдачи и дату окончание срока описивает столбец Просрочка мы удали ми эти столбци\n",
    "# Сиписок ненужних столбцов ['Дата списания', 'Длительность самой долгой единовременной просрочки в течение цикла']\n",
    "# 'Просрочки на дату 07.06.2021', 'Льготный период', 'Сумма выдачи номинал'"
   ]
  },
  {
   "cell_type": "code",
   "execution_count": 28,
   "id": "766d8872",
   "metadata": {},
   "outputs": [],
   "source": [
    "data.drop(columns=['Дата списания', 'Длительность самой долгой единовременной просрочки в течение цикла',\n",
    "                  'Просрочки на дату 07.06.2021', 'Льготный период', 'Сумма выдачи номинал', 'Сумма списания', 'Дата окончание срока'], inplace=True)"
   ]
  },
  {
   "cell_type": "code",
   "execution_count": 29,
   "id": "21ae563d",
   "metadata": {},
   "outputs": [
    {
     "data": {
      "text/plain": "array(['05.07.1985', '00.00.0000', '28.05.1990', ..., '23.10.1993',\n       '09.12.2000', '27.10.1971'], dtype=object)"
     },
     "execution_count": 29,
     "metadata": {},
     "output_type": "execute_result"
    }
   ],
   "source": [
    "data.head()\n",
    "data['Возраст'].unique()"
   ]
  },
  {
   "cell_type": "code",
   "execution_count": 30,
   "id": "c4767779",
   "metadata": {},
   "outputs": [
    {
     "data": {
      "text/plain": "array(['05.07.1985', '00.00.0000', '28.05.1990', ..., '23.10.1993',\n       '09.12.2000', '27.10.1971'], dtype=object)"
     },
     "execution_count": 30,
     "metadata": {},
     "output_type": "execute_result"
    }
   ],
   "source": [
    "data['Возраст'].unique()"
   ]
  },
  {
   "cell_type": "code",
   "execution_count": 31,
   "id": "e8e7880c",
   "metadata": {},
   "outputs": [
    {
     "name": "stderr",
     "output_type": "stream",
     "text": [
      "<ipython-input-31-1f41a5b3ec05>:10: FutureWarning: The default value of regex will change from True to False in a future version. In addition, single character regular expressions will*not* be treated as literal strings when regex=True.\n",
      "  data['Возраст'] = data['Возраст'].str.replace('.', '')\n"
     ]
    }
   ],
   "source": [
    "# Преобразование категориальные переменные в фиктивные переменные (переменные с значением 0 и 1) и т.д\n",
    "\n",
    "data['Возраст'].dtypes.name\n",
    "data['Возраст'] = data['Возраст'].convert_dtypes()\n",
    "data['Возраст'].dtypes.name\n",
    "\n",
    "data['Возраст'].dtypes.name\n",
    "\n",
    "data[\"Возраст\"] = data[\"Возраст\"].astype(str)\n",
    "data['Возраст'] = data['Возраст'].str.replace('.', '')\n"
   ]
  },
  {
   "cell_type": "code",
   "execution_count": 32,
   "id": "1a39af3a",
   "metadata": {},
   "outputs": [
    {
     "data": {
      "text/plain": "   Пол   Возраст Семейное положение Национальность Повторный клиент  \\\n0  Муж  05071985            Married          Точик    Старый клиент   \n1  Муж  05071985            Married          Точик    Старый клиент   \n2  Муж  05071985            Married          Точик    Старый клиент   \n3  Жен  00000000            Married          Точик    Старый клиент   \n4  Жен  00000000            Married          Точик    Старый клиент   \n\n  Дата выдачи Валюта  Срок             Тип залога          Образование  \\\n0  25.12.2019    USD    24  Смешанное обеспечение   Высшее образование   \n1  04.02.2015    USD    24  Смешанное обеспечение   Высшее образование   \n2  23.12.2016    USD    36  Смешанное обеспечение   Высшее образование   \n3  08.05.2015    TJS    84  Смешанное обеспечение  Среднее образование   \n4  26.05.2016    TJS    36  Смешанное обеспечение  Среднее образование   \n\n              Тип бизнеса       Цель кредита  Просрочки за цикл (кумулятивный)  \n0     4. Савдо / Торговля  Оборотный капитал                                 1  \n1     4. Савдо / Торговля  Оборотный капитал                                 5  \n2     4. Савдо / Торговля  Оборотный капитал                                 5  \n3  3. Хизматрасони/Услуги  Оборотный капитал                                11  \n4  3. Хизматрасони/Услуги  Оборотный капитал                                10  ",
      "text/html": "<div>\n<style scoped>\n    .dataframe tbody tr th:only-of-type {\n        vertical-align: middle;\n    }\n\n    .dataframe tbody tr th {\n        vertical-align: top;\n    }\n\n    .dataframe thead th {\n        text-align: right;\n    }\n</style>\n<table border=\"1\" class=\"dataframe\">\n  <thead>\n    <tr style=\"text-align: right;\">\n      <th></th>\n      <th>Пол</th>\n      <th>Возраст</th>\n      <th>Семейное положение</th>\n      <th>Национальность</th>\n      <th>Повторный клиент</th>\n      <th>Дата выдачи</th>\n      <th>Валюта</th>\n      <th>Срок</th>\n      <th>Тип залога</th>\n      <th>Образование</th>\n      <th>Тип бизнеса</th>\n      <th>Цель кредита</th>\n      <th>Просрочки за цикл (кумулятивный)</th>\n    </tr>\n  </thead>\n  <tbody>\n    <tr>\n      <th>0</th>\n      <td>Муж</td>\n      <td>05071985</td>\n      <td>Married</td>\n      <td>Точик</td>\n      <td>Старый клиент</td>\n      <td>25.12.2019</td>\n      <td>USD</td>\n      <td>24</td>\n      <td>Смешанное обеспечение</td>\n      <td>Высшее образование</td>\n      <td>4. Савдо / Торговля</td>\n      <td>Оборотный капитал</td>\n      <td>1</td>\n    </tr>\n    <tr>\n      <th>1</th>\n      <td>Муж</td>\n      <td>05071985</td>\n      <td>Married</td>\n      <td>Точик</td>\n      <td>Старый клиент</td>\n      <td>04.02.2015</td>\n      <td>USD</td>\n      <td>24</td>\n      <td>Смешанное обеспечение</td>\n      <td>Высшее образование</td>\n      <td>4. Савдо / Торговля</td>\n      <td>Оборотный капитал</td>\n      <td>5</td>\n    </tr>\n    <tr>\n      <th>2</th>\n      <td>Муж</td>\n      <td>05071985</td>\n      <td>Married</td>\n      <td>Точик</td>\n      <td>Старый клиент</td>\n      <td>23.12.2016</td>\n      <td>USD</td>\n      <td>36</td>\n      <td>Смешанное обеспечение</td>\n      <td>Высшее образование</td>\n      <td>4. Савдо / Торговля</td>\n      <td>Оборотный капитал</td>\n      <td>5</td>\n    </tr>\n    <tr>\n      <th>3</th>\n      <td>Жен</td>\n      <td>00000000</td>\n      <td>Married</td>\n      <td>Точик</td>\n      <td>Старый клиент</td>\n      <td>08.05.2015</td>\n      <td>TJS</td>\n      <td>84</td>\n      <td>Смешанное обеспечение</td>\n      <td>Среднее образование</td>\n      <td>3. Хизматрасони/Услуги</td>\n      <td>Оборотный капитал</td>\n      <td>11</td>\n    </tr>\n    <tr>\n      <th>4</th>\n      <td>Жен</td>\n      <td>00000000</td>\n      <td>Married</td>\n      <td>Точик</td>\n      <td>Старый клиент</td>\n      <td>26.05.2016</td>\n      <td>TJS</td>\n      <td>36</td>\n      <td>Смешанное обеспечение</td>\n      <td>Среднее образование</td>\n      <td>3. Хизматрасони/Услуги</td>\n      <td>Оборотный капитал</td>\n      <td>10</td>\n    </tr>\n  </tbody>\n</table>\n</div>"
     },
     "execution_count": 32,
     "metadata": {},
     "output_type": "execute_result"
    }
   ],
   "source": [
    "data.head()"
   ]
  },
  {
   "cell_type": "code",
   "execution_count": 33,
   "id": "d8b720bc",
   "metadata": {},
   "outputs": [],
   "source": [
    "data['Возраст'] = data['Возраст'].str[4::]\n",
    "data[\"Возраст\"] = data[\"Возраст\"].astype(int)"
   ]
  },
  {
   "cell_type": "code",
   "execution_count": 34,
   "id": "25c473c8",
   "metadata": {},
   "outputs": [],
   "source": [
    "data['Возраст'] = 2021 - data['Возраст']"
   ]
  },
  {
   "cell_type": "code",
   "execution_count": 35,
   "id": "c0424ffd",
   "metadata": {},
   "outputs": [
    {
     "data": {
      "text/plain": "   Пол  Возраст Семейное положение Национальность Повторный клиент  \\\n0  Муж       36            Married          Точик    Старый клиент   \n1  Муж       36            Married          Точик    Старый клиент   \n2  Муж       36            Married          Точик    Старый клиент   \n3  Жен     2021            Married          Точик    Старый клиент   \n4  Жен     2021            Married          Точик    Старый клиент   \n\n  Дата выдачи Валюта  Срок             Тип залога          Образование  \\\n0  25.12.2019    USD    24  Смешанное обеспечение   Высшее образование   \n1  04.02.2015    USD    24  Смешанное обеспечение   Высшее образование   \n2  23.12.2016    USD    36  Смешанное обеспечение   Высшее образование   \n3  08.05.2015    TJS    84  Смешанное обеспечение  Среднее образование   \n4  26.05.2016    TJS    36  Смешанное обеспечение  Среднее образование   \n\n              Тип бизнеса       Цель кредита  Просрочки за цикл (кумулятивный)  \n0     4. Савдо / Торговля  Оборотный капитал                                 1  \n1     4. Савдо / Торговля  Оборотный капитал                                 5  \n2     4. Савдо / Торговля  Оборотный капитал                                 5  \n3  3. Хизматрасони/Услуги  Оборотный капитал                                11  \n4  3. Хизматрасони/Услуги  Оборотный капитал                                10  ",
      "text/html": "<div>\n<style scoped>\n    .dataframe tbody tr th:only-of-type {\n        vertical-align: middle;\n    }\n\n    .dataframe tbody tr th {\n        vertical-align: top;\n    }\n\n    .dataframe thead th {\n        text-align: right;\n    }\n</style>\n<table border=\"1\" class=\"dataframe\">\n  <thead>\n    <tr style=\"text-align: right;\">\n      <th></th>\n      <th>Пол</th>\n      <th>Возраст</th>\n      <th>Семейное положение</th>\n      <th>Национальность</th>\n      <th>Повторный клиент</th>\n      <th>Дата выдачи</th>\n      <th>Валюта</th>\n      <th>Срок</th>\n      <th>Тип залога</th>\n      <th>Образование</th>\n      <th>Тип бизнеса</th>\n      <th>Цель кредита</th>\n      <th>Просрочки за цикл (кумулятивный)</th>\n    </tr>\n  </thead>\n  <tbody>\n    <tr>\n      <th>0</th>\n      <td>Муж</td>\n      <td>36</td>\n      <td>Married</td>\n      <td>Точик</td>\n      <td>Старый клиент</td>\n      <td>25.12.2019</td>\n      <td>USD</td>\n      <td>24</td>\n      <td>Смешанное обеспечение</td>\n      <td>Высшее образование</td>\n      <td>4. Савдо / Торговля</td>\n      <td>Оборотный капитал</td>\n      <td>1</td>\n    </tr>\n    <tr>\n      <th>1</th>\n      <td>Муж</td>\n      <td>36</td>\n      <td>Married</td>\n      <td>Точик</td>\n      <td>Старый клиент</td>\n      <td>04.02.2015</td>\n      <td>USD</td>\n      <td>24</td>\n      <td>Смешанное обеспечение</td>\n      <td>Высшее образование</td>\n      <td>4. Савдо / Торговля</td>\n      <td>Оборотный капитал</td>\n      <td>5</td>\n    </tr>\n    <tr>\n      <th>2</th>\n      <td>Муж</td>\n      <td>36</td>\n      <td>Married</td>\n      <td>Точик</td>\n      <td>Старый клиент</td>\n      <td>23.12.2016</td>\n      <td>USD</td>\n      <td>36</td>\n      <td>Смешанное обеспечение</td>\n      <td>Высшее образование</td>\n      <td>4. Савдо / Торговля</td>\n      <td>Оборотный капитал</td>\n      <td>5</td>\n    </tr>\n    <tr>\n      <th>3</th>\n      <td>Жен</td>\n      <td>2021</td>\n      <td>Married</td>\n      <td>Точик</td>\n      <td>Старый клиент</td>\n      <td>08.05.2015</td>\n      <td>TJS</td>\n      <td>84</td>\n      <td>Смешанное обеспечение</td>\n      <td>Среднее образование</td>\n      <td>3. Хизматрасони/Услуги</td>\n      <td>Оборотный капитал</td>\n      <td>11</td>\n    </tr>\n    <tr>\n      <th>4</th>\n      <td>Жен</td>\n      <td>2021</td>\n      <td>Married</td>\n      <td>Точик</td>\n      <td>Старый клиент</td>\n      <td>26.05.2016</td>\n      <td>TJS</td>\n      <td>36</td>\n      <td>Смешанное обеспечение</td>\n      <td>Среднее образование</td>\n      <td>3. Хизматрасони/Услуги</td>\n      <td>Оборотный капитал</td>\n      <td>10</td>\n    </tr>\n  </tbody>\n</table>\n</div>"
     },
     "execution_count": 35,
     "metadata": {},
     "output_type": "execute_result"
    }
   ],
   "source": [
    "data.head()"
   ]
  },
  {
   "cell_type": "code",
   "execution_count": 36,
   "id": "6d86e8d4",
   "metadata": {},
   "outputs": [
    {
     "data": {
      "text/plain": "<AxesSubplot:xlabel='Возраст', ylabel='count'>"
     },
     "execution_count": 36,
     "metadata": {},
     "output_type": "execute_result"
    },
    {
     "data": {
      "text/plain": "<Figure size 1440x720 with 1 Axes>",
      "image/png": "[encoded data removed]"
     },
     "metadata": {
      "needs_background": "light"
     },
     "output_type": "display_data"
    }
   ],
   "source": [
    "plt.figure(figsize = (20, 10))\n",
    "x = data['Возраст'].value_counts()\n",
    "sns.countplot(x= \"Возраст\",data= data)"
   ]
  },
  {
   "cell_type": "code",
   "execution_count": 37,
   "id": "bea9cdcd",
   "metadata": {},
   "outputs": [],
   "source": [
    "# Посколку 2021 это не реалный возраст мы заменим его на часто встерачющый возараст\n",
    "data['Возраст'].unique()\n",
    "mode = data['Возраст'].mode()\n",
    "arr6 = []\n",
    "for i in data[\"Возраст\"]:\n",
    "    if int(i) == 2021:\n",
    "        arr6.append(int(mode))\n",
    "    else:\n",
    "        arr6.append(int(i))\n",
    "data['Возраст'] = arr6"
   ]
  },
  {
   "cell_type": "code",
   "execution_count": 38,
   "id": "9033352d",
   "metadata": {},
   "outputs": [
    {
     "data": {
      "text/plain": "array([36, 30, 31, 27, 47, 53, 33, 54, 50, 58, 59, 35, 52, 55, 29, 24, 45,\n       44, 28, 41, 46, 25, 49, 34, 51, 32, 56, 61, 37, 26, 38, 43, 48, 42,\n       39, 57, 22, 63, 65, 23, 64, 62, 40, 60, 73, 66, 68, 67, 21, 70, 69,\n       20, 71, 78, 19], dtype=int64)"
     },
     "execution_count": 38,
     "metadata": {},
     "output_type": "execute_result"
    }
   ],
   "source": [
    "data['Возраст'].unique()"
   ]
  },
  {
   "cell_type": "code",
   "execution_count": 39,
   "id": "6ca94521",
   "metadata": {},
   "outputs": [
    {
     "data": {
      "text/plain": "            Возраст          Срок  Просрочки за цикл (кумулятивный)\ncount  14153.000000  14153.000000                      14153.000000\nmean      38.407052     15.666219                         28.192892\nstd       11.618932      5.525541                         89.833741\nmin       19.000000      0.000000                          0.000000\n25%       29.000000     12.000000                          0.000000\n50%       36.000000     12.000000                          1.000000\n75%       48.000000     18.000000                         12.000000\nmax       78.000000    120.000000                       1749.000000",
      "text/html": "<div>\n<style scoped>\n    .dataframe tbody tr th:only-of-type {\n        vertical-align: middle;\n    }\n\n    .dataframe tbody tr th {\n        vertical-align: top;\n    }\n\n    .dataframe thead th {\n        text-align: right;\n    }\n</style>\n<table border=\"1\" class=\"dataframe\">\n  <thead>\n    <tr style=\"text-align: right;\">\n      <th></th>\n      <th>Возраст</th>\n      <th>Срок</th>\n      <th>Просрочки за цикл (кумулятивный)</th>\n    </tr>\n  </thead>\n  <tbody>\n    <tr>\n      <th>count</th>\n      <td>14153.000000</td>\n      <td>14153.000000</td>\n      <td>14153.000000</td>\n    </tr>\n    <tr>\n      <th>mean</th>\n      <td>38.407052</td>\n      <td>15.666219</td>\n      <td>28.192892</td>\n    </tr>\n    <tr>\n      <th>std</th>\n      <td>11.618932</td>\n      <td>5.525541</td>\n      <td>89.833741</td>\n    </tr>\n    <tr>\n      <th>min</th>\n      <td>19.000000</td>\n      <td>0.000000</td>\n      <td>0.000000</td>\n    </tr>\n    <tr>\n      <th>25%</th>\n      <td>29.000000</td>\n      <td>12.000000</td>\n      <td>0.000000</td>\n    </tr>\n    <tr>\n      <th>50%</th>\n      <td>36.000000</td>\n      <td>12.000000</td>\n      <td>1.000000</td>\n    </tr>\n    <tr>\n      <th>75%</th>\n      <td>48.000000</td>\n      <td>18.000000</td>\n      <td>12.000000</td>\n    </tr>\n    <tr>\n      <th>max</th>\n      <td>78.000000</td>\n      <td>120.000000</td>\n      <td>1749.000000</td>\n    </tr>\n  </tbody>\n</table>\n</div>"
     },
     "execution_count": 39,
     "metadata": {},
     "output_type": "execute_result"
    }
   ],
   "source": [
    "# 2.Проведите исследовательский анализ данных (Exploratory data analysis) 20/100 - баллов\n",
    "data.describe()"
   ]
  },
  {
   "cell_type": "code",
   "execution_count": 40,
   "id": "5256bf2e",
   "metadata": {},
   "outputs": [
    {
     "data": {
      "text/plain": "          Пол       Возраст Семейное положение Национальность  \\\ncount   14153  14153.000000              14153          14153   \nunique      2           NaN                  4             14   \ntop       Муж           NaN            Married          Точик   \nfreq     8428           NaN               9523          13536   \nmean      NaN     38.407052                NaN            NaN   \nstd       NaN     11.618932                NaN            NaN   \nmin       NaN     19.000000                NaN            NaN   \n25%       NaN     29.000000                NaN            NaN   \n50%       NaN     36.000000                NaN            NaN   \n75%       NaN     48.000000                NaN            NaN   \nmax       NaN     78.000000                NaN            NaN   \n\n       Повторный клиент Дата выдачи Валюта          Срок      Тип залога  \\\ncount             14153       14153  14153  14153.000000           14153   \nunique                2         787      3           NaN               7   \ntop       Старый клиент  20.03.2019    TJS           NaN  Поручительство   \nfreq              10745          44  14090           NaN            8834   \nmean                NaN         NaN    NaN     15.666219             NaN   \nstd                 NaN         NaN    NaN      5.525541             NaN   \nmin                 NaN         NaN    NaN      0.000000             NaN   \n25%                 NaN         NaN    NaN     12.000000             NaN   \n50%                 NaN         NaN    NaN     12.000000             NaN   \n75%                 NaN         NaN    NaN     18.000000             NaN   \nmax                 NaN         NaN    NaN    120.000000             NaN   \n\n                Образование                                Тип бизнеса  \\\ncount                 14153                                      14153   \nunique                    6                                          8   \ntop     Среднее образование  1. Карзи истеъмоли/Потребительский кредит   \nfreq                   7668                                       8410   \nmean                    NaN                                        NaN   \nstd                     NaN                                        NaN   \nmin                     NaN                                        NaN   \n25%                     NaN                                        NaN   \n50%                     NaN                                        NaN   \n75%                     NaN                                        NaN   \nmax                     NaN                                        NaN   \n\n                Цель кредита  Просрочки за цикл (кумулятивный)  \ncount                  14153                      14153.000000  \nunique                     8                               NaN  \ntop     Потребительские цели                               NaN  \nfreq                   13173                               NaN  \nmean                     NaN                         28.192892  \nstd                      NaN                         89.833741  \nmin                      NaN                          0.000000  \n25%                      NaN                          0.000000  \n50%                      NaN                          1.000000  \n75%                      NaN                         12.000000  \nmax                      NaN                       1749.000000  ",
      "text/html": "<div>\n<style scoped>\n    .dataframe tbody tr th:only-of-type {\n        vertical-align: middle;\n    }\n\n    .dataframe tbody tr th {\n        vertical-align: top;\n    }\n\n    .dataframe thead th {\n        text-align: right;\n    }\n</style>\n<table border=\"1\" class=\"dataframe\">\n  <thead>\n    <tr style=\"text-align: right;\">\n      <th></th>\n      <th>Пол</th>\n      <th>Возраст</th>\n      <th>Семейное положение</th>\n      <th>Национальность</th>\n      <th>Повторный клиент</th>\n      <th>Дата выдачи</th>\n      <th>Валюта</th>\n      <th>Срок</th>\n      <th>Тип залога</th>\n      <th>Образование</th>\n      <th>Тип бизнеса</th>\n      <th>Цель кредита</th>\n      <th>Просрочки за цикл (кумулятивный)</th>\n    </tr>\n  </thead>\n  <tbody>\n    <tr>\n      <th>count</th>\n      <td>14153</td>\n      <td>14153.000000</td>\n      <td>14153</td>\n      <td>14153</td>\n      <td>14153</td>\n      <td>14153</td>\n      <td>14153</td>\n      <td>14153.000000</td>\n      <td>14153</td>\n      <td>14153</td>\n      <td>14153</td>\n      <td>14153</td>\n      <td>14153.000000</td>\n    </tr>\n    <tr>\n      <th>unique</th>\n      <td>2</td>\n      <td>NaN</td>\n      <td>4</td>\n      <td>14</td>\n      <td>2</td>\n      <td>787</td>\n      <td>3</td>\n      <td>NaN</td>\n      <td>7</td>\n      <td>6</td>\n      <td>8</td>\n      <td>8</td>\n      <td>NaN</td>\n    </tr>\n    <tr>\n      <th>top</th>\n      <td>Муж</td>\n      <td>NaN</td>\n      <td>Married</td>\n      <td>Точик</td>\n      <td>Старый клиент</td>\n      <td>20.03.2019</td>\n      <td>TJS</td>\n      <td>NaN</td>\n      <td>Поручительство</td>\n      <td>Среднее образование</td>\n      <td>1. Карзи истеъмоли/Потребительский кредит</td>\n      <td>Потребительские цели</td>\n      <td>NaN</td>\n    </tr>\n    <tr>\n      <th>freq</th>\n      <td>8428</td>\n      <td>NaN</td>\n      <td>9523</td>\n      <td>13536</td>\n      <td>10745</td>\n      <td>44</td>\n      <td>14090</td>\n      <td>NaN</td>\n      <td>8834</td>\n      <td>7668</td>\n      <td>8410</td>\n      <td>13173</td>\n      <td>NaN</td>\n    </tr>\n    <tr>\n      <th>mean</th>\n      <td>NaN</td>\n      <td>38.407052</td>\n      <td>NaN</td>\n      <td>NaN</td>\n      <td>NaN</td>\n      <td>NaN</td>\n      <td>NaN</td>\n      <td>15.666219</td>\n      <td>NaN</td>\n      <td>NaN</td>\n      <td>NaN</td>\n      <td>NaN</td>\n      <td>28.192892</td>\n    </tr>\n    <tr>\n      <th>std</th>\n      <td>NaN</td>\n      <td>11.618932</td>\n      <td>NaN</td>\n      <td>NaN</td>\n      <td>NaN</td>\n      <td>NaN</td>\n      <td>NaN</td>\n      <td>5.525541</td>\n      <td>NaN</td>\n      <td>NaN</td>\n      <td>NaN</td>\n      <td>NaN</td>\n      <td>89.833741</td>\n    </tr>\n    <tr>\n      <th>min</th>\n      <td>NaN</td>\n      <td>19.000000</td>\n      <td>NaN</td>\n      <td>NaN</td>\n      <td>NaN</td>\n      <td>NaN</td>\n      <td>NaN</td>\n      <td>0.000000</td>\n      <td>NaN</td>\n      <td>NaN</td>\n      <td>NaN</td>\n      <td>NaN</td>\n      <td>0.000000</td>\n    </tr>\n    <tr>\n      <th>25%</th>\n      <td>NaN</td>\n      <td>29.000000</td>\n      <td>NaN</td>\n      <td>NaN</td>\n      <td>NaN</td>\n      <td>NaN</td>\n      <td>NaN</td>\n      <td>12.000000</td>\n      <td>NaN</td>\n      <td>NaN</td>\n      <td>NaN</td>\n      <td>NaN</td>\n      <td>0.000000</td>\n    </tr>\n    <tr>\n      <th>50%</th>\n      <td>NaN</td>\n      <td>36.000000</td>\n      <td>NaN</td>\n      <td>NaN</td>\n      <td>NaN</td>\n      <td>NaN</td>\n      <td>NaN</td>\n      <td>12.000000</td>\n      <td>NaN</td>\n      <td>NaN</td>\n      <td>NaN</td>\n      <td>NaN</td>\n      <td>1.000000</td>\n    </tr>\n    <tr>\n      <th>75%</th>\n      <td>NaN</td>\n      <td>48.000000</td>\n      <td>NaN</td>\n      <td>NaN</td>\n      <td>NaN</td>\n      <td>NaN</td>\n      <td>NaN</td>\n      <td>18.000000</td>\n      <td>NaN</td>\n      <td>NaN</td>\n      <td>NaN</td>\n      <td>NaN</td>\n      <td>12.000000</td>\n    </tr>\n    <tr>\n      <th>max</th>\n      <td>NaN</td>\n      <td>78.000000</td>\n      <td>NaN</td>\n      <td>NaN</td>\n      <td>NaN</td>\n      <td>NaN</td>\n      <td>NaN</td>\n      <td>120.000000</td>\n      <td>NaN</td>\n      <td>NaN</td>\n      <td>NaN</td>\n      <td>NaN</td>\n      <td>1749.000000</td>\n    </tr>\n  </tbody>\n</table>\n</div>"
     },
     "execution_count": 40,
     "metadata": {},
     "output_type": "execute_result"
    }
   ],
   "source": [
    "data.describe(include='all')"
   ]
  },
  {
   "cell_type": "code",
   "execution_count": 41,
   "id": "442825ba",
   "metadata": {},
   "outputs": [
    {
     "data": {
      "text/plain": "<Figure size 1440x720 with 1 Axes>",
      "image/png": "[encoded data removed]"
     },
     "metadata": {
      "needs_background": "light"
     },
     "output_type": "display_data"
    }
   ],
   "source": [
    "# Нарусием гарфики даля некоторих переменных для удобства\n",
    "plt.figure(figsize=(20, 10))\n",
    "ax = sns.boxplot(data=data[\"Возраст\"], orient=\"h\", palette=\"Set2\")"
   ]
  },
  {
   "cell_type": "code",
   "execution_count": 42,
   "id": "a4425e38",
   "metadata": {},
   "outputs": [
    {
     "data": {
      "text/plain": "<Figure size 1440x720 with 1 Axes>",
      "image/png": "[encoded data removed]"
     },
     "metadata": {
      "needs_background": "light"
     },
     "output_type": "display_data"
    }
   ],
   "source": [
    "plt.figure(figsize=(20, 10))\n",
    "ax = sns.boxplot(data=data[\"Срок\"], orient=\"h\", palette=\"Set2\")"
   ]
  },
  {
   "cell_type": "code",
   "execution_count": 43,
   "id": "9ad3ad2b",
   "metadata": {},
   "outputs": [],
   "source": [
    "# как выдно выроси срока просто огромные"
   ]
  },
  {
   "cell_type": "code",
   "execution_count": 44,
   "id": "3caa6043",
   "metadata": {},
   "outputs": [
    {
     "data": {
      "text/plain": "<AxesSubplot:xlabel='Возраст', ylabel='Просрочки за цикл (кумулятивный)'>"
     },
     "execution_count": 44,
     "metadata": {},
     "output_type": "execute_result"
    },
    {
     "data": {
      "text/plain": "<Figure size 864x504 with 1 Axes>",
      "image/png": "[encoded data removed]"
     },
     "metadata": {
      "needs_background": "light"
     },
     "output_type": "display_data"
    }
   ],
   "source": [
    "\n",
    "data.plot(kind='scatter', x = 'Возраст', y = 'Просрочки за цикл (кумулятивный)', ec='Black', figsize=(12, 7))"
   ]
  },
  {
   "cell_type": "code",
   "execution_count": 45,
   "id": "8696eaf3",
   "metadata": {},
   "outputs": [],
   "source": [
    "# Как видно зависимост слабая поетаму это задачи класификации"
   ]
  },
  {
   "cell_type": "code",
   "execution_count": 46,
   "id": "18963a77",
   "metadata": {},
   "outputs": [
    {
     "data": {
      "text/plain": "<AxesSubplot:ylabel='Frequency'>"
     },
     "execution_count": 46,
     "metadata": {},
     "output_type": "execute_result"
    },
    {
     "data": {
      "text/plain": "<Figure size 864x432 with 1 Axes>",
      "image/png": "[encoded data removed]"
     },
     "metadata": {
      "needs_background": "light"
     },
     "output_type": "display_data"
    }
   ],
   "source": [
    "data['Возраст'].plot(kind='hist', ec='black', figsize=(12, 6), bins=50)"
   ]
  },
  {
   "cell_type": "code",
   "execution_count": 47,
   "id": "0e834b36",
   "metadata": {},
   "outputs": [
    {
     "data": {
      "text/plain": "1. Карзи истеъмоли/Потребительский кредит    8410\n3. Хизматрасони/Услуги                       4167\n4. Савдо / Торговля                          1402\n2. Истехсолот/Производство                    147\n8. Ипотека/Ипотека                             10\n5. Чорводори / Животноводство                   8\n6. Хочагии кишлок / Сельское хозяйство          7\n7. Тичорати бурунмарзи / Внешняя торговля       2\nName: Тип бизнеса, dtype: int64"
     },
     "execution_count": 47,
     "metadata": {},
     "output_type": "execute_result"
    },
    {
     "data": {
      "text/plain": "<Figure size 1440x720 with 0 Axes>"
     },
     "metadata": {},
     "output_type": "display_data"
    }
   ],
   "source": [
    "plt.figure(figsize = (20, 10))\n",
    "x = data['Тип бизнеса'].value_counts()\n",
    "x"
   ]
  },
  {
   "cell_type": "code",
   "execution_count": 48,
   "id": "45aec8d2",
   "metadata": {},
   "outputs": [
    {
     "data": {
      "text/plain": "<AxesSubplot:ylabel='Тип бизнеса'>"
     },
     "execution_count": 48,
     "metadata": {},
     "output_type": "execute_result"
    },
    {
     "data": {
      "text/plain": "<Figure size 2160x1080 with 1 Axes>",
      "image/png": "[encoded data removed]"
     },
     "metadata": {},
     "output_type": "display_data"
    }
   ],
   "source": [
    "\n",
    "x.plot(kind = 'pie', figsize = (30, 15))"
   ]
  },
  {
   "cell_type": "code",
   "execution_count": 49,
   "id": "a937f2d1",
   "metadata": {},
   "outputs": [
    {
     "name": "stdout",
     "output_type": "stream",
     "text": [
      "                                   Возраст      Срок  \\\n",
      "Возраст                           1.000000  0.088488   \n",
      "Срок                              0.088488  1.000000   \n",
      "Просрочки за цикл (кумулятивный) -0.100715  0.054564   \n",
      "\n",
      "                                  Просрочки за цикл (кумулятивный)  \n",
      "Возраст                                                  -0.100715  \n",
      "Срок                                                      0.054564  \n",
      "Просрочки за цикл (кумулятивный)                          1.000000  \n"
     ]
    },
    {
     "data": {
      "text/plain": "<Figure size 720x432 with 2 Axes>",
      "image/png": "[encoded data removed]"
     },
     "metadata": {
      "needs_background": "light"
     },
     "output_type": "display_data"
    }
   ],
   "source": [
    "#Нарисуйте корреляционную матрицу переменные с непрерывными данными;\n",
    "print(data.corr())\n",
    "plt.figure(figsize=(10, 6))\n",
    "hm = sns.heatmap(data.corr(), cbar=True, annot=True)\n",
    "           "
   ]
  },
  {
   "cell_type": "code",
   "execution_count": 50,
   "id": "ccd9e4c8",
   "metadata": {},
   "outputs": [],
   "source": [
    "# 3.Используйте все возможные входные параметры (независимые переменные) и зависимую переменную \n",
    "# «Просрочки за цикл (кумулятивный)» (меньше 30 дней как 1 и больше, как 0) для решения задачи \n",
    "# классификации. Примените такие алгоритмы машинного обучение, как: 60/100 баллов\n",
    "# А) логистическая регрессия;\n",
    "# Б) дерево решений;\n",
    "# В) случайны лес;\n",
    "# Г) К-ближайших соседей;\n",
    "# Д) Наивный Байес;\n",
    "# Е) алгоритмы бустинга\n"
   ]
  },
  {
   "cell_type": "code",
   "execution_count": 51,
   "id": "5962ff30",
   "metadata": {},
   "outputs": [
    {
     "data": {
      "text/plain": "   Пол  Возраст Семейное положение Национальность Повторный клиент  \\\n0  Муж       36            Married          Точик    Старый клиент   \n1  Муж       36            Married          Точик    Старый клиент   \n2  Муж       36            Married          Точик    Старый клиент   \n3  Жен       30            Married          Точик    Старый клиент   \n4  Жен       30            Married          Точик    Старый клиент   \n\n  Дата выдачи Валюта  Срок             Тип залога          Образование  \\\n0  25.12.2019    USD    24  Смешанное обеспечение   Высшее образование   \n1  04.02.2015    USD    24  Смешанное обеспечение   Высшее образование   \n2  23.12.2016    USD    36  Смешанное обеспечение   Высшее образование   \n3  08.05.2015    TJS    84  Смешанное обеспечение  Среднее образование   \n4  26.05.2016    TJS    36  Смешанное обеспечение  Среднее образование   \n\n              Тип бизнеса       Цель кредита  Просрочки за цикл (кумулятивный)  \n0     4. Савдо / Торговля  Оборотный капитал                                 1  \n1     4. Савдо / Торговля  Оборотный капитал                                 5  \n2     4. Савдо / Торговля  Оборотный капитал                                 5  \n3  3. Хизматрасони/Услуги  Оборотный капитал                                11  \n4  3. Хизматрасони/Услуги  Оборотный капитал                                10  ",
      "text/html": "<div>\n<style scoped>\n    .dataframe tbody tr th:only-of-type {\n        vertical-align: middle;\n    }\n\n    .dataframe tbody tr th {\n        vertical-align: top;\n    }\n\n    .dataframe thead th {\n        text-align: right;\n    }\n</style>\n<table border=\"1\" class=\"dataframe\">\n  <thead>\n    <tr style=\"text-align: right;\">\n      <th></th>\n      <th>Пол</th>\n      <th>Возраст</th>\n      <th>Семейное положение</th>\n      <th>Национальность</th>\n      <th>Повторный клиент</th>\n      <th>Дата выдачи</th>\n      <th>Валюта</th>\n      <th>Срок</th>\n      <th>Тип залога</th>\n      <th>Образование</th>\n      <th>Тип бизнеса</th>\n      <th>Цель кредита</th>\n      <th>Просрочки за цикл (кумулятивный)</th>\n    </tr>\n  </thead>\n  <tbody>\n    <tr>\n      <th>0</th>\n      <td>Муж</td>\n      <td>36</td>\n      <td>Married</td>\n      <td>Точик</td>\n      <td>Старый клиент</td>\n      <td>25.12.2019</td>\n      <td>USD</td>\n      <td>24</td>\n      <td>Смешанное обеспечение</td>\n      <td>Высшее образование</td>\n      <td>4. Савдо / Торговля</td>\n      <td>Оборотный капитал</td>\n      <td>1</td>\n    </tr>\n    <tr>\n      <th>1</th>\n      <td>Муж</td>\n      <td>36</td>\n      <td>Married</td>\n      <td>Точик</td>\n      <td>Старый клиент</td>\n      <td>04.02.2015</td>\n      <td>USD</td>\n      <td>24</td>\n      <td>Смешанное обеспечение</td>\n      <td>Высшее образование</td>\n      <td>4. Савдо / Торговля</td>\n      <td>Оборотный капитал</td>\n      <td>5</td>\n    </tr>\n    <tr>\n      <th>2</th>\n      <td>Муж</td>\n      <td>36</td>\n      <td>Married</td>\n      <td>Точик</td>\n      <td>Старый клиент</td>\n      <td>23.12.2016</td>\n      <td>USD</td>\n      <td>36</td>\n      <td>Смешанное обеспечение</td>\n      <td>Высшее образование</td>\n      <td>4. Савдо / Торговля</td>\n      <td>Оборотный капитал</td>\n      <td>5</td>\n    </tr>\n    <tr>\n      <th>3</th>\n      <td>Жен</td>\n      <td>30</td>\n      <td>Married</td>\n      <td>Точик</td>\n      <td>Старый клиент</td>\n      <td>08.05.2015</td>\n      <td>TJS</td>\n      <td>84</td>\n      <td>Смешанное обеспечение</td>\n      <td>Среднее образование</td>\n      <td>3. Хизматрасони/Услуги</td>\n      <td>Оборотный капитал</td>\n      <td>11</td>\n    </tr>\n    <tr>\n      <th>4</th>\n      <td>Жен</td>\n      <td>30</td>\n      <td>Married</td>\n      <td>Точик</td>\n      <td>Старый клиент</td>\n      <td>26.05.2016</td>\n      <td>TJS</td>\n      <td>36</td>\n      <td>Смешанное обеспечение</td>\n      <td>Среднее образование</td>\n      <td>3. Хизматрасони/Услуги</td>\n      <td>Оборотный капитал</td>\n      <td>10</td>\n    </tr>\n  </tbody>\n</table>\n</div>"
     },
     "execution_count": 51,
     "metadata": {},
     "output_type": "execute_result"
    }
   ],
   "source": [
    "data.head()"
   ]
  },
  {
   "cell_type": "code",
   "execution_count": 52,
   "id": "13f09c1d",
   "metadata": {},
   "outputs": [],
   "source": [
    "# для модели нам нужно все категориялние данние превести в неприривние\n",
    "\n",
    "# Переименавание всех наменалних данних в непреривние\n",
    "data['Пол'] =  pd.factorize(data['Пол'])[0] + 1\n",
    "data['Семейное положение'] =  pd.factorize(data['Семейное положение'])[0] + 1\n",
    "data['Национальность'] =  pd.factorize(data['Национальность'])[0] + 1\n",
    "data['Образование'] =  pd.factorize(data['Образование'])[0] + 1\n",
    "data['Тип бизнеса'] =  pd.factorize(data['Тип бизнеса'])[0] + 1\n",
    "data['Тип залога'] =  pd.factorize(data['Тип залога'])[0] + 1\n",
    "data['Цель кредита'] =  pd.factorize(data['Цель кредита'])[0] + 1\n",
    "data['Повторный клиент'] =  pd.factorize(data['Повторный клиент'])[0] + 1\n",
    "data['Дата выдачи'] =  pd.factorize(data['Дата выдачи'])[0] + 1\n",
    "data['Валюта'] = pd.factorize(data['Валюта'])[0] + 1\n"
   ]
  },
  {
   "cell_type": "code",
   "execution_count": 53,
   "id": "cf056817",
   "metadata": {},
   "outputs": [
    {
     "data": {
      "text/plain": "   Пол  Возраст  Семейное положение  Национальность  Повторный клиент  \\\n0    1       36                   1               1                 1   \n1    1       36                   1               1                 1   \n2    1       36                   1               1                 1   \n3    2       30                   1               1                 1   \n4    2       30                   1               1                 1   \n\n   Дата выдачи  Валюта  Срок  Тип залога  Образование  Тип бизнеса  \\\n0            1       1    24           1            1            1   \n1            2       1    24           1            1            1   \n2            3       1    36           1            1            1   \n3            4       2    84           1            2            2   \n4            5       2    36           1            2            2   \n\n   Цель кредита  Просрочки за цикл (кумулятивный)  \n0             1                                 1  \n1             1                                 5  \n2             1                                 5  \n3             1                                11  \n4             1                                10  ",
      "text/html": "<div>\n<style scoped>\n    .dataframe tbody tr th:only-of-type {\n        vertical-align: middle;\n    }\n\n    .dataframe tbody tr th {\n        vertical-align: top;\n    }\n\n    .dataframe thead th {\n        text-align: right;\n    }\n</style>\n<table border=\"1\" class=\"dataframe\">\n  <thead>\n    <tr style=\"text-align: right;\">\n      <th></th>\n      <th>Пол</th>\n      <th>Возраст</th>\n      <th>Семейное положение</th>\n      <th>Национальность</th>\n      <th>Повторный клиент</th>\n      <th>Дата выдачи</th>\n      <th>Валюта</th>\n      <th>Срок</th>\n      <th>Тип залога</th>\n      <th>Образование</th>\n      <th>Тип бизнеса</th>\n      <th>Цель кредита</th>\n      <th>Просрочки за цикл (кумулятивный)</th>\n    </tr>\n  </thead>\n  <tbody>\n    <tr>\n      <th>0</th>\n      <td>1</td>\n      <td>36</td>\n      <td>1</td>\n      <td>1</td>\n      <td>1</td>\n      <td>1</td>\n      <td>1</td>\n      <td>24</td>\n      <td>1</td>\n      <td>1</td>\n      <td>1</td>\n      <td>1</td>\n      <td>1</td>\n    </tr>\n    <tr>\n      <th>1</th>\n      <td>1</td>\n      <td>36</td>\n      <td>1</td>\n      <td>1</td>\n      <td>1</td>\n      <td>2</td>\n      <td>1</td>\n      <td>24</td>\n      <td>1</td>\n      <td>1</td>\n      <td>1</td>\n      <td>1</td>\n      <td>5</td>\n    </tr>\n    <tr>\n      <th>2</th>\n      <td>1</td>\n      <td>36</td>\n      <td>1</td>\n      <td>1</td>\n      <td>1</td>\n      <td>3</td>\n      <td>1</td>\n      <td>36</td>\n      <td>1</td>\n      <td>1</td>\n      <td>1</td>\n      <td>1</td>\n      <td>5</td>\n    </tr>\n    <tr>\n      <th>3</th>\n      <td>2</td>\n      <td>30</td>\n      <td>1</td>\n      <td>1</td>\n      <td>1</td>\n      <td>4</td>\n      <td>2</td>\n      <td>84</td>\n      <td>1</td>\n      <td>2</td>\n      <td>2</td>\n      <td>1</td>\n      <td>11</td>\n    </tr>\n    <tr>\n      <th>4</th>\n      <td>2</td>\n      <td>30</td>\n      <td>1</td>\n      <td>1</td>\n      <td>1</td>\n      <td>5</td>\n      <td>2</td>\n      <td>36</td>\n      <td>1</td>\n      <td>2</td>\n      <td>2</td>\n      <td>1</td>\n      <td>10</td>\n    </tr>\n  </tbody>\n</table>\n</div>"
     },
     "execution_count": 53,
     "metadata": {},
     "output_type": "execute_result"
    }
   ],
   "source": [
    "data.head()"
   ]
  },
  {
   "cell_type": "code",
   "execution_count": 54,
   "id": "59bcea35",
   "metadata": {},
   "outputs": [],
   "source": [
    "# «Просрочки за цикл (кумулятивный)» (меньше 30 дней как 1 и больше, как 0) \n",
    "# для решения задачи классификации.\n",
    "arr8 = []\n",
    "for i in data['Просрочки за цикл (кумулятивный)']:\n",
    "    if i > 30:\n",
    "        arr8.append(0)\n",
    "    if i < 30:\n",
    "        arr8.append(1)\n",
    "    if i == 30:\n",
    "        arr8.append(0)\n",
    "data['Просрочки за цикл (кумулятивный)'] = arr8"
   ]
  },
  {
   "cell_type": "code",
   "execution_count": 55,
   "id": "5a0565c2",
   "metadata": {},
   "outputs": [
    {
     "data": {
      "text/plain": "(14153, 13)"
     },
     "execution_count": 55,
     "metadata": {},
     "output_type": "execute_result"
    }
   ],
   "source": [
    "data.shape"
   ]
  },
  {
   "cell_type": "code",
   "execution_count": 56,
   "id": "d8935935",
   "metadata": {},
   "outputs": [
    {
     "data": {
      "text/plain": "   Пол  Возраст  Семейное положение  Национальность  Повторный клиент  \\\n0    1       36                   1               1                 1   \n1    1       36                   1               1                 1   \n2    1       36                   1               1                 1   \n3    2       30                   1               1                 1   \n4    2       30                   1               1                 1   \n\n   Дата выдачи  Валюта  Срок  Тип залога  Образование  Тип бизнеса  \\\n0            1       1    24           1            1            1   \n1            2       1    24           1            1            1   \n2            3       1    36           1            1            1   \n3            4       2    84           1            2            2   \n4            5       2    36           1            2            2   \n\n   Цель кредита  Просрочки за цикл (кумулятивный)  \n0             1                                 1  \n1             1                                 1  \n2             1                                 1  \n3             1                                 1  \n4             1                                 1  ",
      "text/html": "<div>\n<style scoped>\n    .dataframe tbody tr th:only-of-type {\n        vertical-align: middle;\n    }\n\n    .dataframe tbody tr th {\n        vertical-align: top;\n    }\n\n    .dataframe thead th {\n        text-align: right;\n    }\n</style>\n<table border=\"1\" class=\"dataframe\">\n  <thead>\n    <tr style=\"text-align: right;\">\n      <th></th>\n      <th>Пол</th>\n      <th>Возраст</th>\n      <th>Семейное положение</th>\n      <th>Национальность</th>\n      <th>Повторный клиент</th>\n      <th>Дата выдачи</th>\n      <th>Валюта</th>\n      <th>Срок</th>\n      <th>Тип залога</th>\n      <th>Образование</th>\n      <th>Тип бизнеса</th>\n      <th>Цель кредита</th>\n      <th>Просрочки за цикл (кумулятивный)</th>\n    </tr>\n  </thead>\n  <tbody>\n    <tr>\n      <th>0</th>\n      <td>1</td>\n      <td>36</td>\n      <td>1</td>\n      <td>1</td>\n      <td>1</td>\n      <td>1</td>\n      <td>1</td>\n      <td>24</td>\n      <td>1</td>\n      <td>1</td>\n      <td>1</td>\n      <td>1</td>\n      <td>1</td>\n    </tr>\n    <tr>\n      <th>1</th>\n      <td>1</td>\n      <td>36</td>\n      <td>1</td>\n      <td>1</td>\n      <td>1</td>\n      <td>2</td>\n      <td>1</td>\n      <td>24</td>\n      <td>1</td>\n      <td>1</td>\n      <td>1</td>\n      <td>1</td>\n      <td>1</td>\n    </tr>\n    <tr>\n      <th>2</th>\n      <td>1</td>\n      <td>36</td>\n      <td>1</td>\n      <td>1</td>\n      <td>1</td>\n      <td>3</td>\n      <td>1</td>\n      <td>36</td>\n      <td>1</td>\n      <td>1</td>\n      <td>1</td>\n      <td>1</td>\n      <td>1</td>\n    </tr>\n    <tr>\n      <th>3</th>\n      <td>2</td>\n      <td>30</td>\n      <td>1</td>\n      <td>1</td>\n      <td>1</td>\n      <td>4</td>\n      <td>2</td>\n      <td>84</td>\n      <td>1</td>\n      <td>2</td>\n      <td>2</td>\n      <td>1</td>\n      <td>1</td>\n    </tr>\n    <tr>\n      <th>4</th>\n      <td>2</td>\n      <td>30</td>\n      <td>1</td>\n      <td>1</td>\n      <td>1</td>\n      <td>5</td>\n      <td>2</td>\n      <td>36</td>\n      <td>1</td>\n      <td>2</td>\n      <td>2</td>\n      <td>1</td>\n      <td>1</td>\n    </tr>\n  </tbody>\n</table>\n</div>"
     },
     "execution_count": 56,
     "metadata": {},
     "output_type": "execute_result"
    }
   ],
   "source": [
    "data.head()"
   ]
  },
  {
   "cell_type": "code",
   "execution_count": 57,
   "id": "0206fcb2",
   "metadata": {},
   "outputs": [
    {
     "data": {
      "text/plain": "array([1, 0], dtype=int64)"
     },
     "execution_count": 57,
     "metadata": {},
     "output_type": "execute_result"
    }
   ],
   "source": [
    "data['Просрочки за цикл (кумулятивный)'].unique()"
   ]
  },
  {
   "cell_type": "code",
   "execution_count": 58,
   "id": "3e54c69e",
   "metadata": {},
   "outputs": [],
   "source": [
    "X, y = data.drop(['Просрочки за цикл (кумулятивный)'], axis=1), data['Просрочки за цикл (кумулятивный)']"
   ]
  },
  {
   "cell_type": "code",
   "execution_count": 59,
   "id": "6889e35a",
   "metadata": {},
   "outputs": [],
   "source": [
    "from sklearn.model_selection import train_test_split\n",
    "X_tr, x_ts, y_tr, y_ts = train_test_split(X, y, random_state=5, test_size=0.2)\n"
   ]
  },
  {
   "cell_type": "code",
   "execution_count": 60,
   "id": "4c9d007a",
   "metadata": {},
   "outputs": [
    {
     "name": "stderr",
     "output_type": "stream",
     "text": [
      "c:\\users\\qodirjon\\appdata\\local\\programs\\python\\python39\\lib\\site-packages\\sklearn\\linear_model\\_logistic.py:763: ConvergenceWarning: lbfgs failed to converge (status=1):\n",
      "STOP: TOTAL NO. of ITERATIONS REACHED LIMIT.\n",
      "\n",
      "Increase the number of iterations (max_iter) or scale the data as shown in:\n",
      "    https://scikit-learn.org/stable/modules/preprocessing.html\n",
      "Please also refer to the documentation for alternative solver options:\n",
      "    https://scikit-learn.org/stable/modules/linear_model.html#logistic-regression\n",
      "  n_iter_i = _check_optimize_result(\n"
     ]
    },
    {
     "data": {
      "text/plain": "0.8505828329212293"
     },
     "execution_count": 60,
     "metadata": {},
     "output_type": "execute_result"
    }
   ],
   "source": [
    "from sklearn.linear_model import LogisticRegression\n",
    "log = LogisticRegression()\n",
    "log.fit(X_tr, y_tr)\n",
    "log.score(x_ts, y_ts)"
   ]
  },
  {
   "cell_type": "code",
   "execution_count": 61,
   "id": "f5a2bf66",
   "metadata": {},
   "outputs": [
    {
     "data": {
      "text/plain": "0.7937124690921936"
     },
     "execution_count": 61,
     "metadata": {},
     "output_type": "execute_result"
    }
   ],
   "source": [
    "from sklearn.tree import DecisionTreeClassifier\n",
    "tree = DecisionTreeClassifier()\n",
    "tree.fit(X_tr, y_tr)\n",
    "tree.score(x_ts, y_ts)"
   ]
  },
  {
   "cell_type": "code",
   "execution_count": 62,
   "id": "359d4578",
   "metadata": {},
   "outputs": [
    {
     "data": {
      "text/plain": "0.8389261744966443"
     },
     "execution_count": 62,
     "metadata": {},
     "output_type": "execute_result"
    }
   ],
   "source": [
    "from sklearn.ensemble import RandomForestClassifier\n",
    "forest = RandomForestClassifier(n_estimators=100)\n",
    "forest.fit(X_tr, y_tr)\n",
    "forest.score(x_ts, y_ts)"
   ]
  },
  {
   "cell_type": "code",
   "execution_count": 63,
   "id": "e85fdfd1",
   "metadata": {},
   "outputs": [
    {
     "data": {
      "text/plain": "0.8262098198516425"
     },
     "execution_count": 63,
     "metadata": {},
     "output_type": "execute_result"
    }
   ],
   "source": [
    "from sklearn.neighbors import KNeighborsClassifier\n",
    "neighbors = KNeighborsClassifier()\n",
    "neighbors.fit(X_tr, y_tr)\n",
    "neighbors.score(x_ts, y_ts)"
   ]
  },
  {
   "cell_type": "code",
   "execution_count": 64,
   "id": "c1750867",
   "metadata": {},
   "outputs": [
    {
     "data": {
      "text/plain": "0.8406923348640056"
     },
     "execution_count": 64,
     "metadata": {},
     "output_type": "execute_result"
    }
   ],
   "source": [
    "from sklearn.naive_bayes import GaussianNB\n",
    "naive_bayes = GaussianNB()\n",
    "naive_bayes.fit(X_tr, y_tr)\n",
    "naive_bayes.score(x_ts, y_ts)"
   ]
  },
  {
   "cell_type": "code",
   "execution_count": 65,
   "id": "f193ab41",
   "metadata": {},
   "outputs": [
    {
     "data": {
      "text/plain": "0.8481102084069233"
     },
     "execution_count": 65,
     "metadata": {},
     "output_type": "execute_result"
    }
   ],
   "source": [
    "from sklearn.svm import SVC\n",
    "svm = SVC()\n",
    "svm.fit(X_tr, y_tr)\n",
    "svm.score(x_ts, y_ts)"
   ]
  },
  {
   "cell_type": "code",
   "execution_count": 66,
   "id": "a2aed235",
   "metadata": {},
   "outputs": [],
   "source": [
    "# В далнейших мадей будем исползовать маштабироване данние\n",
    "from sklearn.preprocessing import StandardScaler\n",
    "scaler = StandardScaler()\n",
    "scaler.fit(X_tr)\n",
    "X_train_scaled = scaler.transform(X_tr)"
   ]
  },
  {
   "cell_type": "code",
   "execution_count": 67,
   "id": "ebee73f6",
   "metadata": {},
   "outputs": [
    {
     "data": {
      "text/plain": "MetricVisualizer(layout=Layout(align_self='stretch', height='500px'))",
      "application/vnd.jupyter.widget-view+json": {
       "version_major": 2,
       "version_minor": 0,
       "model_id": "37537e895aeb4980a7b893a107f38f24"
      }
     },
     "metadata": {},
     "output_type": "display_data"
    },
    {
     "name": "stdout",
     "output_type": "stream",
     "text": [
      "0:\tlearn: 0.5004912\ttest: 0.4948039\tbest: 0.4948039 (0)\ttotal: 82.2ms\tremaining: 1m 22s\n",
      "1:\tlearn: 0.4235065\ttest: 0.4147417\tbest: 0.4147417 (1)\ttotal: 94.5ms\tremaining: 47.2s\n",
      "2:\tlearn: 0.3997597\ttest: 0.3907715\tbest: 0.3907715 (2)\ttotal: 108ms\tremaining: 35.7s\n",
      "3:\tlearn: 0.3792039\ttest: 0.3706551\tbest: 0.3706551 (3)\ttotal: 119ms\tremaining: 29.7s\n",
      "4:\tlearn: 0.3708630\ttest: 0.3621612\tbest: 0.3621612 (4)\ttotal: 133ms\tremaining: 26.4s\n",
      "5:\tlearn: 0.3636820\ttest: 0.3569157\tbest: 0.3569157 (5)\ttotal: 146ms\tremaining: 24.2s\n",
      "6:\tlearn: 0.3607976\ttest: 0.3550029\tbest: 0.3550029 (6)\ttotal: 160ms\tremaining: 22.8s\n",
      "7:\tlearn: 0.3578957\ttest: 0.3534200\tbest: 0.3534200 (7)\ttotal: 176ms\tremaining: 21.8s\n",
      "8:\tlearn: 0.3552966\ttest: 0.3518439\tbest: 0.3518439 (8)\ttotal: 191ms\tremaining: 21s\n",
      "9:\tlearn: 0.3542538\ttest: 0.3512444\tbest: 0.3512444 (9)\ttotal: 205ms\tremaining: 20.3s\n",
      "10:\tlearn: 0.3531705\ttest: 0.3504110\tbest: 0.3504110 (10)\ttotal: 219ms\tremaining: 19.7s\n",
      "11:\tlearn: 0.3521074\ttest: 0.3497529\tbest: 0.3497529 (11)\ttotal: 235ms\tremaining: 19.4s\n",
      "12:\tlearn: 0.3505639\ttest: 0.3494342\tbest: 0.3494342 (12)\ttotal: 250ms\tremaining: 19s\n",
      "13:\tlearn: 0.3492384\ttest: 0.3485352\tbest: 0.3485352 (13)\ttotal: 267ms\tremaining: 18.8s\n",
      "14:\tlearn: 0.3478731\ttest: 0.3476846\tbest: 0.3476846 (14)\ttotal: 282ms\tremaining: 18.5s\n",
      "15:\tlearn: 0.3463649\ttest: 0.3470569\tbest: 0.3470569 (15)\ttotal: 299ms\tremaining: 18.4s\n",
      "16:\tlearn: 0.3459259\ttest: 0.3465982\tbest: 0.3465982 (16)\ttotal: 316ms\tremaining: 18.2s\n",
      "17:\tlearn: 0.3456756\ttest: 0.3467715\tbest: 0.3465982 (16)\ttotal: 331ms\tremaining: 18s\n",
      "18:\tlearn: 0.3450095\ttest: 0.3467408\tbest: 0.3465982 (16)\ttotal: 348ms\tremaining: 18s\n",
      "19:\tlearn: 0.3445119\ttest: 0.3466576\tbest: 0.3465982 (16)\ttotal: 367ms\tremaining: 18s\n",
      "20:\tlearn: 0.3442318\ttest: 0.3464192\tbest: 0.3464192 (20)\ttotal: 385ms\tremaining: 18s\n",
      "21:\tlearn: 0.3426777\ttest: 0.3461007\tbest: 0.3461007 (21)\ttotal: 402ms\tremaining: 17.9s\n",
      "22:\tlearn: 0.3420634\ttest: 0.3460666\tbest: 0.3460666 (22)\ttotal: 419ms\tremaining: 17.8s\n",
      "23:\tlearn: 0.3416506\ttest: 0.3462074\tbest: 0.3460666 (22)\ttotal: 435ms\tremaining: 17.7s\n",
      "24:\tlearn: 0.3406278\ttest: 0.3459795\tbest: 0.3459795 (24)\ttotal: 451ms\tremaining: 17.6s\n",
      "25:\tlearn: 0.3400920\ttest: 0.3462838\tbest: 0.3459795 (24)\ttotal: 466ms\tremaining: 17.5s\n",
      "26:\tlearn: 0.3395372\ttest: 0.3460135\tbest: 0.3459795 (24)\ttotal: 479ms\tremaining: 17.3s\n",
      "27:\tlearn: 0.3390899\ttest: 0.3461294\tbest: 0.3459795 (24)\ttotal: 492ms\tremaining: 17.1s\n",
      "28:\tlearn: 0.3382201\ttest: 0.3459599\tbest: 0.3459599 (28)\ttotal: 505ms\tremaining: 16.9s\n",
      "29:\tlearn: 0.3365686\ttest: 0.3458523\tbest: 0.3458523 (29)\ttotal: 520ms\tremaining: 16.8s\n",
      "30:\tlearn: 0.3361829\ttest: 0.3450963\tbest: 0.3450963 (30)\ttotal: 535ms\tremaining: 16.7s\n",
      "31:\tlearn: 0.3354967\ttest: 0.3452273\tbest: 0.3450963 (30)\ttotal: 549ms\tremaining: 16.6s\n",
      "32:\tlearn: 0.3349177\ttest: 0.3453986\tbest: 0.3450963 (30)\ttotal: 563ms\tremaining: 16.5s\n",
      "33:\tlearn: 0.3345435\ttest: 0.3455228\tbest: 0.3450963 (30)\ttotal: 577ms\tremaining: 16.4s\n",
      "34:\tlearn: 0.3336108\ttest: 0.3456084\tbest: 0.3450963 (30)\ttotal: 590ms\tremaining: 16.3s\n",
      "35:\tlearn: 0.3327046\ttest: 0.3458801\tbest: 0.3450963 (30)\ttotal: 607ms\tremaining: 16.2s\n",
      "36:\tlearn: 0.3322239\ttest: 0.3453041\tbest: 0.3450963 (30)\ttotal: 623ms\tremaining: 16.2s\n",
      "37:\tlearn: 0.3314287\ttest: 0.3453590\tbest: 0.3450963 (30)\ttotal: 638ms\tremaining: 16.1s\n",
      "38:\tlearn: 0.3306119\ttest: 0.3450063\tbest: 0.3450063 (38)\ttotal: 653ms\tremaining: 16.1s\n",
      "39:\tlearn: 0.3293652\ttest: 0.3438363\tbest: 0.3438363 (39)\ttotal: 672ms\tremaining: 16.1s\n",
      "40:\tlearn: 0.3283095\ttest: 0.3443403\tbest: 0.3438363 (39)\ttotal: 687ms\tremaining: 16.1s\n",
      "41:\tlearn: 0.3279522\ttest: 0.3441883\tbest: 0.3438363 (39)\ttotal: 701ms\tremaining: 16s\n",
      "42:\tlearn: 0.3268327\ttest: 0.3439961\tbest: 0.3438363 (39)\ttotal: 715ms\tremaining: 15.9s\n",
      "43:\tlearn: 0.3256919\ttest: 0.3438572\tbest: 0.3438363 (39)\ttotal: 728ms\tremaining: 15.8s\n",
      "44:\tlearn: 0.3243541\ttest: 0.3432757\tbest: 0.3432757 (44)\ttotal: 741ms\tremaining: 15.7s\n",
      "45:\tlearn: 0.3237493\ttest: 0.3439808\tbest: 0.3432757 (44)\ttotal: 754ms\tremaining: 15.6s\n",
      "46:\tlearn: 0.3228989\ttest: 0.3435990\tbest: 0.3432757 (44)\ttotal: 768ms\tremaining: 15.6s\n",
      "47:\tlearn: 0.3224900\ttest: 0.3433600\tbest: 0.3432757 (44)\ttotal: 781ms\tremaining: 15.5s\n",
      "48:\tlearn: 0.3218107\ttest: 0.3433584\tbest: 0.3432757 (44)\ttotal: 793ms\tremaining: 15.4s\n",
      "49:\tlearn: 0.3209221\ttest: 0.3435672\tbest: 0.3432757 (44)\ttotal: 806ms\tremaining: 15.3s\n",
      "50:\tlearn: 0.3197481\ttest: 0.3438764\tbest: 0.3432757 (44)\ttotal: 819ms\tremaining: 15.2s\n",
      "51:\tlearn: 0.3191338\ttest: 0.3443023\tbest: 0.3432757 (44)\ttotal: 833ms\tremaining: 15.2s\n",
      "52:\tlearn: 0.3186173\ttest: 0.3441422\tbest: 0.3432757 (44)\ttotal: 845ms\tremaining: 15.1s\n",
      "53:\tlearn: 0.3180823\ttest: 0.3445058\tbest: 0.3432757 (44)\ttotal: 867ms\tremaining: 15.2s\n",
      "54:\tlearn: 0.3173912\ttest: 0.3443280\tbest: 0.3432757 (44)\ttotal: 895ms\tremaining: 15.4s\n",
      "55:\tlearn: 0.3168782\ttest: 0.3440244\tbest: 0.3432757 (44)\ttotal: 918ms\tremaining: 15.5s\n",
      "56:\tlearn: 0.3164204\ttest: 0.3430967\tbest: 0.3430967 (56)\ttotal: 965ms\tremaining: 16s\n",
      "57:\tlearn: 0.3156657\ttest: 0.3431158\tbest: 0.3430967 (56)\ttotal: 983ms\tremaining: 16s\n",
      "58:\tlearn: 0.3156185\ttest: 0.3431102\tbest: 0.3430967 (56)\ttotal: 998ms\tremaining: 15.9s\n",
      "59:\tlearn: 0.3151025\ttest: 0.3433466\tbest: 0.3430967 (56)\ttotal: 1.01s\tremaining: 15.9s\n",
      "60:\tlearn: 0.3144323\ttest: 0.3431438\tbest: 0.3430967 (56)\ttotal: 1.03s\tremaining: 15.9s\n",
      "61:\tlearn: 0.3136721\ttest: 0.3433260\tbest: 0.3430967 (56)\ttotal: 1.05s\tremaining: 15.9s\n",
      "62:\tlearn: 0.3130516\ttest: 0.3434962\tbest: 0.3430967 (56)\ttotal: 1.06s\tremaining: 15.8s\n",
      "63:\tlearn: 0.3124541\ttest: 0.3441311\tbest: 0.3430967 (56)\ttotal: 1.08s\tremaining: 15.8s\n",
      "64:\tlearn: 0.3117007\ttest: 0.3437908\tbest: 0.3430967 (56)\ttotal: 1.1s\tremaining: 15.8s\n",
      "65:\tlearn: 0.3108139\ttest: 0.3436291\tbest: 0.3430967 (56)\ttotal: 1.11s\tremaining: 15.8s\n",
      "66:\tlearn: 0.3102633\ttest: 0.3435338\tbest: 0.3430967 (56)\ttotal: 1.13s\tremaining: 15.8s\n",
      "67:\tlearn: 0.3094626\ttest: 0.3441930\tbest: 0.3430967 (56)\ttotal: 1.15s\tremaining: 15.7s\n",
      "68:\tlearn: 0.3085823\ttest: 0.3439008\tbest: 0.3430967 (56)\ttotal: 1.18s\tremaining: 16s\n",
      "69:\tlearn: 0.3078029\ttest: 0.3439279\tbest: 0.3430967 (56)\ttotal: 1.25s\tremaining: 16.6s\n",
      "70:\tlearn: 0.3073769\ttest: 0.3441955\tbest: 0.3430967 (56)\ttotal: 1.28s\tremaining: 16.7s\n",
      "71:\tlearn: 0.3071055\ttest: 0.3439614\tbest: 0.3430967 (56)\ttotal: 1.31s\tremaining: 16.9s\n",
      "72:\tlearn: 0.3064985\ttest: 0.3436535\tbest: 0.3430967 (56)\ttotal: 1.34s\tremaining: 17s\n",
      "73:\tlearn: 0.3061918\ttest: 0.3436920\tbest: 0.3430967 (56)\ttotal: 1.37s\tremaining: 17.2s\n",
      "74:\tlearn: 0.3055386\ttest: 0.3441144\tbest: 0.3430967 (56)\ttotal: 1.4s\tremaining: 17.3s\n",
      "75:\tlearn: 0.3048219\ttest: 0.3444482\tbest: 0.3430967 (56)\ttotal: 1.42s\tremaining: 17.2s\n",
      "76:\tlearn: 0.3046410\ttest: 0.3446722\tbest: 0.3430967 (56)\ttotal: 1.48s\tremaining: 17.8s\n",
      "77:\tlearn: 0.3036416\ttest: 0.3447032\tbest: 0.3430967 (56)\ttotal: 1.51s\tremaining: 17.8s\n",
      "78:\tlearn: 0.3033205\ttest: 0.3446846\tbest: 0.3430967 (56)\ttotal: 1.53s\tremaining: 17.9s\n",
      "79:\tlearn: 0.3026882\ttest: 0.3446899\tbest: 0.3430967 (56)\ttotal: 1.55s\tremaining: 17.9s\n",
      "80:\tlearn: 0.3019893\ttest: 0.3448525\tbest: 0.3430967 (56)\ttotal: 1.6s\tremaining: 18.1s\n",
      "81:\tlearn: 0.3012605\ttest: 0.3451227\tbest: 0.3430967 (56)\ttotal: 1.63s\tremaining: 18.2s\n",
      "82:\tlearn: 0.3007964\ttest: 0.3448469\tbest: 0.3430967 (56)\ttotal: 1.64s\tremaining: 18.1s\n",
      "83:\tlearn: 0.3003339\ttest: 0.3449267\tbest: 0.3430967 (56)\ttotal: 1.66s\tremaining: 18.1s\n",
      "84:\tlearn: 0.3000145\ttest: 0.3451918\tbest: 0.3430967 (56)\ttotal: 1.68s\tremaining: 18s\n",
      "85:\tlearn: 0.2991205\ttest: 0.3453544\tbest: 0.3430967 (56)\ttotal: 1.7s\tremaining: 18s\n",
      "86:\tlearn: 0.2985105\ttest: 0.3448848\tbest: 0.3430967 (56)\ttotal: 1.71s\tremaining: 18s\n",
      "87:\tlearn: 0.2982685\ttest: 0.3449080\tbest: 0.3430967 (56)\ttotal: 1.73s\tremaining: 17.9s\n",
      "88:\tlearn: 0.2973978\ttest: 0.3453946\tbest: 0.3430967 (56)\ttotal: 1.75s\tremaining: 17.9s\n",
      "89:\tlearn: 0.2968293\ttest: 0.3452277\tbest: 0.3430967 (56)\ttotal: 1.77s\tremaining: 17.9s\n",
      "90:\tlearn: 0.2961589\ttest: 0.3458861\tbest: 0.3430967 (56)\ttotal: 1.78s\tremaining: 17.8s\n",
      "91:\tlearn: 0.2953298\ttest: 0.3458282\tbest: 0.3430967 (56)\ttotal: 1.8s\tremaining: 17.7s\n",
      "92:\tlearn: 0.2946699\ttest: 0.3454308\tbest: 0.3430967 (56)\ttotal: 1.81s\tremaining: 17.7s\n",
      "93:\tlearn: 0.2943745\ttest: 0.3460481\tbest: 0.3430967 (56)\ttotal: 1.82s\tremaining: 17.6s\n",
      "94:\tlearn: 0.2943121\ttest: 0.3460284\tbest: 0.3430967 (56)\ttotal: 1.84s\tremaining: 17.5s\n",
      "95:\tlearn: 0.2935977\ttest: 0.3460922\tbest: 0.3430967 (56)\ttotal: 1.85s\tremaining: 17.4s\n",
      "96:\tlearn: 0.2932458\ttest: 0.3462249\tbest: 0.3430967 (56)\ttotal: 1.86s\tremaining: 17.3s\n",
      "97:\tlearn: 0.2927961\ttest: 0.3461582\tbest: 0.3430967 (56)\ttotal: 1.88s\tremaining: 17.3s\n",
      "98:\tlearn: 0.2925309\ttest: 0.3462326\tbest: 0.3430967 (56)\ttotal: 1.93s\tremaining: 17.6s\n",
      "99:\tlearn: 0.2919333\ttest: 0.3457681\tbest: 0.3430967 (56)\ttotal: 1.96s\tremaining: 17.6s\n",
      "100:\tlearn: 0.2910530\ttest: 0.3463913\tbest: 0.3430967 (56)\ttotal: 2s\tremaining: 17.8s\n",
      "101:\tlearn: 0.2901550\ttest: 0.3468463\tbest: 0.3430967 (56)\ttotal: 2.02s\tremaining: 17.8s\n",
      "102:\tlearn: 0.2896922\ttest: 0.3478048\tbest: 0.3430967 (56)\ttotal: 2.04s\tremaining: 17.7s\n",
      "103:\tlearn: 0.2892392\ttest: 0.3476205\tbest: 0.3430967 (56)\ttotal: 2.05s\tremaining: 17.7s\n",
      "104:\tlearn: 0.2890217\ttest: 0.3478734\tbest: 0.3430967 (56)\ttotal: 2.07s\tremaining: 17.7s\n",
      "105:\tlearn: 0.2886252\ttest: 0.3482664\tbest: 0.3430967 (56)\ttotal: 2.09s\tremaining: 17.6s\n",
      "106:\tlearn: 0.2883007\ttest: 0.3483044\tbest: 0.3430967 (56)\ttotal: 2.11s\tremaining: 17.6s\n",
      "107:\tlearn: 0.2874233\ttest: 0.3490221\tbest: 0.3430967 (56)\ttotal: 2.12s\tremaining: 17.5s\n",
      "108:\tlearn: 0.2870032\ttest: 0.3488194\tbest: 0.3430967 (56)\ttotal: 2.14s\tremaining: 17.5s\n",
      "109:\tlearn: 0.2865895\ttest: 0.3489921\tbest: 0.3430967 (56)\ttotal: 2.15s\tremaining: 17.4s\n",
      "110:\tlearn: 0.2864835\ttest: 0.3489314\tbest: 0.3430967 (56)\ttotal: 2.17s\tremaining: 17.4s\n",
      "111:\tlearn: 0.2863916\ttest: 0.3488315\tbest: 0.3430967 (56)\ttotal: 2.18s\tremaining: 17.3s\n",
      "112:\tlearn: 0.2857951\ttest: 0.3487055\tbest: 0.3430967 (56)\ttotal: 2.2s\tremaining: 17.3s\n",
      "113:\tlearn: 0.2849701\ttest: 0.3486901\tbest: 0.3430967 (56)\ttotal: 2.21s\tremaining: 17.2s\n",
      "114:\tlearn: 0.2842533\ttest: 0.3491960\tbest: 0.3430967 (56)\ttotal: 2.23s\tremaining: 17.2s\n",
      "115:\tlearn: 0.2838754\ttest: 0.3490921\tbest: 0.3430967 (56)\ttotal: 2.25s\tremaining: 17.1s\n",
      "116:\tlearn: 0.2834649\ttest: 0.3489554\tbest: 0.3430967 (56)\ttotal: 2.27s\tremaining: 17.1s\n",
      "117:\tlearn: 0.2830379\ttest: 0.3491129\tbest: 0.3430967 (56)\ttotal: 2.29s\tremaining: 17.1s\n",
      "118:\tlearn: 0.2824669\ttest: 0.3494187\tbest: 0.3430967 (56)\ttotal: 2.31s\tremaining: 17.1s\n",
      "119:\tlearn: 0.2822360\ttest: 0.3495980\tbest: 0.3430967 (56)\ttotal: 2.33s\tremaining: 17.1s\n",
      "120:\tlearn: 0.2820464\ttest: 0.3492086\tbest: 0.3430967 (56)\ttotal: 2.34s\tremaining: 17s\n",
      "121:\tlearn: 0.2816711\ttest: 0.3491843\tbest: 0.3430967 (56)\ttotal: 2.36s\tremaining: 17s\n",
      "122:\tlearn: 0.2815110\ttest: 0.3493715\tbest: 0.3430967 (56)\ttotal: 2.38s\tremaining: 16.9s\n",
      "123:\tlearn: 0.2807086\ttest: 0.3497968\tbest: 0.3430967 (56)\ttotal: 2.39s\tremaining: 16.9s\n",
      "124:\tlearn: 0.2806763\ttest: 0.3498050\tbest: 0.3430967 (56)\ttotal: 2.4s\tremaining: 16.8s\n",
      "125:\tlearn: 0.2802458\ttest: 0.3498139\tbest: 0.3430967 (56)\ttotal: 2.42s\tremaining: 16.8s\n",
      "126:\tlearn: 0.2798353\ttest: 0.3498683\tbest: 0.3430967 (56)\ttotal: 2.43s\tremaining: 16.7s\n",
      "127:\tlearn: 0.2795897\ttest: 0.3500693\tbest: 0.3430967 (56)\ttotal: 2.44s\tremaining: 16.7s\n",
      "128:\tlearn: 0.2791908\ttest: 0.3498739\tbest: 0.3430967 (56)\ttotal: 2.46s\tremaining: 16.6s\n",
      "129:\tlearn: 0.2785481\ttest: 0.3498407\tbest: 0.3430967 (56)\ttotal: 2.47s\tremaining: 16.5s\n",
      "130:\tlearn: 0.2778982\ttest: 0.3502011\tbest: 0.3430967 (56)\ttotal: 2.48s\tremaining: 16.5s\n",
      "131:\tlearn: 0.2777545\ttest: 0.3501889\tbest: 0.3430967 (56)\ttotal: 2.5s\tremaining: 16.4s\n",
      "132:\tlearn: 0.2775439\ttest: 0.3502795\tbest: 0.3430967 (56)\ttotal: 2.51s\tremaining: 16.4s\n",
      "133:\tlearn: 0.2775164\ttest: 0.3501656\tbest: 0.3430967 (56)\ttotal: 2.52s\tremaining: 16.3s\n",
      "134:\tlearn: 0.2774023\ttest: 0.3505297\tbest: 0.3430967 (56)\ttotal: 2.54s\tremaining: 16.3s\n",
      "135:\tlearn: 0.2769181\ttest: 0.3507148\tbest: 0.3430967 (56)\ttotal: 2.55s\tremaining: 16.2s\n",
      "136:\tlearn: 0.2765668\ttest: 0.3504724\tbest: 0.3430967 (56)\ttotal: 2.56s\tremaining: 16.2s\n",
      "137:\tlearn: 0.2760896\ttest: 0.3502812\tbest: 0.3430967 (56)\ttotal: 2.58s\tremaining: 16.1s\n",
      "138:\tlearn: 0.2756837\ttest: 0.3499344\tbest: 0.3430967 (56)\ttotal: 2.59s\tremaining: 16.1s\n",
      "139:\tlearn: 0.2751892\ttest: 0.3499508\tbest: 0.3430967 (56)\ttotal: 2.61s\tremaining: 16s\n",
      "140:\tlearn: 0.2747928\ttest: 0.3500216\tbest: 0.3430967 (56)\ttotal: 2.62s\tremaining: 16s\n",
      "141:\tlearn: 0.2742219\ttest: 0.3502591\tbest: 0.3430967 (56)\ttotal: 2.64s\tremaining: 15.9s\n",
      "142:\tlearn: 0.2736651\ttest: 0.3508999\tbest: 0.3430967 (56)\ttotal: 2.65s\tremaining: 15.9s\n",
      "143:\tlearn: 0.2736135\ttest: 0.3509167\tbest: 0.3430967 (56)\ttotal: 2.67s\tremaining: 15.9s\n",
      "144:\tlearn: 0.2728477\ttest: 0.3511355\tbest: 0.3430967 (56)\ttotal: 2.69s\tremaining: 15.8s\n",
      "145:\tlearn: 0.2726377\ttest: 0.3509817\tbest: 0.3430967 (56)\ttotal: 2.7s\tremaining: 15.8s\n",
      "146:\tlearn: 0.2722073\ttest: 0.3510930\tbest: 0.3430967 (56)\ttotal: 2.71s\tremaining: 15.8s\n",
      "147:\tlearn: 0.2713684\ttest: 0.3505688\tbest: 0.3430967 (56)\ttotal: 2.73s\tremaining: 15.7s\n",
      "148:\tlearn: 0.2707866\ttest: 0.3509474\tbest: 0.3430967 (56)\ttotal: 2.74s\tremaining: 15.7s\n",
      "149:\tlearn: 0.2701668\ttest: 0.3509717\tbest: 0.3430967 (56)\ttotal: 2.75s\tremaining: 15.6s\n",
      "150:\tlearn: 0.2696193\ttest: 0.3511688\tbest: 0.3430967 (56)\ttotal: 2.77s\tremaining: 15.6s\n",
      "151:\tlearn: 0.2688692\ttest: 0.3520078\tbest: 0.3430967 (56)\ttotal: 2.78s\tremaining: 15.5s\n",
      "152:\tlearn: 0.2685570\ttest: 0.3519931\tbest: 0.3430967 (56)\ttotal: 2.79s\tremaining: 15.5s\n",
      "153:\tlearn: 0.2680749\ttest: 0.3524501\tbest: 0.3430967 (56)\ttotal: 2.81s\tremaining: 15.4s\n",
      "154:\tlearn: 0.2680192\ttest: 0.3524969\tbest: 0.3430967 (56)\ttotal: 2.82s\tremaining: 15.4s\n",
      "155:\tlearn: 0.2677036\ttest: 0.3524266\tbest: 0.3430967 (56)\ttotal: 2.83s\tremaining: 15.3s\n",
      "156:\tlearn: 0.2672802\ttest: 0.3524762\tbest: 0.3430967 (56)\ttotal: 2.84s\tremaining: 15.3s\n",
      "157:\tlearn: 0.2666086\ttest: 0.3524274\tbest: 0.3430967 (56)\ttotal: 2.86s\tremaining: 15.2s\n",
      "158:\tlearn: 0.2661757\ttest: 0.3525296\tbest: 0.3430967 (56)\ttotal: 2.87s\tremaining: 15.2s\n",
      "159:\tlearn: 0.2657594\ttest: 0.3523502\tbest: 0.3430967 (56)\ttotal: 2.89s\tremaining: 15.2s\n",
      "160:\tlearn: 0.2653439\ttest: 0.3524582\tbest: 0.3430967 (56)\ttotal: 2.95s\tremaining: 15.4s\n",
      "161:\tlearn: 0.2650113\ttest: 0.3526206\tbest: 0.3430967 (56)\ttotal: 2.97s\tremaining: 15.3s\n",
      "162:\tlearn: 0.2645929\ttest: 0.3535305\tbest: 0.3430967 (56)\ttotal: 2.98s\tremaining: 15.3s\n",
      "163:\tlearn: 0.2642617\ttest: 0.3536977\tbest: 0.3430967 (56)\ttotal: 3s\tremaining: 15.3s\n",
      "164:\tlearn: 0.2636141\ttest: 0.3539680\tbest: 0.3430967 (56)\ttotal: 3.02s\tremaining: 15.3s\n",
      "165:\tlearn: 0.2630563\ttest: 0.3537746\tbest: 0.3430967 (56)\ttotal: 3.04s\tremaining: 15.3s\n",
      "166:\tlearn: 0.2626884\ttest: 0.3542147\tbest: 0.3430967 (56)\ttotal: 3.05s\tremaining: 15.2s\n",
      "167:\tlearn: 0.2622886\ttest: 0.3542531\tbest: 0.3430967 (56)\ttotal: 3.07s\tremaining: 15.2s\n",
      "168:\tlearn: 0.2619593\ttest: 0.3543819\tbest: 0.3430967 (56)\ttotal: 3.08s\tremaining: 15.1s\n",
      "169:\tlearn: 0.2618024\ttest: 0.3542853\tbest: 0.3430967 (56)\ttotal: 3.09s\tremaining: 15.1s\n",
      "170:\tlearn: 0.2615835\ttest: 0.3541982\tbest: 0.3430967 (56)\ttotal: 3.11s\tremaining: 15.1s\n",
      "171:\tlearn: 0.2613792\ttest: 0.3542652\tbest: 0.3430967 (56)\ttotal: 3.12s\tremaining: 15s\n",
      "172:\tlearn: 0.2609740\ttest: 0.3541144\tbest: 0.3430967 (56)\ttotal: 3.14s\tremaining: 15s\n",
      "173:\tlearn: 0.2603929\ttest: 0.3540762\tbest: 0.3430967 (56)\ttotal: 3.15s\tremaining: 15s\n",
      "174:\tlearn: 0.2602979\ttest: 0.3540801\tbest: 0.3430967 (56)\ttotal: 3.17s\tremaining: 14.9s\n",
      "175:\tlearn: 0.2597151\ttest: 0.3542332\tbest: 0.3430967 (56)\ttotal: 3.18s\tremaining: 14.9s\n",
      "176:\tlearn: 0.2590382\ttest: 0.3542899\tbest: 0.3430967 (56)\ttotal: 3.19s\tremaining: 14.9s\n",
      "177:\tlearn: 0.2582320\ttest: 0.3546022\tbest: 0.3430967 (56)\ttotal: 3.21s\tremaining: 14.8s\n",
      "178:\tlearn: 0.2573785\ttest: 0.3548394\tbest: 0.3430967 (56)\ttotal: 3.23s\tremaining: 14.8s\n",
      "179:\tlearn: 0.2568821\ttest: 0.3550562\tbest: 0.3430967 (56)\ttotal: 3.24s\tremaining: 14.8s\n",
      "180:\tlearn: 0.2568647\ttest: 0.3551146\tbest: 0.3430967 (56)\ttotal: 3.25s\tremaining: 14.7s\n",
      "181:\tlearn: 0.2562375\ttest: 0.3551780\tbest: 0.3430967 (56)\ttotal: 3.27s\tremaining: 14.7s\n",
      "182:\tlearn: 0.2558228\ttest: 0.3553271\tbest: 0.3430967 (56)\ttotal: 3.28s\tremaining: 14.7s\n",
      "183:\tlearn: 0.2555440\ttest: 0.3553043\tbest: 0.3430967 (56)\ttotal: 3.3s\tremaining: 14.6s\n",
      "184:\tlearn: 0.2552178\ttest: 0.3552193\tbest: 0.3430967 (56)\ttotal: 3.31s\tremaining: 14.6s\n",
      "185:\tlearn: 0.2548842\ttest: 0.3550913\tbest: 0.3430967 (56)\ttotal: 3.32s\tremaining: 14.6s\n",
      "186:\tlearn: 0.2545481\ttest: 0.3550750\tbest: 0.3430967 (56)\ttotal: 3.34s\tremaining: 14.5s\n",
      "187:\tlearn: 0.2541351\ttest: 0.3550494\tbest: 0.3430967 (56)\ttotal: 3.35s\tremaining: 14.5s\n",
      "188:\tlearn: 0.2539030\ttest: 0.3549529\tbest: 0.3430967 (56)\ttotal: 3.36s\tremaining: 14.4s\n",
      "189:\tlearn: 0.2537053\ttest: 0.3549749\tbest: 0.3430967 (56)\ttotal: 3.38s\tremaining: 14.4s\n",
      "190:\tlearn: 0.2533288\ttest: 0.3554486\tbest: 0.3430967 (56)\ttotal: 3.39s\tremaining: 14.4s\n",
      "191:\tlearn: 0.2530428\ttest: 0.3554081\tbest: 0.3430967 (56)\ttotal: 3.4s\tremaining: 14.3s\n",
      "192:\tlearn: 0.2529736\ttest: 0.3554609\tbest: 0.3430967 (56)\ttotal: 3.42s\tremaining: 14.3s\n",
      "193:\tlearn: 0.2522320\ttest: 0.3557904\tbest: 0.3430967 (56)\ttotal: 3.43s\tremaining: 14.3s\n",
      "194:\tlearn: 0.2521359\ttest: 0.3559835\tbest: 0.3430967 (56)\ttotal: 3.45s\tremaining: 14.2s\n",
      "195:\tlearn: 0.2516910\ttest: 0.3555552\tbest: 0.3430967 (56)\ttotal: 3.46s\tremaining: 14.2s\n",
      "196:\tlearn: 0.2516910\ttest: 0.3555552\tbest: 0.3430967 (56)\ttotal: 3.47s\tremaining: 14.2s\n",
      "197:\tlearn: 0.2516478\ttest: 0.3555604\tbest: 0.3430967 (56)\ttotal: 3.48s\tremaining: 14.1s\n",
      "198:\tlearn: 0.2512768\ttest: 0.3558428\tbest: 0.3430967 (56)\ttotal: 3.5s\tremaining: 14.1s\n",
      "199:\tlearn: 0.2510228\ttest: 0.3560575\tbest: 0.3430967 (56)\ttotal: 3.52s\tremaining: 14.1s\n",
      "200:\tlearn: 0.2502056\ttest: 0.3568852\tbest: 0.3430967 (56)\ttotal: 3.53s\tremaining: 14s\n",
      "201:\tlearn: 0.2497591\ttest: 0.3568109\tbest: 0.3430967 (56)\ttotal: 3.55s\tremaining: 14s\n",
      "202:\tlearn: 0.2496226\ttest: 0.3570133\tbest: 0.3430967 (56)\ttotal: 3.56s\tremaining: 14s\n",
      "203:\tlearn: 0.2492394\ttest: 0.3572440\tbest: 0.3430967 (56)\ttotal: 3.58s\tremaining: 14s\n",
      "204:\tlearn: 0.2489740\ttest: 0.3575294\tbest: 0.3430967 (56)\ttotal: 3.59s\tremaining: 13.9s\n",
      "205:\tlearn: 0.2487040\ttest: 0.3573384\tbest: 0.3430967 (56)\ttotal: 3.61s\tremaining: 13.9s\n",
      "206:\tlearn: 0.2482773\ttest: 0.3579203\tbest: 0.3430967 (56)\ttotal: 3.62s\tremaining: 13.9s\n",
      "207:\tlearn: 0.2479707\ttest: 0.3577820\tbest: 0.3430967 (56)\ttotal: 3.64s\tremaining: 13.9s\n",
      "208:\tlearn: 0.2477552\ttest: 0.3581347\tbest: 0.3430967 (56)\ttotal: 3.65s\tremaining: 13.8s\n",
      "209:\tlearn: 0.2472778\ttest: 0.3581915\tbest: 0.3430967 (56)\ttotal: 3.67s\tremaining: 13.8s\n",
      "210:\tlearn: 0.2470227\ttest: 0.3582856\tbest: 0.3430967 (56)\ttotal: 3.69s\tremaining: 13.8s\n",
      "211:\tlearn: 0.2469041\ttest: 0.3583648\tbest: 0.3430967 (56)\ttotal: 3.7s\tremaining: 13.8s\n",
      "212:\tlearn: 0.2466479\ttest: 0.3584795\tbest: 0.3430967 (56)\ttotal: 3.72s\tremaining: 13.7s\n",
      "213:\tlearn: 0.2465406\ttest: 0.3585439\tbest: 0.3430967 (56)\ttotal: 3.73s\tremaining: 13.7s\n",
      "214:\tlearn: 0.2461189\ttest: 0.3594702\tbest: 0.3430967 (56)\ttotal: 3.74s\tremaining: 13.7s\n",
      "215:\tlearn: 0.2457775\ttest: 0.3595291\tbest: 0.3430967 (56)\ttotal: 3.75s\tremaining: 13.6s\n",
      "216:\tlearn: 0.2454638\ttest: 0.3597680\tbest: 0.3430967 (56)\ttotal: 3.77s\tremaining: 13.6s\n",
      "217:\tlearn: 0.2450349\ttest: 0.3599229\tbest: 0.3430967 (56)\ttotal: 3.78s\tremaining: 13.6s\n",
      "218:\tlearn: 0.2446173\ttest: 0.3596689\tbest: 0.3430967 (56)\ttotal: 3.79s\tremaining: 13.5s\n",
      "219:\tlearn: 0.2441187\ttest: 0.3597146\tbest: 0.3430967 (56)\ttotal: 3.81s\tremaining: 13.5s\n",
      "220:\tlearn: 0.2434087\ttest: 0.3598675\tbest: 0.3430967 (56)\ttotal: 3.82s\tremaining: 13.5s\n",
      "221:\tlearn: 0.2429724\ttest: 0.3602704\tbest: 0.3430967 (56)\ttotal: 3.83s\tremaining: 13.4s\n",
      "222:\tlearn: 0.2423878\ttest: 0.3612941\tbest: 0.3430967 (56)\ttotal: 3.85s\tremaining: 13.4s\n",
      "223:\tlearn: 0.2419935\ttest: 0.3615489\tbest: 0.3430967 (56)\ttotal: 3.86s\tremaining: 13.4s\n",
      "224:\tlearn: 0.2416133\ttest: 0.3616763\tbest: 0.3430967 (56)\ttotal: 3.87s\tremaining: 13.3s\n",
      "225:\tlearn: 0.2408685\ttest: 0.3612983\tbest: 0.3430967 (56)\ttotal: 3.89s\tremaining: 13.3s\n",
      "226:\tlearn: 0.2404877\ttest: 0.3619073\tbest: 0.3430967 (56)\ttotal: 3.9s\tremaining: 13.3s\n",
      "227:\tlearn: 0.2402782\ttest: 0.3621138\tbest: 0.3430967 (56)\ttotal: 3.93s\tremaining: 13.3s\n",
      "228:\tlearn: 0.2397416\ttest: 0.3627019\tbest: 0.3430967 (56)\ttotal: 3.98s\tremaining: 13.4s\n",
      "229:\tlearn: 0.2393645\ttest: 0.3628731\tbest: 0.3430967 (56)\ttotal: 4s\tremaining: 13.4s\n",
      "230:\tlearn: 0.2391594\ttest: 0.3627697\tbest: 0.3430967 (56)\ttotal: 4.02s\tremaining: 13.4s\n",
      "231:\tlearn: 0.2386569\ttest: 0.3630402\tbest: 0.3430967 (56)\ttotal: 4.04s\tremaining: 13.4s\n",
      "232:\tlearn: 0.2385136\ttest: 0.3630748\tbest: 0.3430967 (56)\ttotal: 4.06s\tremaining: 13.4s\n",
      "233:\tlearn: 0.2384081\ttest: 0.3631399\tbest: 0.3430967 (56)\ttotal: 4.08s\tremaining: 13.4s\n",
      "234:\tlearn: 0.2383892\ttest: 0.3631376\tbest: 0.3430967 (56)\ttotal: 4.1s\tremaining: 13.3s\n",
      "235:\tlearn: 0.2380533\ttest: 0.3630779\tbest: 0.3430967 (56)\ttotal: 4.11s\tremaining: 13.3s\n",
      "236:\tlearn: 0.2378067\ttest: 0.3633584\tbest: 0.3430967 (56)\ttotal: 4.12s\tremaining: 13.3s\n",
      "237:\tlearn: 0.2375497\ttest: 0.3635430\tbest: 0.3430967 (56)\ttotal: 4.14s\tremaining: 13.2s\n",
      "238:\tlearn: 0.2371639\ttest: 0.3640563\tbest: 0.3430967 (56)\ttotal: 4.17s\tremaining: 13.3s\n",
      "239:\tlearn: 0.2367091\ttest: 0.3643894\tbest: 0.3430967 (56)\ttotal: 4.19s\tremaining: 13.3s\n",
      "240:\tlearn: 0.2362382\ttest: 0.3643978\tbest: 0.3430967 (56)\ttotal: 4.22s\tremaining: 13.3s\n",
      "241:\tlearn: 0.2359338\ttest: 0.3643566\tbest: 0.3430967 (56)\ttotal: 4.25s\tremaining: 13.3s\n",
      "242:\tlearn: 0.2355498\ttest: 0.3643998\tbest: 0.3430967 (56)\ttotal: 4.28s\tremaining: 13.3s\n",
      "243:\tlearn: 0.2351262\ttest: 0.3648169\tbest: 0.3430967 (56)\ttotal: 4.3s\tremaining: 13.3s\n",
      "244:\tlearn: 0.2349866\ttest: 0.3651501\tbest: 0.3430967 (56)\ttotal: 4.32s\tremaining: 13.3s\n",
      "245:\tlearn: 0.2348752\ttest: 0.3649854\tbest: 0.3430967 (56)\ttotal: 4.34s\tremaining: 13.3s\n",
      "246:\tlearn: 0.2345315\ttest: 0.3649180\tbest: 0.3430967 (56)\ttotal: 4.35s\tremaining: 13.3s\n",
      "247:\tlearn: 0.2342818\ttest: 0.3649808\tbest: 0.3430967 (56)\ttotal: 4.37s\tremaining: 13.2s\n",
      "248:\tlearn: 0.2338164\ttest: 0.3652342\tbest: 0.3430967 (56)\ttotal: 4.38s\tremaining: 13.2s\n",
      "249:\tlearn: 0.2335798\ttest: 0.3654076\tbest: 0.3430967 (56)\ttotal: 4.4s\tremaining: 13.2s\n",
      "250:\tlearn: 0.2331935\ttest: 0.3654335\tbest: 0.3430967 (56)\ttotal: 4.41s\tremaining: 13.2s\n",
      "251:\tlearn: 0.2326611\ttest: 0.3658381\tbest: 0.3430967 (56)\ttotal: 4.42s\tremaining: 13.1s\n",
      "252:\tlearn: 0.2325430\ttest: 0.3659356\tbest: 0.3430967 (56)\ttotal: 4.44s\tremaining: 13.1s\n",
      "253:\tlearn: 0.2321248\ttest: 0.3661383\tbest: 0.3430967 (56)\ttotal: 4.45s\tremaining: 13.1s\n",
      "254:\tlearn: 0.2319583\ttest: 0.3662542\tbest: 0.3430967 (56)\ttotal: 4.46s\tremaining: 13s\n",
      "255:\tlearn: 0.2315265\ttest: 0.3665242\tbest: 0.3430967 (56)\ttotal: 4.48s\tremaining: 13s\n",
      "256:\tlearn: 0.2311568\ttest: 0.3665054\tbest: 0.3430967 (56)\ttotal: 4.51s\tremaining: 13s\n",
      "257:\tlearn: 0.2307138\ttest: 0.3668720\tbest: 0.3430967 (56)\ttotal: 4.54s\tremaining: 13.1s\n",
      "258:\tlearn: 0.2300855\ttest: 0.3673250\tbest: 0.3430967 (56)\ttotal: 4.6s\tremaining: 13.2s\n",
      "259:\tlearn: 0.2298022\ttest: 0.3672300\tbest: 0.3430967 (56)\ttotal: 4.71s\tremaining: 13.4s\n",
      "260:\tlearn: 0.2297900\ttest: 0.3672297\tbest: 0.3430967 (56)\ttotal: 4.73s\tremaining: 13.4s\n",
      "261:\tlearn: 0.2295331\ttest: 0.3670847\tbest: 0.3430967 (56)\ttotal: 4.75s\tremaining: 13.4s\n",
      "262:\tlearn: 0.2289957\ttest: 0.3678677\tbest: 0.3430967 (56)\ttotal: 4.78s\tremaining: 13.4s\n",
      "263:\tlearn: 0.2285094\ttest: 0.3684814\tbest: 0.3430967 (56)\ttotal: 4.79s\tremaining: 13.4s\n",
      "264:\tlearn: 0.2282353\ttest: 0.3685739\tbest: 0.3430967 (56)\ttotal: 4.82s\tremaining: 13.4s\n",
      "265:\tlearn: 0.2279268\ttest: 0.3686366\tbest: 0.3430967 (56)\ttotal: 4.83s\tremaining: 13.3s\n",
      "266:\tlearn: 0.2278328\ttest: 0.3685431\tbest: 0.3430967 (56)\ttotal: 4.85s\tremaining: 13.3s\n",
      "267:\tlearn: 0.2273575\ttest: 0.3689288\tbest: 0.3430967 (56)\ttotal: 4.86s\tremaining: 13.3s\n",
      "268:\tlearn: 0.2273139\ttest: 0.3689590\tbest: 0.3430967 (56)\ttotal: 4.88s\tremaining: 13.3s\n",
      "269:\tlearn: 0.2267428\ttest: 0.3686454\tbest: 0.3430967 (56)\ttotal: 4.9s\tremaining: 13.2s\n",
      "270:\tlearn: 0.2264832\ttest: 0.3687661\tbest: 0.3430967 (56)\ttotal: 4.92s\tremaining: 13.2s\n",
      "271:\tlearn: 0.2259517\ttest: 0.3688394\tbest: 0.3430967 (56)\ttotal: 4.94s\tremaining: 13.2s\n",
      "272:\tlearn: 0.2255059\ttest: 0.3687586\tbest: 0.3430967 (56)\ttotal: 5s\tremaining: 13.3s\n",
      "273:\tlearn: 0.2251292\ttest: 0.3689347\tbest: 0.3430967 (56)\ttotal: 5.03s\tremaining: 13.3s\n",
      "274:\tlearn: 0.2249626\ttest: 0.3691989\tbest: 0.3430967 (56)\ttotal: 5.05s\tremaining: 13.3s\n",
      "275:\tlearn: 0.2244174\ttest: 0.3690746\tbest: 0.3430967 (56)\ttotal: 5.07s\tremaining: 13.3s\n",
      "276:\tlearn: 0.2239990\ttest: 0.3691790\tbest: 0.3430967 (56)\ttotal: 5.09s\tremaining: 13.3s\n",
      "277:\tlearn: 0.2237317\ttest: 0.3694494\tbest: 0.3430967 (56)\ttotal: 5.11s\tremaining: 13.3s\n",
      "278:\tlearn: 0.2232695\ttest: 0.3691247\tbest: 0.3430967 (56)\ttotal: 5.13s\tremaining: 13.3s\n",
      "279:\tlearn: 0.2229299\ttest: 0.3691236\tbest: 0.3430967 (56)\ttotal: 5.15s\tremaining: 13.2s\n",
      "280:\tlearn: 0.2226126\ttest: 0.3696230\tbest: 0.3430967 (56)\ttotal: 5.17s\tremaining: 13.2s\n",
      "281:\tlearn: 0.2223115\ttest: 0.3696615\tbest: 0.3430967 (56)\ttotal: 5.19s\tremaining: 13.2s\n",
      "282:\tlearn: 0.2218720\ttest: 0.3697993\tbest: 0.3430967 (56)\ttotal: 5.22s\tremaining: 13.2s\n",
      "283:\tlearn: 0.2214739\ttest: 0.3693875\tbest: 0.3430967 (56)\ttotal: 5.29s\tremaining: 13.3s\n",
      "284:\tlearn: 0.2211813\ttest: 0.3696006\tbest: 0.3430967 (56)\ttotal: 5.32s\tremaining: 13.3s\n",
      "285:\tlearn: 0.2210299\ttest: 0.3696228\tbest: 0.3430967 (56)\ttotal: 5.35s\tremaining: 13.4s\n",
      "286:\tlearn: 0.2206545\ttest: 0.3697796\tbest: 0.3430967 (56)\ttotal: 5.37s\tremaining: 13.3s\n",
      "287:\tlearn: 0.2202009\ttest: 0.3712252\tbest: 0.3430967 (56)\ttotal: 5.38s\tremaining: 13.3s\n",
      "288:\tlearn: 0.2199334\ttest: 0.3715384\tbest: 0.3430967 (56)\ttotal: 5.4s\tremaining: 13.3s\n",
      "289:\tlearn: 0.2197061\ttest: 0.3713286\tbest: 0.3430967 (56)\ttotal: 5.42s\tremaining: 13.3s\n",
      "290:\tlearn: 0.2194109\ttest: 0.3713762\tbest: 0.3430967 (56)\ttotal: 5.44s\tremaining: 13.3s\n",
      "291:\tlearn: 0.2191220\ttest: 0.3716122\tbest: 0.3430967 (56)\ttotal: 5.46s\tremaining: 13.2s\n",
      "292:\tlearn: 0.2187183\ttest: 0.3721123\tbest: 0.3430967 (56)\ttotal: 5.48s\tremaining: 13.2s\n",
      "293:\tlearn: 0.2184426\ttest: 0.3722682\tbest: 0.3430967 (56)\ttotal: 5.5s\tremaining: 13.2s\n",
      "294:\tlearn: 0.2180706\ttest: 0.3723484\tbest: 0.3430967 (56)\ttotal: 5.52s\tremaining: 13.2s\n",
      "295:\tlearn: 0.2177787\ttest: 0.3723975\tbest: 0.3430967 (56)\ttotal: 5.54s\tremaining: 13.2s\n",
      "296:\tlearn: 0.2176040\ttest: 0.3724625\tbest: 0.3430967 (56)\ttotal: 5.57s\tremaining: 13.2s\n",
      "297:\tlearn: 0.2174614\ttest: 0.3723915\tbest: 0.3430967 (56)\ttotal: 5.58s\tremaining: 13.2s\n",
      "298:\tlearn: 0.2171183\ttest: 0.3725719\tbest: 0.3430967 (56)\ttotal: 5.6s\tremaining: 13.1s\n",
      "299:\tlearn: 0.2169448\ttest: 0.3725471\tbest: 0.3430967 (56)\ttotal: 5.62s\tremaining: 13.1s\n",
      "300:\tlearn: 0.2167333\ttest: 0.3727682\tbest: 0.3430967 (56)\ttotal: 5.63s\tremaining: 13.1s\n",
      "301:\tlearn: 0.2165392\ttest: 0.3726376\tbest: 0.3430967 (56)\ttotal: 5.65s\tremaining: 13.1s\n",
      "302:\tlearn: 0.2164205\ttest: 0.3726630\tbest: 0.3430967 (56)\ttotal: 5.66s\tremaining: 13s\n",
      "303:\tlearn: 0.2159879\ttest: 0.3728466\tbest: 0.3430967 (56)\ttotal: 5.68s\tremaining: 13s\n",
      "304:\tlearn: 0.2158599\ttest: 0.3729644\tbest: 0.3430967 (56)\ttotal: 5.71s\tremaining: 13s\n",
      "305:\tlearn: 0.2156189\ttest: 0.3733467\tbest: 0.3430967 (56)\ttotal: 5.73s\tremaining: 13s\n",
      "306:\tlearn: 0.2154771\ttest: 0.3736840\tbest: 0.3430967 (56)\ttotal: 5.74s\tremaining: 13s\n",
      "307:\tlearn: 0.2149734\ttest: 0.3742003\tbest: 0.3430967 (56)\ttotal: 5.75s\tremaining: 12.9s\n",
      "308:\tlearn: 0.2148058\ttest: 0.3744030\tbest: 0.3430967 (56)\ttotal: 5.77s\tremaining: 12.9s\n",
      "309:\tlearn: 0.2144310\ttest: 0.3749717\tbest: 0.3430967 (56)\ttotal: 5.78s\tremaining: 12.9s\n",
      "310:\tlearn: 0.2141839\ttest: 0.3748336\tbest: 0.3430967 (56)\ttotal: 5.79s\tremaining: 12.8s\n",
      "311:\tlearn: 0.2138726\ttest: 0.3751047\tbest: 0.3430967 (56)\ttotal: 5.81s\tremaining: 12.8s\n",
      "312:\tlearn: 0.2137752\ttest: 0.3751302\tbest: 0.3430967 (56)\ttotal: 5.83s\tremaining: 12.8s\n",
      "313:\tlearn: 0.2136115\ttest: 0.3751323\tbest: 0.3430967 (56)\ttotal: 5.84s\tremaining: 12.8s\n",
      "314:\tlearn: 0.2135106\ttest: 0.3751948\tbest: 0.3430967 (56)\ttotal: 5.86s\tremaining: 12.7s\n",
      "315:\tlearn: 0.2133371\ttest: 0.3751415\tbest: 0.3430967 (56)\ttotal: 5.87s\tremaining: 12.7s\n",
      "316:\tlearn: 0.2129111\ttest: 0.3754912\tbest: 0.3430967 (56)\ttotal: 5.88s\tremaining: 12.7s\n",
      "317:\tlearn: 0.2126761\ttest: 0.3761836\tbest: 0.3430967 (56)\ttotal: 5.9s\tremaining: 12.7s\n",
      "318:\tlearn: 0.2125763\ttest: 0.3760382\tbest: 0.3430967 (56)\ttotal: 5.92s\tremaining: 12.6s\n",
      "319:\tlearn: 0.2121367\ttest: 0.3765841\tbest: 0.3430967 (56)\ttotal: 5.93s\tremaining: 12.6s\n",
      "320:\tlearn: 0.2118478\ttest: 0.3766813\tbest: 0.3430967 (56)\ttotal: 5.95s\tremaining: 12.6s\n",
      "321:\tlearn: 0.2115057\ttest: 0.3767539\tbest: 0.3430967 (56)\ttotal: 6.03s\tremaining: 12.7s\n",
      "322:\tlearn: 0.2109543\ttest: 0.3767505\tbest: 0.3430967 (56)\ttotal: 6.09s\tremaining: 12.8s\n",
      "323:\tlearn: 0.2105587\ttest: 0.3769800\tbest: 0.3430967 (56)\ttotal: 6.1s\tremaining: 12.7s\n",
      "324:\tlearn: 0.2102712\ttest: 0.3768666\tbest: 0.3430967 (56)\ttotal: 6.12s\tremaining: 12.7s\n",
      "325:\tlearn: 0.2099101\ttest: 0.3772188\tbest: 0.3430967 (56)\ttotal: 6.13s\tremaining: 12.7s\n",
      "326:\tlearn: 0.2091594\ttest: 0.3783177\tbest: 0.3430967 (56)\ttotal: 6.15s\tremaining: 12.7s\n",
      "327:\tlearn: 0.2090284\ttest: 0.3785211\tbest: 0.3430967 (56)\ttotal: 6.17s\tremaining: 12.6s\n",
      "328:\tlearn: 0.2087016\ttest: 0.3782968\tbest: 0.3430967 (56)\ttotal: 6.18s\tremaining: 12.6s\n",
      "329:\tlearn: 0.2082654\ttest: 0.3786141\tbest: 0.3430967 (56)\ttotal: 6.2s\tremaining: 12.6s\n",
      "330:\tlearn: 0.2078754\ttest: 0.3785662\tbest: 0.3430967 (56)\ttotal: 6.21s\tremaining: 12.5s\n",
      "331:\tlearn: 0.2076994\ttest: 0.3787229\tbest: 0.3430967 (56)\ttotal: 6.22s\tremaining: 12.5s\n",
      "332:\tlearn: 0.2074071\ttest: 0.3789549\tbest: 0.3430967 (56)\ttotal: 6.23s\tremaining: 12.5s\n",
      "333:\tlearn: 0.2071380\ttest: 0.3786383\tbest: 0.3430967 (56)\ttotal: 6.25s\tremaining: 12.5s\n",
      "334:\tlearn: 0.2069571\ttest: 0.3789989\tbest: 0.3430967 (56)\ttotal: 6.27s\tremaining: 12.4s\n",
      "335:\tlearn: 0.2068002\ttest: 0.3793464\tbest: 0.3430967 (56)\ttotal: 6.29s\tremaining: 12.4s\n",
      "336:\tlearn: 0.2065478\ttest: 0.3795708\tbest: 0.3430967 (56)\ttotal: 6.31s\tremaining: 12.4s\n",
      "337:\tlearn: 0.2063967\ttest: 0.3795362\tbest: 0.3430967 (56)\ttotal: 6.33s\tremaining: 12.4s\n",
      "338:\tlearn: 0.2060018\ttest: 0.3796297\tbest: 0.3430967 (56)\ttotal: 6.35s\tremaining: 12.4s\n",
      "339:\tlearn: 0.2058266\ttest: 0.3796172\tbest: 0.3430967 (56)\ttotal: 6.36s\tremaining: 12.3s\n",
      "340:\tlearn: 0.2055036\ttest: 0.3794175\tbest: 0.3430967 (56)\ttotal: 6.37s\tremaining: 12.3s\n",
      "341:\tlearn: 0.2054792\ttest: 0.3794863\tbest: 0.3430967 (56)\ttotal: 6.39s\tremaining: 12.3s\n",
      "342:\tlearn: 0.2051859\ttest: 0.3793002\tbest: 0.3430967 (56)\ttotal: 6.41s\tremaining: 12.3s\n",
      "343:\tlearn: 0.2048753\ttest: 0.3796935\tbest: 0.3430967 (56)\ttotal: 6.42s\tremaining: 12.3s\n",
      "344:\tlearn: 0.2047100\ttest: 0.3793957\tbest: 0.3430967 (56)\ttotal: 6.44s\tremaining: 12.2s\n",
      "345:\tlearn: 0.2043356\ttest: 0.3794635\tbest: 0.3430967 (56)\ttotal: 6.47s\tremaining: 12.2s\n",
      "346:\tlearn: 0.2040531\ttest: 0.3793389\tbest: 0.3430967 (56)\ttotal: 6.5s\tremaining: 12.2s\n",
      "347:\tlearn: 0.2036150\ttest: 0.3789764\tbest: 0.3430967 (56)\ttotal: 6.52s\tremaining: 12.2s\n",
      "348:\tlearn: 0.2031910\ttest: 0.3788438\tbest: 0.3430967 (56)\ttotal: 6.53s\tremaining: 12.2s\n",
      "349:\tlearn: 0.2030448\ttest: 0.3787131\tbest: 0.3430967 (56)\ttotal: 6.55s\tremaining: 12.2s\n",
      "350:\tlearn: 0.2030410\ttest: 0.3787142\tbest: 0.3430967 (56)\ttotal: 6.56s\tremaining: 12.1s\n",
      "351:\tlearn: 0.2027989\ttest: 0.3789455\tbest: 0.3430967 (56)\ttotal: 6.58s\tremaining: 12.1s\n",
      "352:\tlearn: 0.2023742\ttest: 0.3790991\tbest: 0.3430967 (56)\ttotal: 6.59s\tremaining: 12.1s\n",
      "353:\tlearn: 0.2020495\ttest: 0.3793817\tbest: 0.3430967 (56)\ttotal: 6.61s\tremaining: 12.1s\n",
      "354:\tlearn: 0.2019552\ttest: 0.3795053\tbest: 0.3430967 (56)\ttotal: 6.62s\tremaining: 12s\n",
      "355:\tlearn: 0.2016978\ttest: 0.3797272\tbest: 0.3430967 (56)\ttotal: 6.63s\tremaining: 12s\n",
      "356:\tlearn: 0.2015970\ttest: 0.3796656\tbest: 0.3430967 (56)\ttotal: 6.65s\tremaining: 12s\n",
      "357:\tlearn: 0.2014247\ttest: 0.3798234\tbest: 0.3430967 (56)\ttotal: 6.66s\tremaining: 11.9s\n",
      "358:\tlearn: 0.2014237\ttest: 0.3798282\tbest: 0.3430967 (56)\ttotal: 6.68s\tremaining: 11.9s\n",
      "359:\tlearn: 0.2011199\ttest: 0.3799442\tbest: 0.3430967 (56)\ttotal: 6.7s\tremaining: 11.9s\n",
      "360:\tlearn: 0.2009319\ttest: 0.3802328\tbest: 0.3430967 (56)\ttotal: 6.72s\tremaining: 11.9s\n",
      "361:\tlearn: 0.2007460\ttest: 0.3805280\tbest: 0.3430967 (56)\ttotal: 6.74s\tremaining: 11.9s\n",
      "362:\tlearn: 0.2003730\ttest: 0.3805503\tbest: 0.3430967 (56)\ttotal: 6.75s\tremaining: 11.8s\n",
      "363:\tlearn: 0.2001400\ttest: 0.3803390\tbest: 0.3430967 (56)\ttotal: 6.78s\tremaining: 11.8s\n",
      "364:\tlearn: 0.1996893\ttest: 0.3803049\tbest: 0.3430967 (56)\ttotal: 6.79s\tremaining: 11.8s\n",
      "365:\tlearn: 0.1995792\ttest: 0.3805134\tbest: 0.3430967 (56)\ttotal: 6.82s\tremaining: 11.8s\n",
      "366:\tlearn: 0.1993839\ttest: 0.3805655\tbest: 0.3430967 (56)\ttotal: 6.83s\tremaining: 11.8s\n",
      "367:\tlearn: 0.1990790\ttest: 0.3809957\tbest: 0.3430967 (56)\ttotal: 6.85s\tremaining: 11.8s\n",
      "368:\tlearn: 0.1987918\ttest: 0.3808321\tbest: 0.3430967 (56)\ttotal: 6.86s\tremaining: 11.7s\n",
      "369:\tlearn: 0.1985629\ttest: 0.3809474\tbest: 0.3430967 (56)\ttotal: 6.9s\tremaining: 11.7s\n",
      "370:\tlearn: 0.1984987\ttest: 0.3806256\tbest: 0.3430967 (56)\ttotal: 6.92s\tremaining: 11.7s\n",
      "371:\tlearn: 0.1983839\ttest: 0.3807868\tbest: 0.3430967 (56)\ttotal: 6.93s\tremaining: 11.7s\n",
      "372:\tlearn: 0.1983754\ttest: 0.3807973\tbest: 0.3430967 (56)\ttotal: 6.94s\tremaining: 11.7s\n",
      "373:\tlearn: 0.1981596\ttest: 0.3809607\tbest: 0.3430967 (56)\ttotal: 6.96s\tremaining: 11.6s\n",
      "374:\tlearn: 0.1981111\ttest: 0.3809603\tbest: 0.3430967 (56)\ttotal: 6.97s\tremaining: 11.6s\n",
      "375:\tlearn: 0.1980578\ttest: 0.3809368\tbest: 0.3430967 (56)\ttotal: 6.98s\tremaining: 11.6s\n",
      "376:\tlearn: 0.1977735\ttest: 0.3809343\tbest: 0.3430967 (56)\ttotal: 7s\tremaining: 11.6s\n",
      "377:\tlearn: 0.1974234\ttest: 0.3812947\tbest: 0.3430967 (56)\ttotal: 7.01s\tremaining: 11.5s\n",
      "378:\tlearn: 0.1971140\ttest: 0.3815408\tbest: 0.3430967 (56)\ttotal: 7.03s\tremaining: 11.5s\n",
      "379:\tlearn: 0.1965533\ttest: 0.3819701\tbest: 0.3430967 (56)\ttotal: 7.06s\tremaining: 11.5s\n",
      "380:\tlearn: 0.1963530\ttest: 0.3819289\tbest: 0.3430967 (56)\ttotal: 7.1s\tremaining: 11.5s\n",
      "381:\tlearn: 0.1960503\ttest: 0.3819752\tbest: 0.3430967 (56)\ttotal: 7.12s\tremaining: 11.5s\n",
      "382:\tlearn: 0.1959008\ttest: 0.3819549\tbest: 0.3430967 (56)\ttotal: 7.15s\tremaining: 11.5s\n",
      "383:\tlearn: 0.1956741\ttest: 0.3820673\tbest: 0.3430967 (56)\ttotal: 7.16s\tremaining: 11.5s\n",
      "384:\tlearn: 0.1955116\ttest: 0.3822454\tbest: 0.3430967 (56)\ttotal: 7.18s\tremaining: 11.5s\n",
      "385:\tlearn: 0.1953747\ttest: 0.3822445\tbest: 0.3430967 (56)\ttotal: 7.19s\tremaining: 11.4s\n",
      "386:\tlearn: 0.1952750\ttest: 0.3822381\tbest: 0.3430967 (56)\ttotal: 7.21s\tremaining: 11.4s\n",
      "387:\tlearn: 0.1951811\ttest: 0.3825425\tbest: 0.3430967 (56)\ttotal: 7.22s\tremaining: 11.4s\n",
      "388:\tlearn: 0.1951810\ttest: 0.3825423\tbest: 0.3430967 (56)\ttotal: 7.24s\tremaining: 11.4s\n",
      "389:\tlearn: 0.1950125\ttest: 0.3827438\tbest: 0.3430967 (56)\ttotal: 7.25s\tremaining: 11.3s\n",
      "390:\tlearn: 0.1947493\ttest: 0.3827634\tbest: 0.3430967 (56)\ttotal: 7.27s\tremaining: 11.3s\n",
      "391:\tlearn: 0.1944161\ttest: 0.3828629\tbest: 0.3430967 (56)\ttotal: 7.29s\tremaining: 11.3s\n",
      "392:\tlearn: 0.1941083\ttest: 0.3829526\tbest: 0.3430967 (56)\ttotal: 7.31s\tremaining: 11.3s\n",
      "393:\tlearn: 0.1939909\ttest: 0.3829266\tbest: 0.3430967 (56)\ttotal: 7.32s\tremaining: 11.3s\n",
      "394:\tlearn: 0.1939685\ttest: 0.3830299\tbest: 0.3430967 (56)\ttotal: 7.34s\tremaining: 11.2s\n",
      "395:\tlearn: 0.1936491\ttest: 0.3830792\tbest: 0.3430967 (56)\ttotal: 7.36s\tremaining: 11.2s\n",
      "396:\tlearn: 0.1934446\ttest: 0.3830213\tbest: 0.3430967 (56)\ttotal: 7.38s\tremaining: 11.2s\n",
      "397:\tlearn: 0.1934446\ttest: 0.3830211\tbest: 0.3430967 (56)\ttotal: 7.39s\tremaining: 11.2s\n",
      "398:\tlearn: 0.1933540\ttest: 0.3830435\tbest: 0.3430967 (56)\ttotal: 7.4s\tremaining: 11.1s\n",
      "399:\tlearn: 0.1931448\ttest: 0.3834193\tbest: 0.3430967 (56)\ttotal: 7.41s\tremaining: 11.1s\n",
      "400:\tlearn: 0.1928223\ttest: 0.3832060\tbest: 0.3430967 (56)\ttotal: 7.43s\tremaining: 11.1s\n",
      "401:\tlearn: 0.1923927\ttest: 0.3834988\tbest: 0.3430967 (56)\ttotal: 7.44s\tremaining: 11.1s\n",
      "402:\tlearn: 0.1922472\ttest: 0.3835365\tbest: 0.3430967 (56)\ttotal: 7.45s\tremaining: 11s\n",
      "403:\tlearn: 0.1921864\ttest: 0.3836897\tbest: 0.3430967 (56)\ttotal: 7.47s\tremaining: 11s\n",
      "404:\tlearn: 0.1918824\ttest: 0.3836005\tbest: 0.3430967 (56)\ttotal: 7.48s\tremaining: 11s\n",
      "405:\tlearn: 0.1918824\ttest: 0.3836004\tbest: 0.3430967 (56)\ttotal: 7.49s\tremaining: 11s\n",
      "406:\tlearn: 0.1917331\ttest: 0.3835876\tbest: 0.3430967 (56)\ttotal: 7.5s\tremaining: 10.9s\n",
      "407:\tlearn: 0.1914548\ttest: 0.3841455\tbest: 0.3430967 (56)\ttotal: 7.51s\tremaining: 10.9s\n",
      "408:\tlearn: 0.1911875\ttest: 0.3843320\tbest: 0.3430967 (56)\ttotal: 7.53s\tremaining: 10.9s\n",
      "409:\tlearn: 0.1909918\ttest: 0.3845729\tbest: 0.3430967 (56)\ttotal: 7.55s\tremaining: 10.9s\n",
      "410:\tlearn: 0.1908943\ttest: 0.3847291\tbest: 0.3430967 (56)\ttotal: 7.58s\tremaining: 10.9s\n",
      "411:\tlearn: 0.1905630\ttest: 0.3850972\tbest: 0.3430967 (56)\ttotal: 7.6s\tremaining: 10.8s\n",
      "412:\tlearn: 0.1903153\ttest: 0.3849209\tbest: 0.3430967 (56)\ttotal: 7.62s\tremaining: 10.8s\n",
      "413:\tlearn: 0.1900951\ttest: 0.3850774\tbest: 0.3430967 (56)\ttotal: 7.63s\tremaining: 10.8s\n",
      "414:\tlearn: 0.1898780\ttest: 0.3849641\tbest: 0.3430967 (56)\ttotal: 7.64s\tremaining: 10.8s\n",
      "415:\tlearn: 0.1897220\ttest: 0.3851720\tbest: 0.3430967 (56)\ttotal: 7.66s\tremaining: 10.7s\n",
      "416:\tlearn: 0.1896535\ttest: 0.3851798\tbest: 0.3430967 (56)\ttotal: 7.67s\tremaining: 10.7s\n",
      "417:\tlearn: 0.1894079\ttest: 0.3854400\tbest: 0.3430967 (56)\ttotal: 7.71s\tremaining: 10.7s\n",
      "418:\tlearn: 0.1892001\ttest: 0.3852762\tbest: 0.3430967 (56)\ttotal: 7.72s\tremaining: 10.7s\n",
      "419:\tlearn: 0.1889026\ttest: 0.3853784\tbest: 0.3430967 (56)\ttotal: 7.74s\tremaining: 10.7s\n",
      "420:\tlearn: 0.1886674\ttest: 0.3854901\tbest: 0.3430967 (56)\ttotal: 7.76s\tremaining: 10.7s\n",
      "421:\tlearn: 0.1884994\ttest: 0.3853149\tbest: 0.3430967 (56)\ttotal: 7.78s\tremaining: 10.7s\n",
      "422:\tlearn: 0.1882942\ttest: 0.3855222\tbest: 0.3430967 (56)\ttotal: 7.8s\tremaining: 10.6s\n",
      "423:\tlearn: 0.1880094\ttest: 0.3855319\tbest: 0.3430967 (56)\ttotal: 7.82s\tremaining: 10.6s\n",
      "424:\tlearn: 0.1878250\ttest: 0.3856565\tbest: 0.3430967 (56)\ttotal: 7.84s\tremaining: 10.6s\n",
      "425:\tlearn: 0.1875148\ttest: 0.3854807\tbest: 0.3430967 (56)\ttotal: 7.86s\tremaining: 10.6s\n",
      "426:\tlearn: 0.1872938\ttest: 0.3857357\tbest: 0.3430967 (56)\ttotal: 7.87s\tremaining: 10.6s\n",
      "427:\tlearn: 0.1870989\ttest: 0.3859234\tbest: 0.3430967 (56)\ttotal: 7.89s\tremaining: 10.5s\n",
      "428:\tlearn: 0.1868258\ttest: 0.3862440\tbest: 0.3430967 (56)\ttotal: 7.92s\tremaining: 10.5s\n",
      "429:\tlearn: 0.1865945\ttest: 0.3862839\tbest: 0.3430967 (56)\ttotal: 7.94s\tremaining: 10.5s\n",
      "430:\tlearn: 0.1862267\ttest: 0.3861239\tbest: 0.3430967 (56)\ttotal: 7.96s\tremaining: 10.5s\n",
      "431:\tlearn: 0.1859483\ttest: 0.3862601\tbest: 0.3430967 (56)\ttotal: 7.97s\tremaining: 10.5s\n",
      "432:\tlearn: 0.1856641\ttest: 0.3866101\tbest: 0.3430967 (56)\ttotal: 7.99s\tremaining: 10.5s\n",
      "433:\tlearn: 0.1855763\ttest: 0.3866015\tbest: 0.3430967 (56)\ttotal: 8s\tremaining: 10.4s\n",
      "434:\tlearn: 0.1853510\ttest: 0.3869834\tbest: 0.3430967 (56)\ttotal: 8.02s\tremaining: 10.4s\n",
      "435:\tlearn: 0.1851672\ttest: 0.3871235\tbest: 0.3430967 (56)\ttotal: 8.04s\tremaining: 10.4s\n",
      "436:\tlearn: 0.1847874\ttest: 0.3872823\tbest: 0.3430967 (56)\ttotal: 8.05s\tremaining: 10.4s\n",
      "437:\tlearn: 0.1846236\ttest: 0.3875519\tbest: 0.3430967 (56)\ttotal: 8.06s\tremaining: 10.3s\n",
      "438:\tlearn: 0.1843691\ttest: 0.3879053\tbest: 0.3430967 (56)\ttotal: 8.12s\tremaining: 10.4s\n",
      "439:\tlearn: 0.1841452\ttest: 0.3883937\tbest: 0.3430967 (56)\ttotal: 8.15s\tremaining: 10.4s\n",
      "440:\tlearn: 0.1839411\ttest: 0.3887155\tbest: 0.3430967 (56)\ttotal: 8.17s\tremaining: 10.4s\n",
      "441:\tlearn: 0.1835172\ttest: 0.3886254\tbest: 0.3430967 (56)\ttotal: 8.21s\tremaining: 10.4s\n",
      "442:\tlearn: 0.1833806\ttest: 0.3888714\tbest: 0.3430967 (56)\ttotal: 8.24s\tremaining: 10.4s\n",
      "443:\tlearn: 0.1829681\ttest: 0.3887660\tbest: 0.3430967 (56)\ttotal: 8.27s\tremaining: 10.4s\n",
      "444:\tlearn: 0.1827098\ttest: 0.3890918\tbest: 0.3430967 (56)\ttotal: 8.29s\tremaining: 10.3s\n",
      "445:\tlearn: 0.1826795\ttest: 0.3891424\tbest: 0.3430967 (56)\ttotal: 8.32s\tremaining: 10.3s\n",
      "446:\tlearn: 0.1823112\ttest: 0.3893857\tbest: 0.3430967 (56)\ttotal: 8.36s\tremaining: 10.3s\n",
      "447:\tlearn: 0.1823050\ttest: 0.3893832\tbest: 0.3430967 (56)\ttotal: 8.39s\tremaining: 10.3s\n",
      "448:\tlearn: 0.1821712\ttest: 0.3895821\tbest: 0.3430967 (56)\ttotal: 8.42s\tremaining: 10.3s\n",
      "449:\tlearn: 0.1819595\ttest: 0.3898278\tbest: 0.3430967 (56)\ttotal: 8.44s\tremaining: 10.3s\n",
      "450:\tlearn: 0.1817746\ttest: 0.3900634\tbest: 0.3430967 (56)\ttotal: 8.46s\tremaining: 10.3s\n",
      "451:\tlearn: 0.1816840\ttest: 0.3901235\tbest: 0.3430967 (56)\ttotal: 8.48s\tremaining: 10.3s\n",
      "452:\tlearn: 0.1816837\ttest: 0.3901231\tbest: 0.3430967 (56)\ttotal: 8.49s\tremaining: 10.3s\n",
      "453:\tlearn: 0.1813565\ttest: 0.3905427\tbest: 0.3430967 (56)\ttotal: 8.51s\tremaining: 10.2s\n",
      "454:\tlearn: 0.1811007\ttest: 0.3906540\tbest: 0.3430967 (56)\ttotal: 8.52s\tremaining: 10.2s\n",
      "455:\tlearn: 0.1809216\ttest: 0.3907866\tbest: 0.3430967 (56)\ttotal: 8.54s\tremaining: 10.2s\n",
      "456:\tlearn: 0.1807980\ttest: 0.3911191\tbest: 0.3430967 (56)\ttotal: 8.56s\tremaining: 10.2s\n",
      "457:\tlearn: 0.1807535\ttest: 0.3911207\tbest: 0.3430967 (56)\ttotal: 8.58s\tremaining: 10.2s\n",
      "458:\tlearn: 0.1805965\ttest: 0.3911363\tbest: 0.3430967 (56)\ttotal: 8.6s\tremaining: 10.1s\n",
      "459:\tlearn: 0.1801803\ttest: 0.3909385\tbest: 0.3430967 (56)\ttotal: 8.62s\tremaining: 10.1s\n",
      "460:\tlearn: 0.1798480\ttest: 0.3912153\tbest: 0.3430967 (56)\ttotal: 8.63s\tremaining: 10.1s\n",
      "461:\tlearn: 0.1796870\ttest: 0.3917353\tbest: 0.3430967 (56)\ttotal: 8.65s\tremaining: 10.1s\n",
      "462:\tlearn: 0.1795661\ttest: 0.3917750\tbest: 0.3430967 (56)\ttotal: 8.66s\tremaining: 10.1s\n",
      "463:\tlearn: 0.1794406\ttest: 0.3918101\tbest: 0.3430967 (56)\ttotal: 8.68s\tremaining: 10s\n",
      "464:\tlearn: 0.1791359\ttest: 0.3919653\tbest: 0.3430967 (56)\ttotal: 8.7s\tremaining: 10s\n",
      "465:\tlearn: 0.1789729\ttest: 0.3919834\tbest: 0.3430967 (56)\ttotal: 8.71s\tremaining: 9.98s\n",
      "466:\tlearn: 0.1788059\ttest: 0.3918796\tbest: 0.3430967 (56)\ttotal: 8.72s\tremaining: 9.95s\n",
      "467:\tlearn: 0.1785396\ttest: 0.3918282\tbest: 0.3430967 (56)\ttotal: 8.74s\tremaining: 9.93s\n",
      "468:\tlearn: 0.1783030\ttest: 0.3918293\tbest: 0.3430967 (56)\ttotal: 8.75s\tremaining: 9.91s\n",
      "469:\tlearn: 0.1779092\ttest: 0.3925792\tbest: 0.3430967 (56)\ttotal: 8.77s\tremaining: 9.89s\n",
      "470:\tlearn: 0.1778991\ttest: 0.3926475\tbest: 0.3430967 (56)\ttotal: 8.79s\tremaining: 9.87s\n",
      "471:\tlearn: 0.1778418\ttest: 0.3925789\tbest: 0.3430967 (56)\ttotal: 8.8s\tremaining: 9.84s\n",
      "472:\tlearn: 0.1775890\ttest: 0.3929022\tbest: 0.3430967 (56)\ttotal: 8.82s\tremaining: 9.82s\n",
      "473:\tlearn: 0.1775890\ttest: 0.3929021\tbest: 0.3430967 (56)\ttotal: 8.83s\tremaining: 9.79s\n",
      "474:\tlearn: 0.1775029\ttest: 0.3927578\tbest: 0.3430967 (56)\ttotal: 8.84s\tremaining: 9.77s\n",
      "475:\tlearn: 0.1774315\ttest: 0.3929639\tbest: 0.3430967 (56)\ttotal: 8.86s\tremaining: 9.75s\n",
      "476:\tlearn: 0.1774315\ttest: 0.3929637\tbest: 0.3430967 (56)\ttotal: 8.86s\tremaining: 9.72s\n",
      "477:\tlearn: 0.1772677\ttest: 0.3930167\tbest: 0.3430967 (56)\ttotal: 8.88s\tremaining: 9.7s\n",
      "478:\tlearn: 0.1770666\ttest: 0.3932851\tbest: 0.3430967 (56)\ttotal: 8.89s\tremaining: 9.68s\n",
      "479:\tlearn: 0.1768825\ttest: 0.3932100\tbest: 0.3430967 (56)\ttotal: 8.91s\tremaining: 9.66s\n",
      "480:\tlearn: 0.1767316\ttest: 0.3933793\tbest: 0.3430967 (56)\ttotal: 8.95s\tremaining: 9.65s\n",
      "481:\tlearn: 0.1766287\ttest: 0.3932470\tbest: 0.3430967 (56)\ttotal: 8.98s\tremaining: 9.65s\n",
      "482:\tlearn: 0.1763517\ttest: 0.3933729\tbest: 0.3430967 (56)\ttotal: 9s\tremaining: 9.63s\n",
      "483:\tlearn: 0.1759839\ttest: 0.3935554\tbest: 0.3430967 (56)\ttotal: 9.02s\tremaining: 9.61s\n",
      "484:\tlearn: 0.1759063\ttest: 0.3933929\tbest: 0.3430967 (56)\ttotal: 9.03s\tremaining: 9.59s\n",
      "485:\tlearn: 0.1757720\ttest: 0.3932179\tbest: 0.3430967 (56)\ttotal: 9.06s\tremaining: 9.59s\n",
      "486:\tlearn: 0.1757111\ttest: 0.3933338\tbest: 0.3430967 (56)\ttotal: 9.09s\tremaining: 9.58s\n",
      "487:\tlearn: 0.1756654\ttest: 0.3933385\tbest: 0.3430967 (56)\ttotal: 9.13s\tremaining: 9.58s\n",
      "488:\tlearn: 0.1756199\ttest: 0.3931667\tbest: 0.3430967 (56)\ttotal: 9.16s\tremaining: 9.58s\n",
      "489:\tlearn: 0.1754823\ttest: 0.3932586\tbest: 0.3430967 (56)\ttotal: 9.19s\tremaining: 9.56s\n",
      "490:\tlearn: 0.1751686\ttest: 0.3932067\tbest: 0.3430967 (56)\ttotal: 9.21s\tremaining: 9.55s\n",
      "491:\tlearn: 0.1749651\ttest: 0.3933419\tbest: 0.3430967 (56)\ttotal: 9.23s\tremaining: 9.53s\n",
      "492:\tlearn: 0.1749236\ttest: 0.3933308\tbest: 0.3430967 (56)\ttotal: 9.24s\tremaining: 9.51s\n",
      "493:\tlearn: 0.1748509\ttest: 0.3934900\tbest: 0.3430967 (56)\ttotal: 9.26s\tremaining: 9.48s\n",
      "494:\tlearn: 0.1747955\ttest: 0.3938039\tbest: 0.3430967 (56)\ttotal: 9.28s\tremaining: 9.46s\n",
      "495:\tlearn: 0.1746712\ttest: 0.3936884\tbest: 0.3430967 (56)\ttotal: 9.29s\tremaining: 9.44s\n",
      "496:\tlearn: 0.1745209\ttest: 0.3937984\tbest: 0.3430967 (56)\ttotal: 9.31s\tremaining: 9.42s\n",
      "497:\tlearn: 0.1742240\ttest: 0.3939601\tbest: 0.3430967 (56)\ttotal: 9.32s\tremaining: 9.39s\n",
      "498:\tlearn: 0.1741483\ttest: 0.3941627\tbest: 0.3430967 (56)\ttotal: 9.33s\tremaining: 9.37s\n",
      "499:\tlearn: 0.1739864\ttest: 0.3938871\tbest: 0.3430967 (56)\ttotal: 9.35s\tremaining: 9.35s\n",
      "500:\tlearn: 0.1739241\ttest: 0.3940216\tbest: 0.3430967 (56)\ttotal: 9.36s\tremaining: 9.32s\n",
      "501:\tlearn: 0.1736976\ttest: 0.3945436\tbest: 0.3430967 (56)\ttotal: 9.37s\tremaining: 9.3s\n",
      "502:\tlearn: 0.1732394\ttest: 0.3950882\tbest: 0.3430967 (56)\ttotal: 9.39s\tremaining: 9.27s\n",
      "503:\tlearn: 0.1730136\ttest: 0.3952120\tbest: 0.3430967 (56)\ttotal: 9.4s\tremaining: 9.25s\n",
      "504:\tlearn: 0.1728359\ttest: 0.3954411\tbest: 0.3430967 (56)\ttotal: 9.41s\tremaining: 9.22s\n",
      "505:\tlearn: 0.1726811\ttest: 0.3954954\tbest: 0.3430967 (56)\ttotal: 9.43s\tremaining: 9.2s\n",
      "506:\tlearn: 0.1725658\ttest: 0.3954114\tbest: 0.3430967 (56)\ttotal: 9.44s\tremaining: 9.18s\n",
      "507:\tlearn: 0.1724254\ttest: 0.3953774\tbest: 0.3430967 (56)\ttotal: 9.45s\tremaining: 9.15s\n",
      "508:\tlearn: 0.1723878\ttest: 0.3954573\tbest: 0.3430967 (56)\ttotal: 9.46s\tremaining: 9.13s\n",
      "509:\tlearn: 0.1723126\ttest: 0.3953400\tbest: 0.3430967 (56)\ttotal: 9.48s\tremaining: 9.11s\n",
      "510:\tlearn: 0.1721092\ttest: 0.3954927\tbest: 0.3430967 (56)\ttotal: 9.49s\tremaining: 9.08s\n",
      "511:\tlearn: 0.1719244\ttest: 0.3956183\tbest: 0.3430967 (56)\ttotal: 9.5s\tremaining: 9.06s\n",
      "512:\tlearn: 0.1719056\ttest: 0.3955727\tbest: 0.3430967 (56)\ttotal: 9.52s\tremaining: 9.03s\n",
      "513:\tlearn: 0.1716892\ttest: 0.3954777\tbest: 0.3430967 (56)\ttotal: 9.53s\tremaining: 9.01s\n",
      "514:\tlearn: 0.1714266\ttest: 0.3955045\tbest: 0.3430967 (56)\ttotal: 9.55s\tremaining: 8.99s\n",
      "515:\tlearn: 0.1713154\ttest: 0.3954345\tbest: 0.3430967 (56)\ttotal: 9.56s\tremaining: 8.97s\n",
      "516:\tlearn: 0.1712337\ttest: 0.3954692\tbest: 0.3430967 (56)\ttotal: 9.58s\tremaining: 8.95s\n",
      "517:\tlearn: 0.1710626\ttest: 0.3955908\tbest: 0.3430967 (56)\ttotal: 9.6s\tremaining: 8.94s\n",
      "518:\tlearn: 0.1708548\ttest: 0.3959182\tbest: 0.3430967 (56)\ttotal: 9.62s\tremaining: 8.91s\n",
      "519:\tlearn: 0.1707683\ttest: 0.3958107\tbest: 0.3430967 (56)\ttotal: 9.63s\tremaining: 8.89s\n",
      "520:\tlearn: 0.1704000\ttest: 0.3968699\tbest: 0.3430967 (56)\ttotal: 9.65s\tremaining: 8.87s\n",
      "521:\tlearn: 0.1700627\ttest: 0.3969469\tbest: 0.3430967 (56)\ttotal: 9.66s\tremaining: 8.85s\n",
      "522:\tlearn: 0.1699214\ttest: 0.3968113\tbest: 0.3430967 (56)\ttotal: 9.68s\tremaining: 8.83s\n",
      "523:\tlearn: 0.1698524\ttest: 0.3969296\tbest: 0.3430967 (56)\ttotal: 9.69s\tremaining: 8.8s\n",
      "524:\tlearn: 0.1694849\ttest: 0.3969215\tbest: 0.3430967 (56)\ttotal: 9.7s\tremaining: 8.78s\n",
      "525:\tlearn: 0.1694063\ttest: 0.3971543\tbest: 0.3430967 (56)\ttotal: 9.72s\tremaining: 8.76s\n",
      "526:\tlearn: 0.1693324\ttest: 0.3972369\tbest: 0.3430967 (56)\ttotal: 9.73s\tremaining: 8.73s\n",
      "527:\tlearn: 0.1691124\ttest: 0.3974940\tbest: 0.3430967 (56)\ttotal: 9.74s\tremaining: 8.71s\n",
      "528:\tlearn: 0.1688966\ttest: 0.3976789\tbest: 0.3430967 (56)\ttotal: 9.76s\tremaining: 8.69s\n",
      "529:\tlearn: 0.1686270\ttest: 0.3977749\tbest: 0.3430967 (56)\ttotal: 9.77s\tremaining: 8.67s\n",
      "530:\tlearn: 0.1684645\ttest: 0.3978187\tbest: 0.3430967 (56)\ttotal: 9.79s\tremaining: 8.64s\n",
      "531:\tlearn: 0.1682587\ttest: 0.3979152\tbest: 0.3430967 (56)\ttotal: 9.8s\tremaining: 8.62s\n",
      "532:\tlearn: 0.1680568\ttest: 0.3980779\tbest: 0.3430967 (56)\ttotal: 9.81s\tremaining: 8.6s\n",
      "533:\tlearn: 0.1679384\ttest: 0.3981721\tbest: 0.3430967 (56)\ttotal: 9.83s\tremaining: 8.58s\n",
      "534:\tlearn: 0.1678589\ttest: 0.3983094\tbest: 0.3430967 (56)\ttotal: 9.84s\tremaining: 8.55s\n",
      "535:\tlearn: 0.1677283\ttest: 0.3985150\tbest: 0.3430967 (56)\ttotal: 9.85s\tremaining: 8.53s\n",
      "536:\tlearn: 0.1675977\ttest: 0.3986780\tbest: 0.3430967 (56)\ttotal: 9.87s\tremaining: 8.51s\n",
      "537:\tlearn: 0.1672854\ttest: 0.3980586\tbest: 0.3430967 (56)\ttotal: 9.89s\tremaining: 8.49s\n",
      "538:\tlearn: 0.1670597\ttest: 0.3982942\tbest: 0.3430967 (56)\ttotal: 9.9s\tremaining: 8.47s\n",
      "539:\tlearn: 0.1669143\ttest: 0.3981794\tbest: 0.3430967 (56)\ttotal: 9.92s\tremaining: 8.45s\n",
      "540:\tlearn: 0.1668404\ttest: 0.3984725\tbest: 0.3430967 (56)\ttotal: 9.95s\tremaining: 8.44s\n",
      "541:\tlearn: 0.1666611\ttest: 0.3983898\tbest: 0.3430967 (56)\ttotal: 9.99s\tremaining: 8.44s\n",
      "542:\tlearn: 0.1663938\ttest: 0.3985973\tbest: 0.3430967 (56)\ttotal: 10s\tremaining: 8.42s\n",
      "543:\tlearn: 0.1662613\ttest: 0.3983775\tbest: 0.3430967 (56)\ttotal: 10s\tremaining: 8.4s\n",
      "544:\tlearn: 0.1659628\ttest: 0.3985506\tbest: 0.3430967 (56)\ttotal: 10s\tremaining: 8.38s\n",
      "545:\tlearn: 0.1657124\ttest: 0.3985292\tbest: 0.3430967 (56)\ttotal: 10.1s\tremaining: 8.36s\n",
      "546:\tlearn: 0.1654447\ttest: 0.3990146\tbest: 0.3430967 (56)\ttotal: 10.1s\tremaining: 8.34s\n",
      "547:\tlearn: 0.1652890\ttest: 0.3993390\tbest: 0.3430967 (56)\ttotal: 10.1s\tremaining: 8.32s\n",
      "548:\tlearn: 0.1652733\ttest: 0.3993916\tbest: 0.3430967 (56)\ttotal: 10.1s\tremaining: 8.3s\n",
      "549:\tlearn: 0.1650303\ttest: 0.3995230\tbest: 0.3430967 (56)\ttotal: 10.1s\tremaining: 8.28s\n",
      "550:\tlearn: 0.1647290\ttest: 0.3998117\tbest: 0.3430967 (56)\ttotal: 10.1s\tremaining: 8.26s\n",
      "551:\tlearn: 0.1645391\ttest: 0.3998301\tbest: 0.3430967 (56)\ttotal: 10.2s\tremaining: 8.28s\n",
      "552:\tlearn: 0.1642763\ttest: 0.4001484\tbest: 0.3430967 (56)\ttotal: 10.2s\tremaining: 8.26s\n",
      "553:\tlearn: 0.1638500\ttest: 0.4002244\tbest: 0.3430967 (56)\ttotal: 10.2s\tremaining: 8.24s\n",
      "554:\tlearn: 0.1636872\ttest: 0.4002115\tbest: 0.3430967 (56)\ttotal: 10.3s\tremaining: 8.22s\n",
      "555:\tlearn: 0.1634440\ttest: 0.4005404\tbest: 0.3430967 (56)\ttotal: 10.3s\tremaining: 8.2s\n",
      "556:\tlearn: 0.1631812\ttest: 0.4010584\tbest: 0.3430967 (56)\ttotal: 10.3s\tremaining: 8.18s\n",
      "557:\tlearn: 0.1630406\ttest: 0.4012204\tbest: 0.3430967 (56)\ttotal: 10.3s\tremaining: 8.16s\n",
      "558:\tlearn: 0.1628257\ttest: 0.4015200\tbest: 0.3430967 (56)\ttotal: 10.3s\tremaining: 8.14s\n",
      "559:\tlearn: 0.1627699\ttest: 0.4016797\tbest: 0.3430967 (56)\ttotal: 10.3s\tremaining: 8.12s\n",
      "560:\tlearn: 0.1625267\ttest: 0.4017625\tbest: 0.3430967 (56)\ttotal: 10.3s\tremaining: 8.1s\n",
      "561:\tlearn: 0.1624445\ttest: 0.4020387\tbest: 0.3430967 (56)\ttotal: 10.4s\tremaining: 8.07s\n",
      "562:\tlearn: 0.1622363\ttest: 0.4019723\tbest: 0.3430967 (56)\ttotal: 10.4s\tremaining: 8.05s\n",
      "563:\tlearn: 0.1621022\ttest: 0.4019149\tbest: 0.3430967 (56)\ttotal: 10.4s\tremaining: 8.04s\n",
      "564:\tlearn: 0.1620508\ttest: 0.4018196\tbest: 0.3430967 (56)\ttotal: 10.4s\tremaining: 8.02s\n",
      "565:\tlearn: 0.1619342\ttest: 0.4019506\tbest: 0.3430967 (56)\ttotal: 10.4s\tremaining: 8s\n",
      "566:\tlearn: 0.1616845\ttest: 0.4025222\tbest: 0.3430967 (56)\ttotal: 10.4s\tremaining: 7.97s\n",
      "567:\tlearn: 0.1613958\ttest: 0.4030018\tbest: 0.3430967 (56)\ttotal: 10.5s\tremaining: 7.96s\n",
      "568:\tlearn: 0.1612975\ttest: 0.4029193\tbest: 0.3430967 (56)\ttotal: 10.5s\tremaining: 7.93s\n",
      "569:\tlearn: 0.1611691\ttest: 0.4028357\tbest: 0.3430967 (56)\ttotal: 10.5s\tremaining: 7.91s\n",
      "570:\tlearn: 0.1609942\ttest: 0.4027872\tbest: 0.3430967 (56)\ttotal: 10.5s\tremaining: 7.89s\n",
      "571:\tlearn: 0.1608280\ttest: 0.4028072\tbest: 0.3430967 (56)\ttotal: 10.5s\tremaining: 7.88s\n",
      "572:\tlearn: 0.1607085\ttest: 0.4027618\tbest: 0.3430967 (56)\ttotal: 10.5s\tremaining: 7.86s\n",
      "573:\tlearn: 0.1606019\ttest: 0.4028099\tbest: 0.3430967 (56)\ttotal: 10.6s\tremaining: 7.84s\n",
      "574:\tlearn: 0.1605055\ttest: 0.4029159\tbest: 0.3430967 (56)\ttotal: 10.6s\tremaining: 7.82s\n",
      "575:\tlearn: 0.1603335\ttest: 0.4027827\tbest: 0.3430967 (56)\ttotal: 10.6s\tremaining: 7.81s\n",
      "576:\tlearn: 0.1601488\ttest: 0.4028337\tbest: 0.3430967 (56)\ttotal: 10.6s\tremaining: 7.8s\n",
      "577:\tlearn: 0.1599350\ttest: 0.4030075\tbest: 0.3430967 (56)\ttotal: 10.7s\tremaining: 7.78s\n",
      "578:\tlearn: 0.1597299\ttest: 0.4033560\tbest: 0.3430967 (56)\ttotal: 10.7s\tremaining: 7.76s\n",
      "579:\tlearn: 0.1596209\ttest: 0.4033682\tbest: 0.3430967 (56)\ttotal: 10.7s\tremaining: 7.74s\n",
      "580:\tlearn: 0.1594252\ttest: 0.4036163\tbest: 0.3430967 (56)\ttotal: 10.7s\tremaining: 7.72s\n",
      "581:\tlearn: 0.1592403\ttest: 0.4037469\tbest: 0.3430967 (56)\ttotal: 10.7s\tremaining: 7.7s\n",
      "582:\tlearn: 0.1589409\ttest: 0.4038633\tbest: 0.3430967 (56)\ttotal: 10.8s\tremaining: 7.71s\n",
      "583:\tlearn: 0.1587810\ttest: 0.4036807\tbest: 0.3430967 (56)\ttotal: 10.8s\tremaining: 7.69s\n",
      "584:\tlearn: 0.1584469\ttest: 0.4037357\tbest: 0.3430967 (56)\ttotal: 10.9s\tremaining: 7.7s\n",
      "585:\tlearn: 0.1582116\ttest: 0.4036002\tbest: 0.3430967 (56)\ttotal: 10.9s\tremaining: 7.68s\n",
      "586:\tlearn: 0.1580633\ttest: 0.4038551\tbest: 0.3430967 (56)\ttotal: 10.9s\tremaining: 7.67s\n",
      "587:\tlearn: 0.1579019\ttest: 0.4040162\tbest: 0.3430967 (56)\ttotal: 10.9s\tremaining: 7.65s\n",
      "588:\tlearn: 0.1576216\ttest: 0.4042941\tbest: 0.3430967 (56)\ttotal: 10.9s\tremaining: 7.63s\n",
      "589:\tlearn: 0.1573615\ttest: 0.4046897\tbest: 0.3430967 (56)\ttotal: 11s\tremaining: 7.62s\n",
      "590:\tlearn: 0.1572404\ttest: 0.4044432\tbest: 0.3430967 (56)\ttotal: 11s\tremaining: 7.6s\n",
      "591:\tlearn: 0.1571057\ttest: 0.4042907\tbest: 0.3430967 (56)\ttotal: 11s\tremaining: 7.59s\n",
      "592:\tlearn: 0.1570402\ttest: 0.4043858\tbest: 0.3430967 (56)\ttotal: 11s\tremaining: 7.57s\n",
      "593:\tlearn: 0.1569403\ttest: 0.4041971\tbest: 0.3430967 (56)\ttotal: 11s\tremaining: 7.55s\n",
      "594:\tlearn: 0.1568748\ttest: 0.4042480\tbest: 0.3430967 (56)\ttotal: 11.1s\tremaining: 7.53s\n",
      "595:\tlearn: 0.1566513\ttest: 0.4044990\tbest: 0.3430967 (56)\ttotal: 11.1s\tremaining: 7.51s\n",
      "596:\tlearn: 0.1565156\ttest: 0.4044703\tbest: 0.3430967 (56)\ttotal: 11.1s\tremaining: 7.49s\n",
      "597:\tlearn: 0.1563482\ttest: 0.4049282\tbest: 0.3430967 (56)\ttotal: 11.1s\tremaining: 7.47s\n",
      "598:\tlearn: 0.1562608\ttest: 0.4045637\tbest: 0.3430967 (56)\ttotal: 11.1s\tremaining: 7.45s\n",
      "599:\tlearn: 0.1562000\ttest: 0.4047195\tbest: 0.3430967 (56)\ttotal: 11.1s\tremaining: 7.43s\n",
      "600:\tlearn: 0.1559740\ttest: 0.4047494\tbest: 0.3430967 (56)\ttotal: 11.2s\tremaining: 7.41s\n",
      "601:\tlearn: 0.1559740\ttest: 0.4047501\tbest: 0.3430967 (56)\ttotal: 11.2s\tremaining: 7.38s\n",
      "602:\tlearn: 0.1558614\ttest: 0.4047223\tbest: 0.3430967 (56)\ttotal: 11.2s\tremaining: 7.38s\n",
      "603:\tlearn: 0.1556710\ttest: 0.4049199\tbest: 0.3430967 (56)\ttotal: 11.2s\tremaining: 7.37s\n",
      "604:\tlearn: 0.1554755\ttest: 0.4051889\tbest: 0.3430967 (56)\ttotal: 11.2s\tremaining: 7.34s\n",
      "605:\tlearn: 0.1554754\ttest: 0.4051907\tbest: 0.3430967 (56)\ttotal: 11.3s\tremaining: 7.32s\n",
      "606:\tlearn: 0.1553894\ttest: 0.4053365\tbest: 0.3430967 (56)\ttotal: 11.3s\tremaining: 7.29s\n",
      "607:\tlearn: 0.1551957\ttest: 0.4054340\tbest: 0.3430967 (56)\ttotal: 11.3s\tremaining: 7.27s\n",
      "608:\tlearn: 0.1550013\ttest: 0.4058853\tbest: 0.3430967 (56)\ttotal: 11.3s\tremaining: 7.25s\n",
      "609:\tlearn: 0.1547380\ttest: 0.4057829\tbest: 0.3430967 (56)\ttotal: 11.3s\tremaining: 7.23s\n",
      "610:\tlearn: 0.1544545\ttest: 0.4053490\tbest: 0.3430967 (56)\ttotal: 11.3s\tremaining: 7.21s\n",
      "611:\tlearn: 0.1542167\ttest: 0.4052895\tbest: 0.3430967 (56)\ttotal: 11.3s\tremaining: 7.18s\n",
      "612:\tlearn: 0.1540010\ttest: 0.4051251\tbest: 0.3430967 (56)\ttotal: 11.3s\tremaining: 7.16s\n",
      "613:\tlearn: 0.1539235\ttest: 0.4049634\tbest: 0.3430967 (56)\ttotal: 11.4s\tremaining: 7.14s\n",
      "614:\tlearn: 0.1537155\ttest: 0.4047116\tbest: 0.3430967 (56)\ttotal: 11.4s\tremaining: 7.12s\n",
      "615:\tlearn: 0.1534027\ttest: 0.4044142\tbest: 0.3430967 (56)\ttotal: 11.4s\tremaining: 7.1s\n",
      "616:\tlearn: 0.1533070\ttest: 0.4043841\tbest: 0.3430967 (56)\ttotal: 11.4s\tremaining: 7.07s\n",
      "617:\tlearn: 0.1530668\ttest: 0.4045539\tbest: 0.3430967 (56)\ttotal: 11.4s\tremaining: 7.05s\n",
      "618:\tlearn: 0.1529001\ttest: 0.4048399\tbest: 0.3430967 (56)\ttotal: 11.4s\tremaining: 7.03s\n",
      "619:\tlearn: 0.1527812\ttest: 0.4050317\tbest: 0.3430967 (56)\ttotal: 11.4s\tremaining: 7.01s\n",
      "620:\tlearn: 0.1525771\ttest: 0.4045250\tbest: 0.3430967 (56)\ttotal: 11.5s\tremaining: 6.99s\n",
      "621:\tlearn: 0.1524172\ttest: 0.4042673\tbest: 0.3430967 (56)\ttotal: 11.5s\tremaining: 6.97s\n",
      "622:\tlearn: 0.1523297\ttest: 0.4043930\tbest: 0.3430967 (56)\ttotal: 11.5s\tremaining: 6.95s\n",
      "623:\tlearn: 0.1522299\ttest: 0.4046823\tbest: 0.3430967 (56)\ttotal: 11.5s\tremaining: 6.93s\n",
      "624:\tlearn: 0.1520829\ttest: 0.4044275\tbest: 0.3430967 (56)\ttotal: 11.5s\tremaining: 6.91s\n",
      "625:\tlearn: 0.1520013\ttest: 0.4042795\tbest: 0.3430967 (56)\ttotal: 11.5s\tremaining: 6.89s\n",
      "626:\tlearn: 0.1518083\ttest: 0.4045646\tbest: 0.3430967 (56)\ttotal: 11.5s\tremaining: 6.87s\n",
      "627:\tlearn: 0.1517092\ttest: 0.4046913\tbest: 0.3430967 (56)\ttotal: 11.6s\tremaining: 6.85s\n",
      "628:\tlearn: 0.1516716\ttest: 0.4046803\tbest: 0.3430967 (56)\ttotal: 11.6s\tremaining: 6.83s\n",
      "629:\tlearn: 0.1515416\ttest: 0.4048485\tbest: 0.3430967 (56)\ttotal: 11.6s\tremaining: 6.8s\n",
      "630:\tlearn: 0.1513809\ttest: 0.4048781\tbest: 0.3430967 (56)\ttotal: 11.6s\tremaining: 6.78s\n",
      "631:\tlearn: 0.1511789\ttest: 0.4049397\tbest: 0.3430967 (56)\ttotal: 11.6s\tremaining: 6.76s\n",
      "632:\tlearn: 0.1509568\ttest: 0.4049859\tbest: 0.3430967 (56)\ttotal: 11.6s\tremaining: 6.74s\n",
      "633:\tlearn: 0.1507256\ttest: 0.4051001\tbest: 0.3430967 (56)\ttotal: 11.6s\tremaining: 6.72s\n",
      "634:\tlearn: 0.1504271\ttest: 0.4058837\tbest: 0.3430967 (56)\ttotal: 11.7s\tremaining: 6.7s\n",
      "635:\tlearn: 0.1501954\ttest: 0.4061685\tbest: 0.3430967 (56)\ttotal: 11.7s\tremaining: 6.68s\n",
      "636:\tlearn: 0.1501431\ttest: 0.4060454\tbest: 0.3430967 (56)\ttotal: 11.7s\tremaining: 6.66s\n",
      "637:\tlearn: 0.1499778\ttest: 0.4061154\tbest: 0.3430967 (56)\ttotal: 11.7s\tremaining: 6.64s\n",
      "638:\tlearn: 0.1499258\ttest: 0.4061059\tbest: 0.3430967 (56)\ttotal: 11.7s\tremaining: 6.62s\n",
      "639:\tlearn: 0.1498850\ttest: 0.4060648\tbest: 0.3430967 (56)\ttotal: 11.7s\tremaining: 6.6s\n",
      "640:\tlearn: 0.1496139\ttest: 0.4059981\tbest: 0.3430967 (56)\ttotal: 11.7s\tremaining: 6.58s\n",
      "641:\tlearn: 0.1495379\ttest: 0.4060240\tbest: 0.3430967 (56)\ttotal: 11.8s\tremaining: 6.56s\n",
      "642:\tlearn: 0.1493185\ttest: 0.4062966\tbest: 0.3430967 (56)\ttotal: 11.8s\tremaining: 6.54s\n",
      "643:\tlearn: 0.1491890\ttest: 0.4064578\tbest: 0.3430967 (56)\ttotal: 11.8s\tremaining: 6.52s\n",
      "644:\tlearn: 0.1490435\ttest: 0.4063543\tbest: 0.3430967 (56)\ttotal: 11.8s\tremaining: 6.5s\n",
      "645:\tlearn: 0.1487503\ttest: 0.4066783\tbest: 0.3430967 (56)\ttotal: 11.8s\tremaining: 6.49s\n",
      "646:\tlearn: 0.1486519\ttest: 0.4064526\tbest: 0.3430967 (56)\ttotal: 11.9s\tremaining: 6.47s\n",
      "647:\tlearn: 0.1485555\ttest: 0.4062835\tbest: 0.3430967 (56)\ttotal: 11.9s\tremaining: 6.45s\n",
      "648:\tlearn: 0.1485481\ttest: 0.4062947\tbest: 0.3430967 (56)\ttotal: 11.9s\tremaining: 6.43s\n",
      "649:\tlearn: 0.1483134\ttest: 0.4063972\tbest: 0.3430967 (56)\ttotal: 11.9s\tremaining: 6.42s\n",
      "650:\tlearn: 0.1482232\ttest: 0.4065644\tbest: 0.3430967 (56)\ttotal: 11.9s\tremaining: 6.4s\n",
      "651:\tlearn: 0.1478904\ttest: 0.4068804\tbest: 0.3430967 (56)\ttotal: 11.9s\tremaining: 6.38s\n",
      "652:\tlearn: 0.1478029\ttest: 0.4071471\tbest: 0.3430967 (56)\ttotal: 12s\tremaining: 6.36s\n",
      "653:\tlearn: 0.1476483\ttest: 0.4072208\tbest: 0.3430967 (56)\ttotal: 12s\tremaining: 6.34s\n",
      "654:\tlearn: 0.1475408\ttest: 0.4075010\tbest: 0.3430967 (56)\ttotal: 12s\tremaining: 6.33s\n",
      "655:\tlearn: 0.1473488\ttest: 0.4076580\tbest: 0.3430967 (56)\ttotal: 12.1s\tremaining: 6.32s\n",
      "656:\tlearn: 0.1473487\ttest: 0.4076592\tbest: 0.3430967 (56)\ttotal: 12.1s\tremaining: 6.3s\n",
      "657:\tlearn: 0.1472585\ttest: 0.4075975\tbest: 0.3430967 (56)\ttotal: 12.1s\tremaining: 6.28s\n",
      "658:\tlearn: 0.1472384\ttest: 0.4076872\tbest: 0.3430967 (56)\ttotal: 12.1s\tremaining: 6.26s\n",
      "659:\tlearn: 0.1471047\ttest: 0.4077073\tbest: 0.3430967 (56)\ttotal: 12.1s\tremaining: 6.24s\n",
      "660:\tlearn: 0.1470336\ttest: 0.4079783\tbest: 0.3430967 (56)\ttotal: 12.1s\tremaining: 6.22s\n",
      "661:\tlearn: 0.1470335\ttest: 0.4079762\tbest: 0.3430967 (56)\ttotal: 12.1s\tremaining: 6.2s\n",
      "662:\tlearn: 0.1469903\ttest: 0.4079493\tbest: 0.3430967 (56)\ttotal: 12.2s\tremaining: 6.18s\n",
      "663:\tlearn: 0.1469902\ttest: 0.4079492\tbest: 0.3430967 (56)\ttotal: 12.2s\tremaining: 6.16s\n",
      "664:\tlearn: 0.1469125\ttest: 0.4080716\tbest: 0.3430967 (56)\ttotal: 12.2s\tremaining: 6.14s\n",
      "665:\tlearn: 0.1469123\ttest: 0.4080757\tbest: 0.3430967 (56)\ttotal: 12.3s\tremaining: 6.15s\n",
      "666:\tlearn: 0.1467597\ttest: 0.4078766\tbest: 0.3430967 (56)\ttotal: 12.3s\tremaining: 6.13s\n",
      "667:\tlearn: 0.1463575\ttest: 0.4082463\tbest: 0.3430967 (56)\ttotal: 12.3s\tremaining: 6.11s\n",
      "668:\tlearn: 0.1460852\ttest: 0.4081871\tbest: 0.3430967 (56)\ttotal: 12.3s\tremaining: 6.09s\n",
      "669:\tlearn: 0.1458358\ttest: 0.4083092\tbest: 0.3430967 (56)\ttotal: 12.3s\tremaining: 6.08s\n",
      "670:\tlearn: 0.1454912\ttest: 0.4085682\tbest: 0.3430967 (56)\ttotal: 12.4s\tremaining: 6.07s\n",
      "671:\tlearn: 0.1451941\ttest: 0.4084868\tbest: 0.3430967 (56)\ttotal: 12.4s\tremaining: 6.06s\n",
      "672:\tlearn: 0.1450821\ttest: 0.4084435\tbest: 0.3430967 (56)\ttotal: 12.4s\tremaining: 6.04s\n",
      "673:\tlearn: 0.1450539\ttest: 0.4084678\tbest: 0.3430967 (56)\ttotal: 12.4s\tremaining: 6.01s\n",
      "674:\tlearn: 0.1448102\ttest: 0.4088476\tbest: 0.3430967 (56)\ttotal: 12.4s\tremaining: 5.99s\n",
      "675:\tlearn: 0.1446549\ttest: 0.4088484\tbest: 0.3430967 (56)\ttotal: 12.5s\tremaining: 5.97s\n",
      "676:\tlearn: 0.1445431\ttest: 0.4088038\tbest: 0.3430967 (56)\ttotal: 12.5s\tremaining: 5.95s\n",
      "677:\tlearn: 0.1443405\ttest: 0.4094884\tbest: 0.3430967 (56)\ttotal: 12.5s\tremaining: 5.93s\n",
      "678:\tlearn: 0.1441536\ttest: 0.4091916\tbest: 0.3430967 (56)\ttotal: 12.5s\tremaining: 5.91s\n",
      "679:\tlearn: 0.1440080\ttest: 0.4092035\tbest: 0.3430967 (56)\ttotal: 12.5s\tremaining: 5.89s\n",
      "680:\tlearn: 0.1438731\ttest: 0.4092390\tbest: 0.3430967 (56)\ttotal: 12.5s\tremaining: 5.87s\n",
      "681:\tlearn: 0.1437505\ttest: 0.4091077\tbest: 0.3430967 (56)\ttotal: 12.6s\tremaining: 5.85s\n",
      "682:\tlearn: 0.1435830\ttest: 0.4088556\tbest: 0.3430967 (56)\ttotal: 12.6s\tremaining: 5.83s\n",
      "683:\tlearn: 0.1435410\ttest: 0.4091829\tbest: 0.3430967 (56)\ttotal: 12.6s\tremaining: 5.81s\n",
      "684:\tlearn: 0.1434688\ttest: 0.4093305\tbest: 0.3430967 (56)\ttotal: 12.6s\tremaining: 5.79s\n",
      "685:\tlearn: 0.1433600\ttest: 0.4092766\tbest: 0.3430967 (56)\ttotal: 12.6s\tremaining: 5.77s\n",
      "686:\tlearn: 0.1431793\ttest: 0.4092106\tbest: 0.3430967 (56)\ttotal: 12.6s\tremaining: 5.75s\n",
      "687:\tlearn: 0.1430199\ttest: 0.4095556\tbest: 0.3430967 (56)\ttotal: 12.6s\tremaining: 5.73s\n",
      "688:\tlearn: 0.1428953\ttest: 0.4097864\tbest: 0.3430967 (56)\ttotal: 12.6s\tremaining: 5.71s\n",
      "689:\tlearn: 0.1427683\ttest: 0.4098940\tbest: 0.3430967 (56)\ttotal: 12.7s\tremaining: 5.69s\n",
      "690:\tlearn: 0.1427243\ttest: 0.4098829\tbest: 0.3430967 (56)\ttotal: 12.7s\tremaining: 5.67s\n",
      "691:\tlearn: 0.1426575\ttest: 0.4100147\tbest: 0.3430967 (56)\ttotal: 12.7s\tremaining: 5.64s\n",
      "692:\tlearn: 0.1425944\ttest: 0.4099958\tbest: 0.3430967 (56)\ttotal: 12.7s\tremaining: 5.63s\n",
      "693:\tlearn: 0.1425113\ttest: 0.4100701\tbest: 0.3430967 (56)\ttotal: 12.7s\tremaining: 5.61s\n",
      "694:\tlearn: 0.1424811\ttest: 0.4102433\tbest: 0.3430967 (56)\ttotal: 12.7s\tremaining: 5.59s\n",
      "695:\tlearn: 0.1421545\ttest: 0.4108782\tbest: 0.3430967 (56)\ttotal: 12.7s\tremaining: 5.57s\n",
      "696:\tlearn: 0.1419513\ttest: 0.4109819\tbest: 0.3430967 (56)\ttotal: 12.8s\tremaining: 5.54s\n",
      "697:\tlearn: 0.1417780\ttest: 0.4111887\tbest: 0.3430967 (56)\ttotal: 12.8s\tremaining: 5.53s\n",
      "698:\tlearn: 0.1416896\ttest: 0.4113377\tbest: 0.3430967 (56)\ttotal: 12.8s\tremaining: 5.5s\n",
      "699:\tlearn: 0.1415898\ttest: 0.4113308\tbest: 0.3430967 (56)\ttotal: 12.8s\tremaining: 5.49s\n",
      "700:\tlearn: 0.1414754\ttest: 0.4113714\tbest: 0.3430967 (56)\ttotal: 12.8s\tremaining: 5.47s\n",
      "701:\tlearn: 0.1411996\ttest: 0.4114993\tbest: 0.3430967 (56)\ttotal: 12.8s\tremaining: 5.45s\n",
      "702:\tlearn: 0.1409786\ttest: 0.4119048\tbest: 0.3430967 (56)\ttotal: 12.9s\tremaining: 5.43s\n",
      "703:\tlearn: 0.1407259\ttest: 0.4122755\tbest: 0.3430967 (56)\ttotal: 12.9s\tremaining: 5.41s\n",
      "704:\tlearn: 0.1406061\ttest: 0.4130660\tbest: 0.3430967 (56)\ttotal: 12.9s\tremaining: 5.39s\n",
      "705:\tlearn: 0.1405140\ttest: 0.4132007\tbest: 0.3430967 (56)\ttotal: 12.9s\tremaining: 5.37s\n",
      "706:\tlearn: 0.1402223\ttest: 0.4134054\tbest: 0.3430967 (56)\ttotal: 12.9s\tremaining: 5.36s\n",
      "707:\tlearn: 0.1400823\ttest: 0.4134880\tbest: 0.3430967 (56)\ttotal: 12.9s\tremaining: 5.34s\n",
      "708:\tlearn: 0.1400460\ttest: 0.4134910\tbest: 0.3430967 (56)\ttotal: 13s\tremaining: 5.33s\n",
      "709:\tlearn: 0.1398170\ttest: 0.4136963\tbest: 0.3430967 (56)\ttotal: 13s\tremaining: 5.31s\n",
      "710:\tlearn: 0.1396399\ttest: 0.4137350\tbest: 0.3430967 (56)\ttotal: 13s\tremaining: 5.3s\n",
      "711:\tlearn: 0.1394366\ttest: 0.4140979\tbest: 0.3430967 (56)\ttotal: 13.1s\tremaining: 5.29s\n",
      "712:\tlearn: 0.1392955\ttest: 0.4140652\tbest: 0.3430967 (56)\ttotal: 13.1s\tremaining: 5.27s\n",
      "713:\tlearn: 0.1392952\ttest: 0.4140697\tbest: 0.3430967 (56)\ttotal: 13.1s\tremaining: 5.25s\n",
      "714:\tlearn: 0.1391205\ttest: 0.4140099\tbest: 0.3430967 (56)\ttotal: 13.1s\tremaining: 5.23s\n",
      "715:\tlearn: 0.1389484\ttest: 0.4143282\tbest: 0.3430967 (56)\ttotal: 13.1s\tremaining: 5.21s\n",
      "716:\tlearn: 0.1388183\ttest: 0.4147371\tbest: 0.3430967 (56)\ttotal: 13.1s\tremaining: 5.19s\n",
      "717:\tlearn: 0.1386692\ttest: 0.4148065\tbest: 0.3430967 (56)\ttotal: 13.2s\tremaining: 5.17s\n",
      "718:\tlearn: 0.1385535\ttest: 0.4149976\tbest: 0.3430967 (56)\ttotal: 13.2s\tremaining: 5.15s\n",
      "719:\tlearn: 0.1384473\ttest: 0.4149383\tbest: 0.3430967 (56)\ttotal: 13.2s\tremaining: 5.13s\n",
      "720:\tlearn: 0.1382958\ttest: 0.4150102\tbest: 0.3430967 (56)\ttotal: 13.2s\tremaining: 5.11s\n",
      "721:\tlearn: 0.1381331\ttest: 0.4153423\tbest: 0.3430967 (56)\ttotal: 13.2s\tremaining: 5.09s\n",
      "722:\tlearn: 0.1378947\ttest: 0.4155098\tbest: 0.3430967 (56)\ttotal: 13.2s\tremaining: 5.07s\n",
      "723:\tlearn: 0.1376791\ttest: 0.4155319\tbest: 0.3430967 (56)\ttotal: 13.3s\tremaining: 5.07s\n",
      "724:\tlearn: 0.1375218\ttest: 0.4156975\tbest: 0.3430967 (56)\ttotal: 13.3s\tremaining: 5.05s\n",
      "725:\tlearn: 0.1373865\ttest: 0.4158521\tbest: 0.3430967 (56)\ttotal: 13.3s\tremaining: 5.03s\n",
      "726:\tlearn: 0.1372463\ttest: 0.4162003\tbest: 0.3430967 (56)\ttotal: 13.4s\tremaining: 5.01s\n",
      "727:\tlearn: 0.1369788\ttest: 0.4163610\tbest: 0.3430967 (56)\ttotal: 13.4s\tremaining: 4.99s\n",
      "728:\tlearn: 0.1369406\ttest: 0.4163646\tbest: 0.3430967 (56)\ttotal: 13.4s\tremaining: 4.97s\n",
      "729:\tlearn: 0.1367936\ttest: 0.4166890\tbest: 0.3430967 (56)\ttotal: 13.4s\tremaining: 4.95s\n",
      "730:\tlearn: 0.1365413\ttest: 0.4172005\tbest: 0.3430967 (56)\ttotal: 13.4s\tremaining: 4.94s\n",
      "731:\tlearn: 0.1365412\ttest: 0.4171983\tbest: 0.3430967 (56)\ttotal: 13.4s\tremaining: 4.92s\n",
      "732:\tlearn: 0.1365409\ttest: 0.4171984\tbest: 0.3430967 (56)\ttotal: 13.5s\tremaining: 4.9s\n",
      "733:\tlearn: 0.1364764\ttest: 0.4172249\tbest: 0.3430967 (56)\ttotal: 13.5s\tremaining: 4.88s\n",
      "734:\tlearn: 0.1364477\ttest: 0.4172520\tbest: 0.3430967 (56)\ttotal: 13.5s\tremaining: 4.86s\n",
      "735:\tlearn: 0.1362836\ttest: 0.4174245\tbest: 0.3430967 (56)\ttotal: 13.5s\tremaining: 4.85s\n",
      "736:\tlearn: 0.1361821\ttest: 0.4174800\tbest: 0.3430967 (56)\ttotal: 13.5s\tremaining: 4.83s\n",
      "737:\tlearn: 0.1361092\ttest: 0.4175752\tbest: 0.3430967 (56)\ttotal: 13.6s\tremaining: 4.81s\n",
      "738:\tlearn: 0.1357042\ttest: 0.4183365\tbest: 0.3430967 (56)\ttotal: 13.7s\tremaining: 4.83s\n",
      "739:\tlearn: 0.1355053\ttest: 0.4180317\tbest: 0.3430967 (56)\ttotal: 13.7s\tremaining: 4.83s\n",
      "740:\tlearn: 0.1354553\ttest: 0.4181100\tbest: 0.3430967 (56)\ttotal: 13.8s\tremaining: 4.81s\n",
      "741:\tlearn: 0.1353293\ttest: 0.4185126\tbest: 0.3430967 (56)\ttotal: 13.8s\tremaining: 4.79s\n",
      "742:\tlearn: 0.1352078\ttest: 0.4184710\tbest: 0.3430967 (56)\ttotal: 13.9s\tremaining: 4.8s\n",
      "743:\tlearn: 0.1351496\ttest: 0.4185184\tbest: 0.3430967 (56)\ttotal: 13.9s\tremaining: 4.79s\n",
      "744:\tlearn: 0.1349996\ttest: 0.4184067\tbest: 0.3430967 (56)\ttotal: 14s\tremaining: 4.78s\n",
      "745:\tlearn: 0.1349450\ttest: 0.4183730\tbest: 0.3430967 (56)\ttotal: 14s\tremaining: 4.76s\n",
      "746:\tlearn: 0.1347226\ttest: 0.4183090\tbest: 0.3430967 (56)\ttotal: 14s\tremaining: 4.74s\n",
      "747:\tlearn: 0.1347226\ttest: 0.4183085\tbest: 0.3430967 (56)\ttotal: 14s\tremaining: 4.73s\n",
      "748:\tlearn: 0.1345537\ttest: 0.4182796\tbest: 0.3430967 (56)\ttotal: 14.2s\tremaining: 4.76s\n",
      "749:\tlearn: 0.1344181\ttest: 0.4183923\tbest: 0.3430967 (56)\ttotal: 14.2s\tremaining: 4.74s\n",
      "750:\tlearn: 0.1342127\ttest: 0.4188897\tbest: 0.3430967 (56)\ttotal: 14.3s\tremaining: 4.74s\n",
      "751:\tlearn: 0.1340454\ttest: 0.4191329\tbest: 0.3430967 (56)\ttotal: 14.4s\tremaining: 4.73s\n",
      "752:\tlearn: 0.1339284\ttest: 0.4192050\tbest: 0.3430967 (56)\ttotal: 14.4s\tremaining: 4.73s\n",
      "753:\tlearn: 0.1338725\ttest: 0.4193025\tbest: 0.3430967 (56)\ttotal: 14.5s\tremaining: 4.72s\n",
      "754:\tlearn: 0.1336351\ttest: 0.4195855\tbest: 0.3430967 (56)\ttotal: 14.6s\tremaining: 4.73s\n",
      "755:\tlearn: 0.1335087\ttest: 0.4195901\tbest: 0.3430967 (56)\ttotal: 14.6s\tremaining: 4.71s\n",
      "756:\tlearn: 0.1335060\ttest: 0.4196117\tbest: 0.3430967 (56)\ttotal: 14.6s\tremaining: 4.7s\n",
      "757:\tlearn: 0.1333953\ttest: 0.4197795\tbest: 0.3430967 (56)\ttotal: 14.7s\tremaining: 4.68s\n",
      "758:\tlearn: 0.1331183\ttest: 0.4196666\tbest: 0.3430967 (56)\ttotal: 14.7s\tremaining: 4.67s\n",
      "759:\tlearn: 0.1329476\ttest: 0.4198115\tbest: 0.3430967 (56)\ttotal: 14.7s\tremaining: 4.66s\n",
      "760:\tlearn: 0.1328453\ttest: 0.4196202\tbest: 0.3430967 (56)\ttotal: 14.8s\tremaining: 4.64s\n",
      "761:\tlearn: 0.1327588\ttest: 0.4196007\tbest: 0.3430967 (56)\ttotal: 14.8s\tremaining: 4.62s\n",
      "762:\tlearn: 0.1326298\ttest: 0.4193658\tbest: 0.3430967 (56)\ttotal: 14.8s\tremaining: 4.61s\n",
      "763:\tlearn: 0.1323867\ttest: 0.4199436\tbest: 0.3430967 (56)\ttotal: 14.9s\tremaining: 4.59s\n",
      "764:\tlearn: 0.1323271\ttest: 0.4200649\tbest: 0.3430967 (56)\ttotal: 14.9s\tremaining: 4.58s\n",
      "765:\tlearn: 0.1322803\ttest: 0.4202010\tbest: 0.3430967 (56)\ttotal: 15s\tremaining: 4.58s\n",
      "766:\tlearn: 0.1321995\ttest: 0.4202112\tbest: 0.3430967 (56)\ttotal: 15s\tremaining: 4.57s\n",
      "767:\tlearn: 0.1319889\ttest: 0.4202131\tbest: 0.3430967 (56)\ttotal: 15.1s\tremaining: 4.55s\n",
      "768:\tlearn: 0.1317648\ttest: 0.4201057\tbest: 0.3430967 (56)\ttotal: 15.1s\tremaining: 4.54s\n",
      "769:\tlearn: 0.1317308\ttest: 0.4201176\tbest: 0.3430967 (56)\ttotal: 15.1s\tremaining: 4.52s\n",
      "770:\tlearn: 0.1315510\ttest: 0.4206389\tbest: 0.3430967 (56)\ttotal: 15.1s\tremaining: 4.5s\n",
      "771:\tlearn: 0.1314980\ttest: 0.4207026\tbest: 0.3430967 (56)\ttotal: 15.2s\tremaining: 4.49s\n",
      "772:\tlearn: 0.1313865\ttest: 0.4206381\tbest: 0.3430967 (56)\ttotal: 15.2s\tremaining: 4.47s\n",
      "773:\tlearn: 0.1313036\ttest: 0.4206766\tbest: 0.3430967 (56)\ttotal: 15.3s\tremaining: 4.46s\n",
      "774:\tlearn: 0.1311973\ttest: 0.4208108\tbest: 0.3430967 (56)\ttotal: 15.3s\tremaining: 4.43s\n",
      "775:\tlearn: 0.1310794\ttest: 0.4207668\tbest: 0.3430967 (56)\ttotal: 15.3s\tremaining: 4.42s\n",
      "776:\tlearn: 0.1310329\ttest: 0.4205984\tbest: 0.3430967 (56)\ttotal: 15.3s\tremaining: 4.39s\n",
      "777:\tlearn: 0.1310036\ttest: 0.4207290\tbest: 0.3430967 (56)\ttotal: 15.3s\tremaining: 4.38s\n",
      "778:\tlearn: 0.1310035\ttest: 0.4207289\tbest: 0.3430967 (56)\ttotal: 15.4s\tremaining: 4.36s\n",
      "779:\tlearn: 0.1309855\ttest: 0.4207074\tbest: 0.3430967 (56)\ttotal: 15.4s\tremaining: 4.33s\n",
      "780:\tlearn: 0.1308621\ttest: 0.4206036\tbest: 0.3430967 (56)\ttotal: 15.4s\tremaining: 4.31s\n",
      "781:\tlearn: 0.1308101\ttest: 0.4207441\tbest: 0.3430967 (56)\ttotal: 15.4s\tremaining: 4.29s\n",
      "782:\tlearn: 0.1307859\ttest: 0.4208174\tbest: 0.3430967 (56)\ttotal: 15.4s\tremaining: 4.28s\n",
      "783:\tlearn: 0.1307039\ttest: 0.4210218\tbest: 0.3430967 (56)\ttotal: 15.5s\tremaining: 4.27s\n",
      "784:\tlearn: 0.1306065\ttest: 0.4210338\tbest: 0.3430967 (56)\ttotal: 15.5s\tremaining: 4.25s\n",
      "785:\tlearn: 0.1305215\ttest: 0.4211631\tbest: 0.3430967 (56)\ttotal: 15.5s\tremaining: 4.23s\n",
      "786:\tlearn: 0.1303516\ttest: 0.4212106\tbest: 0.3430967 (56)\ttotal: 15.6s\tremaining: 4.21s\n",
      "787:\tlearn: 0.1302468\ttest: 0.4213082\tbest: 0.3430967 (56)\ttotal: 15.6s\tremaining: 4.19s\n",
      "788:\tlearn: 0.1302468\ttest: 0.4213062\tbest: 0.3430967 (56)\ttotal: 15.6s\tremaining: 4.17s\n",
      "789:\tlearn: 0.1302061\ttest: 0.4213031\tbest: 0.3430967 (56)\ttotal: 15.6s\tremaining: 4.15s\n",
      "790:\tlearn: 0.1300991\ttest: 0.4216328\tbest: 0.3430967 (56)\ttotal: 15.6s\tremaining: 4.13s\n",
      "791:\tlearn: 0.1300943\ttest: 0.4216558\tbest: 0.3430967 (56)\ttotal: 15.6s\tremaining: 4.11s\n",
      "792:\tlearn: 0.1299197\ttest: 0.4216290\tbest: 0.3430967 (56)\ttotal: 15.7s\tremaining: 4.09s\n",
      "793:\tlearn: 0.1298548\ttest: 0.4217005\tbest: 0.3430967 (56)\ttotal: 15.7s\tremaining: 4.07s\n",
      "794:\tlearn: 0.1297000\ttest: 0.4218635\tbest: 0.3430967 (56)\ttotal: 15.7s\tremaining: 4.05s\n",
      "795:\tlearn: 0.1296070\ttest: 0.4220349\tbest: 0.3430967 (56)\ttotal: 15.7s\tremaining: 4.03s\n",
      "796:\tlearn: 0.1295657\ttest: 0.4221034\tbest: 0.3430967 (56)\ttotal: 15.7s\tremaining: 4.01s\n",
      "797:\tlearn: 0.1294771\ttest: 0.4221462\tbest: 0.3430967 (56)\ttotal: 15.7s\tremaining: 3.99s\n",
      "798:\tlearn: 0.1293969\ttest: 0.4222970\tbest: 0.3430967 (56)\ttotal: 15.8s\tremaining: 3.97s\n",
      "799:\tlearn: 0.1291889\ttest: 0.4229386\tbest: 0.3430967 (56)\ttotal: 15.8s\tremaining: 3.95s\n",
      "800:\tlearn: 0.1289506\ttest: 0.4230765\tbest: 0.3430967 (56)\ttotal: 15.8s\tremaining: 3.93s\n",
      "801:\tlearn: 0.1288029\ttest: 0.4232998\tbest: 0.3430967 (56)\ttotal: 15.8s\tremaining: 3.91s\n",
      "802:\tlearn: 0.1286625\ttest: 0.4234439\tbest: 0.3430967 (56)\ttotal: 15.9s\tremaining: 3.89s\n",
      "803:\tlearn: 0.1285326\ttest: 0.4235561\tbest: 0.3430967 (56)\ttotal: 15.9s\tremaining: 3.87s\n",
      "804:\tlearn: 0.1284245\ttest: 0.4238668\tbest: 0.3430967 (56)\ttotal: 15.9s\tremaining: 3.85s\n",
      "805:\tlearn: 0.1282825\ttest: 0.4236869\tbest: 0.3430967 (56)\ttotal: 15.9s\tremaining: 3.84s\n",
      "806:\tlearn: 0.1281908\ttest: 0.4237757\tbest: 0.3430967 (56)\ttotal: 16s\tremaining: 3.83s\n",
      "807:\tlearn: 0.1280292\ttest: 0.4239998\tbest: 0.3430967 (56)\ttotal: 16s\tremaining: 3.81s\n",
      "808:\tlearn: 0.1278345\ttest: 0.4241477\tbest: 0.3430967 (56)\ttotal: 16.1s\tremaining: 3.79s\n",
      "809:\tlearn: 0.1277611\ttest: 0.4244698\tbest: 0.3430967 (56)\ttotal: 16.1s\tremaining: 3.77s\n",
      "810:\tlearn: 0.1275799\ttest: 0.4244273\tbest: 0.3430967 (56)\ttotal: 16.1s\tremaining: 3.75s\n",
      "811:\tlearn: 0.1273769\ttest: 0.4247516\tbest: 0.3430967 (56)\ttotal: 16.1s\tremaining: 3.73s\n",
      "812:\tlearn: 0.1271787\ttest: 0.4248865\tbest: 0.3430967 (56)\ttotal: 16.2s\tremaining: 3.72s\n",
      "813:\tlearn: 0.1271235\ttest: 0.4249403\tbest: 0.3430967 (56)\ttotal: 16.2s\tremaining: 3.7s\n",
      "814:\tlearn: 0.1269444\ttest: 0.4249122\tbest: 0.3430967 (56)\ttotal: 16.2s\tremaining: 3.68s\n",
      "815:\tlearn: 0.1267651\ttest: 0.4252734\tbest: 0.3430967 (56)\ttotal: 16.3s\tremaining: 3.67s\n",
      "816:\tlearn: 0.1266014\ttest: 0.4254487\tbest: 0.3430967 (56)\ttotal: 16.3s\tremaining: 3.65s\n",
      "817:\tlearn: 0.1265621\ttest: 0.4254002\tbest: 0.3430967 (56)\ttotal: 16.3s\tremaining: 3.63s\n",
      "818:\tlearn: 0.1263774\ttest: 0.4255318\tbest: 0.3430967 (56)\ttotal: 16.3s\tremaining: 3.61s\n",
      "819:\tlearn: 0.1261979\ttest: 0.4257398\tbest: 0.3430967 (56)\ttotal: 16.3s\tremaining: 3.59s\n",
      "820:\tlearn: 0.1260559\ttest: 0.4258616\tbest: 0.3430967 (56)\ttotal: 16.4s\tremaining: 3.57s\n",
      "821:\tlearn: 0.1259198\ttest: 0.4261491\tbest: 0.3430967 (56)\ttotal: 16.4s\tremaining: 3.55s\n",
      "822:\tlearn: 0.1257462\ttest: 0.4263608\tbest: 0.3430967 (56)\ttotal: 16.4s\tremaining: 3.53s\n",
      "823:\tlearn: 0.1256500\ttest: 0.4265616\tbest: 0.3430967 (56)\ttotal: 16.4s\tremaining: 3.51s\n",
      "824:\tlearn: 0.1255901\ttest: 0.4266737\tbest: 0.3430967 (56)\ttotal: 16.4s\tremaining: 3.49s\n",
      "825:\tlearn: 0.1254998\ttest: 0.4266578\tbest: 0.3430967 (56)\ttotal: 16.5s\tremaining: 3.48s\n",
      "826:\tlearn: 0.1253211\ttest: 0.4271536\tbest: 0.3430967 (56)\ttotal: 16.6s\tremaining: 3.47s\n",
      "827:\tlearn: 0.1251236\ttest: 0.4272779\tbest: 0.3430967 (56)\ttotal: 16.6s\tremaining: 3.45s\n",
      "828:\tlearn: 0.1250598\ttest: 0.4273813\tbest: 0.3430967 (56)\ttotal: 16.6s\tremaining: 3.43s\n",
      "829:\tlearn: 0.1249385\ttest: 0.4274237\tbest: 0.3430967 (56)\ttotal: 16.6s\tremaining: 3.41s\n",
      "830:\tlearn: 0.1248655\ttest: 0.4273949\tbest: 0.3430967 (56)\ttotal: 16.7s\tremaining: 3.39s\n",
      "831:\tlearn: 0.1246958\ttest: 0.4275047\tbest: 0.3430967 (56)\ttotal: 16.7s\tremaining: 3.37s\n",
      "832:\tlearn: 0.1245084\ttest: 0.4275618\tbest: 0.3430967 (56)\ttotal: 16.7s\tremaining: 3.35s\n",
      "833:\tlearn: 0.1244076\ttest: 0.4280050\tbest: 0.3430967 (56)\ttotal: 16.7s\tremaining: 3.33s\n",
      "834:\tlearn: 0.1243354\ttest: 0.4279987\tbest: 0.3430967 (56)\ttotal: 16.7s\tremaining: 3.3s\n",
      "835:\tlearn: 0.1242887\ttest: 0.4281953\tbest: 0.3430967 (56)\ttotal: 16.7s\tremaining: 3.28s\n",
      "836:\tlearn: 0.1241431\ttest: 0.4284661\tbest: 0.3430967 (56)\ttotal: 16.8s\tremaining: 3.26s\n",
      "837:\tlearn: 0.1240422\ttest: 0.4284450\tbest: 0.3430967 (56)\ttotal: 16.8s\tremaining: 3.24s\n",
      "838:\tlearn: 0.1239376\ttest: 0.4285663\tbest: 0.3430967 (56)\ttotal: 16.8s\tremaining: 3.22s\n",
      "839:\tlearn: 0.1237245\ttest: 0.4284798\tbest: 0.3430967 (56)\ttotal: 16.8s\tremaining: 3.2s\n",
      "840:\tlearn: 0.1236174\ttest: 0.4288372\tbest: 0.3430967 (56)\ttotal: 16.8s\tremaining: 3.18s\n",
      "841:\tlearn: 0.1234229\ttest: 0.4290552\tbest: 0.3430967 (56)\ttotal: 16.9s\tremaining: 3.16s\n",
      "842:\tlearn: 0.1231648\ttest: 0.4290360\tbest: 0.3430967 (56)\ttotal: 16.9s\tremaining: 3.14s\n",
      "843:\tlearn: 0.1231198\ttest: 0.4290519\tbest: 0.3430967 (56)\ttotal: 16.9s\tremaining: 3.12s\n",
      "844:\tlearn: 0.1230564\ttest: 0.4291002\tbest: 0.3430967 (56)\ttotal: 16.9s\tremaining: 3.1s\n",
      "845:\tlearn: 0.1228419\ttest: 0.4290911\tbest: 0.3430967 (56)\ttotal: 16.9s\tremaining: 3.08s\n",
      "846:\tlearn: 0.1226533\ttest: 0.4289501\tbest: 0.3430967 (56)\ttotal: 17s\tremaining: 3.06s\n",
      "847:\tlearn: 0.1225646\ttest: 0.4289898\tbest: 0.3430967 (56)\ttotal: 17s\tremaining: 3.04s\n",
      "848:\tlearn: 0.1223979\ttest: 0.4289264\tbest: 0.3430967 (56)\ttotal: 17s\tremaining: 3.02s\n",
      "849:\tlearn: 0.1223547\ttest: 0.4290284\tbest: 0.3430967 (56)\ttotal: 17s\tremaining: 3s\n",
      "850:\tlearn: 0.1222562\ttest: 0.4290324\tbest: 0.3430967 (56)\ttotal: 17.1s\tremaining: 2.99s\n",
      "851:\tlearn: 0.1221689\ttest: 0.4289503\tbest: 0.3430967 (56)\ttotal: 17.1s\tremaining: 2.97s\n",
      "852:\tlearn: 0.1221505\ttest: 0.4289276\tbest: 0.3430967 (56)\ttotal: 17.1s\tremaining: 2.95s\n",
      "853:\tlearn: 0.1219760\ttest: 0.4289764\tbest: 0.3430967 (56)\ttotal: 17.2s\tremaining: 2.93s\n",
      "854:\tlearn: 0.1217097\ttest: 0.4290630\tbest: 0.3430967 (56)\ttotal: 17.2s\tremaining: 2.91s\n",
      "855:\tlearn: 0.1216248\ttest: 0.4293674\tbest: 0.3430967 (56)\ttotal: 17.2s\tremaining: 2.89s\n",
      "856:\tlearn: 0.1216247\ttest: 0.4293661\tbest: 0.3430967 (56)\ttotal: 17.2s\tremaining: 2.87s\n",
      "857:\tlearn: 0.1215867\ttest: 0.4294320\tbest: 0.3430967 (56)\ttotal: 17.2s\tremaining: 2.85s\n",
      "858:\tlearn: 0.1214808\ttest: 0.4295894\tbest: 0.3430967 (56)\ttotal: 17.2s\tremaining: 2.83s\n",
      "859:\tlearn: 0.1214146\ttest: 0.4295918\tbest: 0.3430967 (56)\ttotal: 17.3s\tremaining: 2.81s\n",
      "860:\tlearn: 0.1211586\ttest: 0.4295481\tbest: 0.3430967 (56)\ttotal: 17.3s\tremaining: 2.79s\n",
      "861:\tlearn: 0.1210583\ttest: 0.4299605\tbest: 0.3430967 (56)\ttotal: 17.3s\tremaining: 2.77s\n",
      "862:\tlearn: 0.1209295\ttest: 0.4298183\tbest: 0.3430967 (56)\ttotal: 17.3s\tremaining: 2.75s\n",
      "863:\tlearn: 0.1209005\ttest: 0.4299157\tbest: 0.3430967 (56)\ttotal: 17.3s\tremaining: 2.73s\n",
      "864:\tlearn: 0.1208471\ttest: 0.4300181\tbest: 0.3430967 (56)\ttotal: 17.4s\tremaining: 2.71s\n",
      "865:\tlearn: 0.1207496\ttest: 0.4299701\tbest: 0.3430967 (56)\ttotal: 17.4s\tremaining: 2.69s\n",
      "866:\tlearn: 0.1206845\ttest: 0.4302373\tbest: 0.3430967 (56)\ttotal: 17.4s\tremaining: 2.67s\n",
      "867:\tlearn: 0.1205433\ttest: 0.4304464\tbest: 0.3430967 (56)\ttotal: 17.4s\tremaining: 2.65s\n",
      "868:\tlearn: 0.1203249\ttest: 0.4306206\tbest: 0.3430967 (56)\ttotal: 17.4s\tremaining: 2.63s\n",
      "869:\tlearn: 0.1202445\ttest: 0.4309399\tbest: 0.3430967 (56)\ttotal: 17.5s\tremaining: 2.61s\n",
      "870:\tlearn: 0.1200683\ttest: 0.4311595\tbest: 0.3430967 (56)\ttotal: 17.5s\tremaining: 2.59s\n",
      "871:\tlearn: 0.1199621\ttest: 0.4309990\tbest: 0.3430967 (56)\ttotal: 17.5s\tremaining: 2.57s\n",
      "872:\tlearn: 0.1198303\ttest: 0.4312375\tbest: 0.3430967 (56)\ttotal: 17.5s\tremaining: 2.55s\n",
      "873:\tlearn: 0.1196388\ttest: 0.4315650\tbest: 0.3430967 (56)\ttotal: 17.6s\tremaining: 2.53s\n",
      "874:\tlearn: 0.1195953\ttest: 0.4316419\tbest: 0.3430967 (56)\ttotal: 17.7s\tremaining: 2.52s\n",
      "875:\tlearn: 0.1194444\ttest: 0.4316338\tbest: 0.3430967 (56)\ttotal: 17.7s\tremaining: 2.5s\n",
      "876:\tlearn: 0.1193775\ttest: 0.4316004\tbest: 0.3430967 (56)\ttotal: 17.7s\tremaining: 2.48s\n",
      "877:\tlearn: 0.1193322\ttest: 0.4316779\tbest: 0.3430967 (56)\ttotal: 17.7s\tremaining: 2.46s\n",
      "878:\tlearn: 0.1192420\ttest: 0.4318085\tbest: 0.3430967 (56)\ttotal: 17.7s\tremaining: 2.44s\n",
      "879:\tlearn: 0.1191121\ttest: 0.4319096\tbest: 0.3430967 (56)\ttotal: 17.8s\tremaining: 2.42s\n",
      "880:\tlearn: 0.1190740\ttest: 0.4319324\tbest: 0.3430967 (56)\ttotal: 17.8s\tremaining: 2.4s\n",
      "881:\tlearn: 0.1190019\ttest: 0.4318620\tbest: 0.3430967 (56)\ttotal: 17.8s\tremaining: 2.38s\n",
      "882:\tlearn: 0.1188536\ttest: 0.4322880\tbest: 0.3430967 (56)\ttotal: 17.8s\tremaining: 2.36s\n",
      "883:\tlearn: 0.1187743\ttest: 0.4323353\tbest: 0.3430967 (56)\ttotal: 17.8s\tremaining: 2.34s\n",
      "884:\tlearn: 0.1186895\ttest: 0.4322837\tbest: 0.3430967 (56)\ttotal: 17.8s\tremaining: 2.32s\n",
      "885:\tlearn: 0.1186252\ttest: 0.4323232\tbest: 0.3430967 (56)\ttotal: 17.9s\tremaining: 2.3s\n",
      "886:\tlearn: 0.1186252\ttest: 0.4323226\tbest: 0.3430967 (56)\ttotal: 17.9s\tremaining: 2.28s\n",
      "887:\tlearn: 0.1186252\ttest: 0.4323226\tbest: 0.3430967 (56)\ttotal: 17.9s\tremaining: 2.25s\n",
      "888:\tlearn: 0.1185470\ttest: 0.4326632\tbest: 0.3430967 (56)\ttotal: 17.9s\tremaining: 2.23s\n",
      "889:\tlearn: 0.1184253\ttest: 0.4327469\tbest: 0.3430967 (56)\ttotal: 17.9s\tremaining: 2.21s\n",
      "890:\tlearn: 0.1183979\ttest: 0.4327650\tbest: 0.3430967 (56)\ttotal: 17.9s\tremaining: 2.19s\n",
      "891:\tlearn: 0.1182545\ttest: 0.4328530\tbest: 0.3430967 (56)\ttotal: 17.9s\tremaining: 2.17s\n",
      "892:\tlearn: 0.1181578\ttest: 0.4332760\tbest: 0.3430967 (56)\ttotal: 18s\tremaining: 2.15s\n",
      "893:\tlearn: 0.1180312\ttest: 0.4332311\tbest: 0.3430967 (56)\ttotal: 18s\tremaining: 2.13s\n",
      "894:\tlearn: 0.1179594\ttest: 0.4333320\tbest: 0.3430967 (56)\ttotal: 18s\tremaining: 2.11s\n",
      "895:\tlearn: 0.1178067\ttest: 0.4333563\tbest: 0.3430967 (56)\ttotal: 18s\tremaining: 2.09s\n",
      "896:\tlearn: 0.1176282\ttest: 0.4339221\tbest: 0.3430967 (56)\ttotal: 18s\tremaining: 2.07s\n",
      "897:\tlearn: 0.1174753\ttest: 0.4343676\tbest: 0.3430967 (56)\ttotal: 18s\tremaining: 2.05s\n",
      "898:\tlearn: 0.1173499\ttest: 0.4344107\tbest: 0.3430967 (56)\ttotal: 18s\tremaining: 2.03s\n",
      "899:\tlearn: 0.1172534\ttest: 0.4346493\tbest: 0.3430967 (56)\ttotal: 18.1s\tremaining: 2.01s\n",
      "900:\tlearn: 0.1171238\ttest: 0.4349374\tbest: 0.3430967 (56)\ttotal: 18.1s\tremaining: 1.99s\n",
      "901:\tlearn: 0.1170786\ttest: 0.4349979\tbest: 0.3430967 (56)\ttotal: 18.1s\tremaining: 1.97s\n",
      "902:\tlearn: 0.1169598\ttest: 0.4351147\tbest: 0.3430967 (56)\ttotal: 18.1s\tremaining: 1.95s\n",
      "903:\tlearn: 0.1168832\ttest: 0.4352595\tbest: 0.3430967 (56)\ttotal: 18.1s\tremaining: 1.93s\n",
      "904:\tlearn: 0.1168221\ttest: 0.4351118\tbest: 0.3430967 (56)\ttotal: 18.2s\tremaining: 1.91s\n",
      "905:\tlearn: 0.1167864\ttest: 0.4352703\tbest: 0.3430967 (56)\ttotal: 18.2s\tremaining: 1.89s\n",
      "906:\tlearn: 0.1167475\ttest: 0.4353423\tbest: 0.3430967 (56)\ttotal: 18.2s\tremaining: 1.87s\n",
      "907:\tlearn: 0.1166885\ttest: 0.4354009\tbest: 0.3430967 (56)\ttotal: 18.2s\tremaining: 1.84s\n",
      "908:\tlearn: 0.1165261\ttest: 0.4356479\tbest: 0.3430967 (56)\ttotal: 18.2s\tremaining: 1.82s\n",
      "909:\tlearn: 0.1164478\ttest: 0.4356731\tbest: 0.3430967 (56)\ttotal: 18.3s\tremaining: 1.8s\n",
      "910:\tlearn: 0.1163300\ttest: 0.4359253\tbest: 0.3430967 (56)\ttotal: 18.3s\tremaining: 1.78s\n",
      "911:\tlearn: 0.1162368\ttest: 0.4358953\tbest: 0.3430967 (56)\ttotal: 18.3s\tremaining: 1.76s\n",
      "912:\tlearn: 0.1161733\ttest: 0.4358112\tbest: 0.3430967 (56)\ttotal: 18.3s\tremaining: 1.74s\n",
      "913:\tlearn: 0.1161033\ttest: 0.4358491\tbest: 0.3430967 (56)\ttotal: 18.3s\tremaining: 1.73s\n",
      "914:\tlearn: 0.1160986\ttest: 0.4358899\tbest: 0.3430967 (56)\ttotal: 18.4s\tremaining: 1.71s\n",
      "915:\tlearn: 0.1159247\ttest: 0.4356636\tbest: 0.3430967 (56)\ttotal: 18.4s\tremaining: 1.69s\n",
      "916:\tlearn: 0.1158165\ttest: 0.4358481\tbest: 0.3430967 (56)\ttotal: 18.4s\tremaining: 1.67s\n",
      "917:\tlearn: 0.1157982\ttest: 0.4358940\tbest: 0.3430967 (56)\ttotal: 18.4s\tremaining: 1.65s\n",
      "918:\tlearn: 0.1157790\ttest: 0.4359544\tbest: 0.3430967 (56)\ttotal: 18.4s\tremaining: 1.62s\n",
      "919:\tlearn: 0.1155857\ttest: 0.4359802\tbest: 0.3430967 (56)\ttotal: 18.5s\tremaining: 1.6s\n",
      "920:\tlearn: 0.1154918\ttest: 0.4361350\tbest: 0.3430967 (56)\ttotal: 18.5s\tremaining: 1.58s\n",
      "921:\tlearn: 0.1153753\ttest: 0.4359777\tbest: 0.3430967 (56)\ttotal: 18.5s\tremaining: 1.56s\n",
      "922:\tlearn: 0.1152251\ttest: 0.4359884\tbest: 0.3430967 (56)\ttotal: 18.5s\tremaining: 1.54s\n",
      "923:\tlearn: 0.1150900\ttest: 0.4364233\tbest: 0.3430967 (56)\ttotal: 18.5s\tremaining: 1.52s\n",
      "924:\tlearn: 0.1148657\ttest: 0.4364996\tbest: 0.3430967 (56)\ttotal: 18.5s\tremaining: 1.5s\n",
      "925:\tlearn: 0.1147806\ttest: 0.4369133\tbest: 0.3430967 (56)\ttotal: 18.6s\tremaining: 1.48s\n",
      "926:\tlearn: 0.1145968\ttest: 0.4372926\tbest: 0.3430967 (56)\ttotal: 18.6s\tremaining: 1.46s\n",
      "927:\tlearn: 0.1144964\ttest: 0.4374962\tbest: 0.3430967 (56)\ttotal: 18.6s\tremaining: 1.44s\n",
      "928:\tlearn: 0.1144177\ttest: 0.4378007\tbest: 0.3430967 (56)\ttotal: 18.6s\tremaining: 1.42s\n",
      "929:\tlearn: 0.1142403\ttest: 0.4378287\tbest: 0.3430967 (56)\ttotal: 18.7s\tremaining: 1.41s\n",
      "930:\tlearn: 0.1142351\ttest: 0.4378671\tbest: 0.3430967 (56)\ttotal: 18.8s\tremaining: 1.39s\n",
      "931:\tlearn: 0.1141677\ttest: 0.4379343\tbest: 0.3430967 (56)\ttotal: 18.8s\tremaining: 1.37s\n",
      "932:\tlearn: 0.1141217\ttest: 0.4383096\tbest: 0.3430967 (56)\ttotal: 18.8s\tremaining: 1.35s\n",
      "933:\tlearn: 0.1140808\ttest: 0.4383620\tbest: 0.3430967 (56)\ttotal: 18.8s\tremaining: 1.33s\n",
      "934:\tlearn: 0.1139564\ttest: 0.4385597\tbest: 0.3430967 (56)\ttotal: 18.8s\tremaining: 1.31s\n",
      "935:\tlearn: 0.1138223\ttest: 0.4383914\tbest: 0.3430967 (56)\ttotal: 18.8s\tremaining: 1.29s\n",
      "936:\tlearn: 0.1136318\ttest: 0.4382235\tbest: 0.3430967 (56)\ttotal: 18.9s\tremaining: 1.27s\n",
      "937:\tlearn: 0.1135058\ttest: 0.4384820\tbest: 0.3430967 (56)\ttotal: 18.9s\tremaining: 1.25s\n",
      "938:\tlearn: 0.1133740\ttest: 0.4386302\tbest: 0.3430967 (56)\ttotal: 18.9s\tremaining: 1.23s\n",
      "939:\tlearn: 0.1133132\ttest: 0.4386602\tbest: 0.3430967 (56)\ttotal: 18.9s\tremaining: 1.21s\n",
      "940:\tlearn: 0.1132444\ttest: 0.4387261\tbest: 0.3430967 (56)\ttotal: 18.9s\tremaining: 1.19s\n",
      "941:\tlearn: 0.1131016\ttest: 0.4385184\tbest: 0.3430967 (56)\ttotal: 18.9s\tremaining: 1.17s\n",
      "942:\tlearn: 0.1130314\ttest: 0.4386161\tbest: 0.3430967 (56)\ttotal: 19s\tremaining: 1.15s\n",
      "943:\tlearn: 0.1130280\ttest: 0.4386435\tbest: 0.3430967 (56)\ttotal: 19s\tremaining: 1.13s\n",
      "944:\tlearn: 0.1128764\ttest: 0.4386064\tbest: 0.3430967 (56)\ttotal: 19s\tremaining: 1.1s\n",
      "945:\tlearn: 0.1127310\ttest: 0.4385016\tbest: 0.3430967 (56)\ttotal: 19s\tremaining: 1.08s\n",
      "946:\tlearn: 0.1126760\ttest: 0.4384560\tbest: 0.3430967 (56)\ttotal: 19s\tremaining: 1.06s\n",
      "947:\tlearn: 0.1125536\ttest: 0.4388215\tbest: 0.3430967 (56)\ttotal: 19s\tremaining: 1.04s\n",
      "948:\tlearn: 0.1124979\ttest: 0.4389289\tbest: 0.3430967 (56)\ttotal: 19.1s\tremaining: 1.02s\n",
      "949:\tlearn: 0.1123956\ttest: 0.4391229\tbest: 0.3430967 (56)\ttotal: 19.1s\tremaining: 1s\n",
      "950:\tlearn: 0.1122910\ttest: 0.4394587\tbest: 0.3430967 (56)\ttotal: 19.1s\tremaining: 983ms\n",
      "951:\tlearn: 0.1120540\ttest: 0.4395187\tbest: 0.3430967 (56)\ttotal: 19.1s\tremaining: 963ms\n",
      "952:\tlearn: 0.1119270\ttest: 0.4395689\tbest: 0.3430967 (56)\ttotal: 19.1s\tremaining: 943ms\n",
      "953:\tlearn: 0.1118246\ttest: 0.4395793\tbest: 0.3430967 (56)\ttotal: 19.1s\tremaining: 923ms\n",
      "954:\tlearn: 0.1116354\ttest: 0.4397184\tbest: 0.3430967 (56)\ttotal: 19.2s\tremaining: 903ms\n",
      "955:\tlearn: 0.1114602\ttest: 0.4397330\tbest: 0.3430967 (56)\ttotal: 19.2s\tremaining: 883ms\n",
      "956:\tlearn: 0.1112549\ttest: 0.4399513\tbest: 0.3430967 (56)\ttotal: 19.2s\tremaining: 863ms\n",
      "957:\tlearn: 0.1111363\ttest: 0.4404126\tbest: 0.3430967 (56)\ttotal: 19.2s\tremaining: 843ms\n",
      "958:\tlearn: 0.1110617\ttest: 0.4406263\tbest: 0.3430967 (56)\ttotal: 19.2s\tremaining: 822ms\n",
      "959:\tlearn: 0.1107966\ttest: 0.4405491\tbest: 0.3430967 (56)\ttotal: 19.3s\tremaining: 803ms\n",
      "960:\tlearn: 0.1107965\ttest: 0.4405477\tbest: 0.3430967 (56)\ttotal: 19.3s\tremaining: 782ms\n",
      "961:\tlearn: 0.1106222\ttest: 0.4405068\tbest: 0.3430967 (56)\ttotal: 19.3s\tremaining: 763ms\n",
      "962:\tlearn: 0.1104387\ttest: 0.4407972\tbest: 0.3430967 (56)\ttotal: 19.3s\tremaining: 742ms\n",
      "963:\tlearn: 0.1103726\ttest: 0.4409464\tbest: 0.3430967 (56)\ttotal: 19.3s\tremaining: 722ms\n",
      "964:\tlearn: 0.1102523\ttest: 0.4409182\tbest: 0.3430967 (56)\ttotal: 19.4s\tremaining: 702ms\n",
      "965:\tlearn: 0.1101729\ttest: 0.4407358\tbest: 0.3430967 (56)\ttotal: 19.4s\tremaining: 682ms\n",
      "966:\tlearn: 0.1099405\ttest: 0.4408097\tbest: 0.3430967 (56)\ttotal: 19.4s\tremaining: 661ms\n",
      "967:\tlearn: 0.1099046\ttest: 0.4409603\tbest: 0.3430967 (56)\ttotal: 19.4s\tremaining: 641ms\n",
      "968:\tlearn: 0.1097608\ttest: 0.4410599\tbest: 0.3430967 (56)\ttotal: 19.4s\tremaining: 621ms\n",
      "969:\tlearn: 0.1096254\ttest: 0.4411765\tbest: 0.3430967 (56)\ttotal: 19.4s\tremaining: 601ms\n",
      "970:\tlearn: 0.1095163\ttest: 0.4412727\tbest: 0.3430967 (56)\ttotal: 19.4s\tremaining: 581ms\n",
      "971:\tlearn: 0.1094418\ttest: 0.4415287\tbest: 0.3430967 (56)\ttotal: 19.5s\tremaining: 561ms\n",
      "972:\tlearn: 0.1092791\ttest: 0.4414839\tbest: 0.3430967 (56)\ttotal: 19.5s\tremaining: 541ms\n",
      "973:\tlearn: 0.1092125\ttest: 0.4414449\tbest: 0.3430967 (56)\ttotal: 19.5s\tremaining: 521ms\n",
      "974:\tlearn: 0.1091178\ttest: 0.4414970\tbest: 0.3430967 (56)\ttotal: 19.5s\tremaining: 501ms\n",
      "975:\tlearn: 0.1090821\ttest: 0.4417159\tbest: 0.3430967 (56)\ttotal: 19.5s\tremaining: 480ms\n",
      "976:\tlearn: 0.1089145\ttest: 0.4413706\tbest: 0.3430967 (56)\ttotal: 19.5s\tremaining: 460ms\n",
      "977:\tlearn: 0.1088076\ttest: 0.4414901\tbest: 0.3430967 (56)\ttotal: 19.6s\tremaining: 440ms\n",
      "978:\tlearn: 0.1086006\ttest: 0.4415268\tbest: 0.3430967 (56)\ttotal: 19.6s\tremaining: 420ms\n",
      "979:\tlearn: 0.1084655\ttest: 0.4416953\tbest: 0.3430967 (56)\ttotal: 19.6s\tremaining: 400ms\n",
      "980:\tlearn: 0.1083696\ttest: 0.4419242\tbest: 0.3430967 (56)\ttotal: 19.6s\tremaining: 380ms\n",
      "981:\tlearn: 0.1083247\ttest: 0.4418361\tbest: 0.3430967 (56)\ttotal: 19.6s\tremaining: 360ms\n",
      "982:\tlearn: 0.1081841\ttest: 0.4414623\tbest: 0.3430967 (56)\ttotal: 19.6s\tremaining: 340ms\n",
      "983:\tlearn: 0.1080898\ttest: 0.4417589\tbest: 0.3430967 (56)\ttotal: 19.7s\tremaining: 320ms\n",
      "984:\tlearn: 0.1079432\ttest: 0.4418593\tbest: 0.3430967 (56)\ttotal: 19.7s\tremaining: 300ms\n",
      "985:\tlearn: 0.1077892\ttest: 0.4418613\tbest: 0.3430967 (56)\ttotal: 19.7s\tremaining: 280ms\n",
      "986:\tlearn: 0.1077321\ttest: 0.4420481\tbest: 0.3430967 (56)\ttotal: 19.7s\tremaining: 259ms\n",
      "987:\tlearn: 0.1075777\ttest: 0.4422476\tbest: 0.3430967 (56)\ttotal: 19.7s\tremaining: 239ms\n",
      "988:\tlearn: 0.1074600\ttest: 0.4424758\tbest: 0.3430967 (56)\ttotal: 19.8s\tremaining: 220ms\n",
      "989:\tlearn: 0.1074177\ttest: 0.4423651\tbest: 0.3430967 (56)\ttotal: 19.8s\tremaining: 200ms\n",
      "990:\tlearn: 0.1072034\ttest: 0.4424376\tbest: 0.3430967 (56)\ttotal: 19.9s\tremaining: 180ms\n",
      "991:\tlearn: 0.1069982\ttest: 0.4428520\tbest: 0.3430967 (56)\ttotal: 19.9s\tremaining: 160ms\n",
      "992:\tlearn: 0.1069020\ttest: 0.4428846\tbest: 0.3430967 (56)\ttotal: 19.9s\tremaining: 140ms\n",
      "993:\tlearn: 0.1067214\ttest: 0.4428615\tbest: 0.3430967 (56)\ttotal: 19.9s\tremaining: 120ms\n",
      "994:\tlearn: 0.1066575\ttest: 0.4430289\tbest: 0.3430967 (56)\ttotal: 19.9s\tremaining: 100ms\n",
      "995:\tlearn: 0.1065003\ttest: 0.4430952\tbest: 0.3430967 (56)\ttotal: 20s\tremaining: 80.1ms\n",
      "996:\tlearn: 0.1064038\ttest: 0.4432069\tbest: 0.3430967 (56)\ttotal: 20s\tremaining: 60.1ms\n",
      "997:\tlearn: 0.1063059\ttest: 0.4435379\tbest: 0.3430967 (56)\ttotal: 20s\tremaining: 40ms\n",
      "998:\tlearn: 0.1060614\ttest: 0.4436157\tbest: 0.3430967 (56)\ttotal: 20s\tremaining: 20ms\n",
      "999:\tlearn: 0.1059990\ttest: 0.4432554\tbest: 0.3430967 (56)\ttotal: 20s\tremaining: 0us\n",
      "\n",
      "bestTest = 0.3430967364\n",
      "bestIteration = 56\n",
      "\n",
      "Shrink model to first 57 iterations.\n"
     ]
    },
    {
     "data": {
      "text/plain": "<catboost.core.CatBoostClassifier at 0x16a4ce73a90>"
     },
     "execution_count": 67,
     "metadata": {},
     "output_type": "execute_result"
    }
   ],
   "source": [
    "from catboost import CatBoostClassifier\n",
    "clf = CatBoostClassifier(\n",
    "    iterations=1000,\n",
    "    learning_rate=0.3, \n",
    "    loss_function='Logloss',\n",
    "    custom_loss=['AUC', 'Accuracy']\n",
    " )\n",
    "clf.fit(\n",
    "\n",
    "    X_tr, y_tr,\n",
    "    eval_set=(x_ts, y_ts),\n",
    "    verbose=True,\n",
    "    plot=True\n",
    ")"
   ]
  },
  {
   "cell_type": "code",
   "execution_count": 68,
   "id": "senior-library",
   "metadata": {},
   "outputs": [
    {
     "data": {
      "text/plain": "0.86"
     },
     "execution_count": 68,
     "metadata": {},
     "output_type": "execute_result"
    }
   ],
   "source": [
    "clf.score(x_ts, y_ts).round(2)"
   ]
  },
  {
   "cell_type": "code",
   "execution_count": 69,
   "id": "1ae3089f",
   "metadata": {},
   "outputs": [
    {
     "name": "stderr",
     "output_type": "stream",
     "text": [
      "c:\\users\\qodirjon\\appdata\\local\\programs\\python\\python39\\lib\\site-packages\\sklearn\\neural_network\\_multilayer_perceptron.py:619: UserWarning: Training interrupted by user.\n",
      "  warnings.warn(\"Training interrupted by user.\")\n"
     ]
    },
    {
     "data": {
      "text/plain": "0.8534086895090074"
     },
     "execution_count": 69,
     "metadata": {},
     "output_type": "execute_result"
    }
   ],
   "source": [
    "from sklearn.neural_network import MLPClassifier\n",
    "neuralnet = MLPClassifier()\n",
    "neuralnet.fit(X_tr, y_tr)\n",
    "neuralnet.score(x_ts, y_ts)"
   ]
  },
  {
   "cell_type": "code",
   "execution_count": null,
   "id": "7dcefdd1",
   "metadata": {
    "pycharm": {
     "is_executing": true
    }
   },
   "outputs": [
    {
     "ename": "KeyboardInterrupt",
     "evalue": "",
     "output_type": "error",
     "traceback": [
      "\u001B[1;31m---------------------------------------------------------------------------\u001B[0m",
      "\u001B[1;31mKeyboardInterrupt\u001B[0m                         Traceback (most recent call last)",
      "\u001B[1;32m<ipython-input-70-e923262862a5>\u001B[0m in \u001B[0;36m<module>\u001B[1;34m\u001B[0m\n\u001B[0;32m      1\u001B[0m \u001B[1;31m# Самый высокий резултат модел бустинга, нейроние сети и svm\u001B[0m\u001B[1;33m\u001B[0m\u001B[1;33m\u001B[0m\u001B[1;33m\u001B[0m\u001B[0m\n\u001B[1;32m----> 2\u001B[1;33m \u001B[0ma\u001B[0m \u001B[1;33m=\u001B[0m \u001B[0mclf\u001B[0m\u001B[1;33m.\u001B[0m\u001B[0mscore\u001B[0m\u001B[1;33m(\u001B[0m\u001B[0mx_ts\u001B[0m\u001B[1;33m,\u001B[0m \u001B[0my_ts\u001B[0m\u001B[1;33m)\u001B[0m\u001B[1;33m.\u001B[0m\u001B[0mround\u001B[0m\u001B[1;33m(\u001B[0m\u001B[1;36m2\u001B[0m\u001B[1;33m)\u001B[0m\u001B[1;33m*\u001B[0m\u001B[1;36m100\u001B[0m\u001B[1;33m\u001B[0m\u001B[1;33m\u001B[0m\u001B[0m\n\u001B[0m\u001B[0;32m      3\u001B[0m \u001B[0mb\u001B[0m \u001B[1;33m=\u001B[0m \u001B[0mneuralnet\u001B[0m\u001B[1;33m.\u001B[0m\u001B[0mscore\u001B[0m\u001B[1;33m(\u001B[0m\u001B[0mx_ts\u001B[0m\u001B[1;33m,\u001B[0m \u001B[0my_ts\u001B[0m\u001B[1;33m)\u001B[0m\u001B[1;33m.\u001B[0m\u001B[0mround\u001B[0m\u001B[1;33m(\u001B[0m\u001B[1;36m2\u001B[0m\u001B[1;33m)\u001B[0m\u001B[1;33m*\u001B[0m\u001B[1;36m100\u001B[0m\u001B[1;33m\u001B[0m\u001B[1;33m\u001B[0m\u001B[0m\n\u001B[0;32m      4\u001B[0m \u001B[0mc\u001B[0m \u001B[1;33m=\u001B[0m \u001B[0mneighbors\u001B[0m\u001B[1;33m.\u001B[0m\u001B[0mscore\u001B[0m\u001B[1;33m(\u001B[0m\u001B[0mx_ts\u001B[0m\u001B[1;33m,\u001B[0m \u001B[0my_ts\u001B[0m\u001B[1;33m)\u001B[0m\u001B[1;33m.\u001B[0m\u001B[0mround\u001B[0m\u001B[1;33m(\u001B[0m\u001B[1;36m2\u001B[0m\u001B[1;33m)\u001B[0m\u001B[1;33m*\u001B[0m\u001B[1;36m100\u001B[0m\u001B[1;33m\u001B[0m\u001B[1;33m\u001B[0m\u001B[0m\n\u001B[0;32m      5\u001B[0m \u001B[0md\u001B[0m \u001B[1;33m=\u001B[0m \u001B[0mnaive_bayes\u001B[0m\u001B[1;33m.\u001B[0m\u001B[0mscore\u001B[0m\u001B[1;33m(\u001B[0m\u001B[0mx_ts\u001B[0m\u001B[1;33m,\u001B[0m \u001B[0my_ts\u001B[0m\u001B[1;33m)\u001B[0m\u001B[1;33m.\u001B[0m\u001B[0mround\u001B[0m\u001B[1;33m(\u001B[0m\u001B[1;36m2\u001B[0m\u001B[1;33m)\u001B[0m\u001B[1;33m*\u001B[0m\u001B[1;36m100\u001B[0m\u001B[1;33m\u001B[0m\u001B[1;33m\u001B[0m\u001B[0m\n",
      "\u001B[1;32mc:\\users\\qodirjon\\appdata\\local\\programs\\python\\python39\\lib\\site-packages\\catboost\\core.py\u001B[0m in \u001B[0;36mscore\u001B[1;34m(self, X, y)\u001B[0m\n\u001B[0;32m   4990\u001B[0m             \u001B[1;32melif\u001B[0m \u001B[0mnp\u001B[0m\u001B[1;33m.\u001B[0m\u001B[0missubdtype\u001B[0m\u001B[1;33m(\u001B[0m\u001B[0my\u001B[0m\u001B[1;33m.\u001B[0m\u001B[0mdtype\u001B[0m\u001B[1;33m,\u001B[0m \u001B[0mnp\u001B[0m\u001B[1;33m.\u001B[0m\u001B[0mbool_\u001B[0m\u001B[1;33m)\u001B[0m\u001B[1;33m:\u001B[0m\u001B[1;33m\u001B[0m\u001B[1;33m\u001B[0m\u001B[0m\n\u001B[0;32m   4991\u001B[0m                 \u001B[1;32mraise\u001B[0m \u001B[0mCatBoostError\u001B[0m\u001B[1;33m(\u001B[0m\u001B[1;34m'predicted classes have string type but specified y is boolean'\u001B[0m\u001B[1;33m)\u001B[0m\u001B[1;33m\u001B[0m\u001B[1;33m\u001B[0m\u001B[0m\n\u001B[1;32m-> 4992\u001B[1;33m         \u001B[1;32mreturn\u001B[0m \u001B[0mnp\u001B[0m\u001B[1;33m.\u001B[0m\u001B[0mmean\u001B[0m\u001B[1;33m(\u001B[0m\u001B[0mnp\u001B[0m\u001B[1;33m.\u001B[0m\u001B[0marray\u001B[0m\u001B[1;33m(\u001B[0m\u001B[0mpredicted_classes\u001B[0m\u001B[1;33m)\u001B[0m \u001B[1;33m==\u001B[0m \u001B[0mnp\u001B[0m\u001B[1;33m.\u001B[0m\u001B[0marray\u001B[0m\u001B[1;33m(\u001B[0m\u001B[0my\u001B[0m\u001B[1;33m)\u001B[0m\u001B[1;33m)\u001B[0m\u001B[1;33m\u001B[0m\u001B[1;33m\u001B[0m\u001B[0m\n\u001B[0m\u001B[0;32m   4993\u001B[0m \u001B[1;33m\u001B[0m\u001B[0m\n\u001B[0;32m   4994\u001B[0m     \u001B[1;32mdef\u001B[0m \u001B[0mset_probability_threshold\u001B[0m\u001B[1;33m(\u001B[0m\u001B[0mself\u001B[0m\u001B[1;33m,\u001B[0m \u001B[0mbinclass_probability_threshold\u001B[0m\u001B[1;33m=\u001B[0m\u001B[1;32mNone\u001B[0m\u001B[1;33m)\u001B[0m\u001B[1;33m:\u001B[0m\u001B[1;33m\u001B[0m\u001B[1;33m\u001B[0m\u001B[0m\n",
      "\u001B[1;31mKeyboardInterrupt\u001B[0m: "
     ]
    }
   ],
   "source": [
    "# Самый высокий резултат модел бустинга, нейроние сети и svm\n",
    "a = clf.score(x_ts, y_ts).round(2)*100\n",
    "b = neuralnet.score(x_ts, y_ts).round(2)*100\n",
    "c = neighbors.score(x_ts, y_ts).round(2)*100\n",
    "d = naive_bayes.score(x_ts, y_ts).round(2)*100\n",
    "f = svm.score(x_ts, y_ts).round(2)*100\n",
    "e = log.score(x_ts, y_ts).round(2)*100\n",
    "g = forest.score(x_ts, y_ts).round(2)*100\n",
    "print(f\"Бустинг {a} %\")\n",
    "print(f\"Нeйронные сети {b} %\")\n",
    "print(f\"Соседи {c} %\")\n",
    "print(f\"Наивный Байес {d} %\")\n",
    "print(f\"SVM - векторная {f} %\")\n",
    "print(f\"Логическая регресия {e} %\")\n",
    "print(f\"Случайный лес {g} %\")"
   ]
  },
  {
   "cell_type": "code",
   "execution_count": null,
   "id": "interior-physiology",
   "metadata": {
    "pycharm": {
     "is_executing": true
    }
   },
   "outputs": [],
   "source": [
    "y = clf.predict(x_ts)\n",
    "y2 = neuralnet.predict(x_ts)\n",
    "y3 = svm.predict(x_ts)"
   ]
  },
  {
   "cell_type": "code",
   "execution_count": null,
   "id": "cdaa4e22",
   "metadata": {
    "pycharm": {
     "is_executing": true
    }
   },
   "outputs": [],
   "source": [
    "from sklearn.metrics import classification_report, confusion_matrix, silhouette_score\n",
    "print(classification_report(y_ts, y))\n",
    "\n"
   ]
  },
  {
   "cell_type": "code",
   "execution_count": null,
   "id": "coated-resistance",
   "metadata": {
    "pycharm": {
     "is_executing": true
    }
   },
   "outputs": [],
   "source": [
    "print(confusion_matrix(y_ts, y))"
   ]
  },
  {
   "cell_type": "code",
   "execution_count": null,
   "id": "foreign-penalty",
   "metadata": {
    "pycharm": {
     "is_executing": true
    }
   },
   "outputs": [],
   "source": [
    "print(classification_report(y_ts, y2))"
   ]
  },
  {
   "cell_type": "code",
   "execution_count": null,
   "id": "vertical-portal",
   "metadata": {
    "pycharm": {
     "is_executing": true
    }
   },
   "outputs": [],
   "source": [
    "print(confusion_matrix(y_ts, y2))"
   ]
  },
  {
   "cell_type": "code",
   "execution_count": null,
   "id": "exotic-vegetation",
   "metadata": {
    "pycharm": {
     "is_executing": true
    }
   },
   "outputs": [],
   "source": [
    "print(classification_report(y_ts, y3))"
   ]
  },
  {
   "cell_type": "code",
   "execution_count": null,
   "id": "composite-promise",
   "metadata": {
    "pycharm": {
     "is_executing": true
    }
   },
   "outputs": [],
   "source": [
    "print(confusion_matrix(y_ts, y3))"
   ]
  },
  {
   "cell_type": "code",
   "execution_count": null,
   "id": "swiss-michigan",
   "metadata": {
    "pycharm": {
     "is_executing": true
    }
   },
   "outputs": [],
   "source": [
    "# Две наилучшие модели Модел бустинга и Нейроные сети\n",
    "# a = clf.score(x_ts, y_ts).round(2)*100\n",
    "# b = neuralnet.score(x_ts, y_ts).round(2)*100\n",
    "print(f\"Бустинг {a} %\")\n",
    "print(f\"Нeйронные сети {b} %\")"
   ]
  }
 ],
 "metadata": {
  "kernelspec": {
   "display_name": "Python 3",
   "language": "python",
   "name": "python3"
  },
  "language_info": {
   "codemirror_mode": {
    "name": "ipython",
    "version": 3
   },
   "file_extension": ".py",
   "mimetype": "text/x-python",
   "name": "python",
   "nbconvert_exporter": "python",
   "pygments_lexer": "ipython3",
   "version": "3.9.6"
  }
 },
 "nbformat": 4,
 "nbformat_minor": 5
}